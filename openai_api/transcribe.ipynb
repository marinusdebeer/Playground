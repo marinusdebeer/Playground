{
 "cells": [
  {
   "cell_type": "code",
   "execution_count": 36,
   "metadata": {},
   "outputs": [
    {
     "name": "stdout",
     "output_type": "stream",
     "text": [
      "[youtube] mL5wI3tkXkw: Downloading webpage\n"
     ]
    },
    {
     "name": "stderr",
     "output_type": "stream",
     "text": [
      "WARNING: unable to extract uploader id; please report this issue on https://yt-dl.org/bug . Make sure you are using the latest version; see  https://yt-dl.org/update  on how to update. Be sure to call youtube-dl with the --verbose flag and include its complete output.\n"
     ]
    },
    {
     "name": "stdout",
     "output_type": "stream",
     "text": [
      "[download] Destination: chatgpt_inside_the_latest_version.m4a\n",
      "[download] 100% of 6.28MiB in 01:2775KiB/s ETA 00:009\n",
      "[ffmpeg] Correcting container in \"chatgpt_inside_the_latest_version.m4a\"\n",
      "[ffmpeg] Destination: chatgpt_inside_the_latest_version.mp3\n",
      "Deleting original file chatgpt_inside_the_latest_version.m4a (pass -k to keep)\n"
     ]
    },
    {
     "data": {
      "text/plain": [
       "CompletedProcess(args=\"youtube-dl -x --audio-format mp3 -o 'chatgpt_inside_the_latest_version.%(ext)s' https://youtu.be/mL5wI3tkXkw\", returncode=0)"
      ]
     },
     "execution_count": 36,
     "metadata": {},
     "output_type": "execute_result"
    }
   ],
   "source": [
    "import subprocess\n",
    "\n",
    "# Define the command and its arguments\n",
    "command = \"youtube-dl\"\n",
    "options = \"-x --audio-format mp3 -o 'chatgpt_inside_the_latest_version.%(ext)s'\"\n",
    "url = \"https://youtu.be/mL5wI3tkXkw\"\n",
    "\n",
    "# Combine the command and its arguments into a single string\n",
    "command_line = f\"{command} {options} {url}\"\n",
    "\n",
    "# Execute the command using subprocess\n",
    "subprocess.run(command_line, shell= )\n"
   ]
  },
  {
   "cell_type": "code",
   "execution_count": null,
   "metadata": {},
   "outputs": [],
   "source": [
    "import os\n",
    "import subprocess\n",
    "import openai\n",
    "import textwrap\n",
    "\n",
    "input_file = \"/Users/marinus/Desktop/Development/Playground/lex_sam_altman.mp3\"\n",
    "output_folder = \"lex_sam\"\n",
    "chunk_duration = 300*7  # Duration of each chunk in seconds"
   ]
  },
  {
   "cell_type": "code",
   "execution_count": null,
   "metadata": {},
   "outputs": [],
   "source": [
    "if not os.path.exists(output_folder):\n",
    "    os.makedirs(output_folder)\n",
    "\n",
    "command = f\"ffmpeg -i {input_file} -f segment -segment_time {chunk_duration} -c copy {output_folder}/audio/part_%1d.mp3\"\n",
    "subprocess.call(command, shell=True)"
   ]
  },
  {
   "cell_type": "code",
   "execution_count": 37,
   "metadata": {},
   "outputs": [],
   "source": [
    "file = open(\"chatgpt_inside_the_latest_version.mp3\", \"rb\")\n",
    "# file = open(\"output0.mp3\", \"rb\")\n",
    "transcription = \"\\n\" + openai.Audio.transcribe(\"whisper-1\", file).text"
   ]
  },
  {
   "cell_type": "code",
   "execution_count": 38,
   "metadata": {},
   "outputs": [
    {
     "name": "stdout",
     "output_type": "stream",
     "text": [
      " Turn now to the ABC News exclusive tonight. We take you inside the company called OpenAI, Artificial Intelligence,\n",
      "their new technology, GPT-4, and even if you haven't heard of it, how it could soon affect your life. Tonight, what that\n",
      "technology can now do from passing the bar exam to answering SAT questions, even suggesting recipes by simply looking at\n",
      "a photo of what you have in your refrigerator. And tonight, here are the very serious questions as well about the risk\n",
      "this technology could also pose and could jobs be at risk as well. Here's our chief business correspondent, Rebecca\n",
      "Jarvis. Tonight, we take you inside the headquarters of a small company in San Francisco called OpenAI, creators of\n",
      "ChatGPT. Even if you haven't heard of it, your life could soon be impacted by this powerful new technology built with\n",
      "artificial intelligence. Just this week, OpenAI unveiling its newest version, which can answer complex questions in\n",
      "seconds. It can write speeches, take tests. We learned it can now even pass the bar exam to become a lawyer, placing in\n",
      "the top 10%. They believe it could one day help doctors spot disease that the human eye or mind might miss. The CEO, Sam\n",
      "Altman, is just 37. GPT stands for Generative Pre-trained Transformer that just rolls right off the tongue. Right off\n",
      "the tongue. Yeah, we really named that well, you know. How does it work? By ingesting a huge amount of text, you know, a\n",
      "significant fraction of the internet, this AI system can learn the underlying representations of what these words mean,\n",
      "how they relate, do a little bit of something that is sort of like reasoning, sort of like understanding what you as a\n",
      "user want, some of the time, not always, not perfectly, and try to help you. What changes because of artificial\n",
      "intelligence? Part of the exciting thing here is we get continually surprised by the creative power of all of society. I\n",
      "think that word surprise, though, it's both exhilarating as well as terrifying to people. I think people should be happy\n",
      "that we're a little bit scared of this. I think people should be happy. You're a little bit scared. A little bit, yeah,\n",
      "of course. You personally. I think if I said I were not, you should either not trust me or be very unhappy I'm in this\n",
      "job. Concerned because they acknowledge even they don't know the full power of what they've created. OpenAI's Chief\n",
      "Technology Officer, Mira Murati, shows us the new version out this week. Just listen as I ask a complicated SAT\n",
      "question. Lisa gives her brother Sam a 15-second head start in a 300-meter race. During the race, Sam runs at an average\n",
      "speed of five meters per second. Lisa runs at an average speed of eight meters per second, not including the head start.\n",
      "Since the last time Lisa started running, which of the following best approximates the number of seconds that had passed\n",
      "when Lisa caught up to Sam? Within seconds, it answers correctly. The answer is B, 25 seconds. And so we pressed about\n",
      "the potential for cheating. You have, this technology can beat most humans at the SATs, the bar exam. How should schools\n",
      "be integrating this technology in a way that doesn't increase cheating, that doesn't increase laziness among students?\n",
      "Education is going to have to change, but it's happened many other times with technology. When we got the calculator,\n",
      "the way we taught math and what we tested students on, that totally changed. The promise of this technology, one of the\n",
      "ones that I'm most excited about, is the ability to provide individual learning, great individual learning for each\n",
      "student. They argue the eventual benefits outweigh the negatives. Take for example, your taxes. We gave ChatGBT the tax\n",
      "information for a typical family of three and chose a recent year, giving it pages and pages of tax code. I'm copying\n",
      "the tax law here. It's a few pages long. So you're copying tax law, just multiple pages of tax law. And within seconds,\n",
      "the standard deduction. GBT-4 says it's $24,000. Which was correct. And tonight, a first look at what the technology can\n",
      "actually see. Watch as we take a photo of what's inside this refrigerator. The technology analyzes what's there. I see\n",
      "that you have some bread, some mozzarella cheese, tomatoes, and mayonnaise. You can make a simple grilled cheese\n",
      "sandwich with these ingredients. You can make a strawberry toast by spreading the raspberry fruit spread on the bread\n",
      "and topping it with sliced strawberries. Perfect. Providing a recipe. But is this also a recipe for something else?\n",
      "Replacing jobs with technology. You've said AI will likely eliminate millions of jobs. Many people are gonna ask, why on\n",
      "earth did you create this technology? I think it can do the opposite of all of those things too. It is going to\n",
      "eliminate a lot of current jobs, that's true. We can make much better ones. The reason to develop AI at all is that I\n",
      "believe this will be, in terms of impact on our lives and improving our lives and upside, this will be the greatest\n",
      "technology humanity has yet developed. So in the wrong human hands, it could be a very different device. It could be a\n",
      "very different power. We do worry a lot about authoritarian governments developing this and using it. Russia, China. Are\n",
      "you speaking to the government? Oh yes. You're in regular contact. Regular contact. And do you think they get it? More\n",
      "and more every day. This is really something, a lot of truth there about the potential dangers of this artificial\n",
      "intelligence. And it would seem they're trying to sound the alarm to the US government about Russia and China wanting to\n",
      "get their hands on this because it's here. Have they talked to the Biden administration about this? David, Sam Altman\n",
      "tells me they're in consistent contact. And the reason here is that this is an AI arms race. Everybody wants this\n",
      "technology. Whoever controls this technology has huge control over our future and our lives. I know a lot of people at\n",
      "home are just gonna go to chat GPT online and try to test this out. By the way, the recipe part of this is part of our\n",
      "exclusive, not yet out for the general public, but it's coming. The future is here. Rebecca, I know you're gonna have\n",
      "much more coming up tonight on Nightline, including this notion that this technology could help doctors in the future as\n",
      "well. But of course, the dangers there, we'll get into that with Rebecca later tonight on Nightline. Thank you, Rebecca\n",
      "and the team. Hi everyone, George Stephanopoulos here. Thanks for checking out the ABC News YouTube channel. If you'd\n",
      "like to get more videos, show highlights, and watch live event coverage, click on the right over here to subscribe to\n",
      "our channel. And don't forget to download the ABC News app for breaking news alerts. Thanks for watching.\n"
     ]
    }
   ],
   "source": [
    "wrapped_lines = [textwrap.fill(line, width=120) for line in [transcription]]\n",
    "wrapped = '\\n'.join(wrapped_lines)\n",
    "print(wrapped)"
   ]
  },
  {
   "cell_type": "code",
   "execution_count": null,
   "metadata": {},
   "outputs": [],
   "source": [
    "with open(f'{output_folder}/transcript.txt', 'a') as file:\n",
    "    file.write(wrapped)"
   ]
  },
  {
   "cell_type": "code",
   "execution_count": null,
   "metadata": {},
   "outputs": [],
   "source": [
    "input_file_path = f'{output_folder}/transcript.txt'\n",
    "output_file_path = f'{output_folder}/output.txt'\n",
    "\n",
    "# Read the content of the input file\n",
    "with open(input_file_path, 'r') as input_file:\n",
    "    content = input_file.read()\n",
    "\n",
    "# Replace newline characters with empty strings\n",
    "content_without_newlines = content.replace('\\n', '')\n",
    "\n",
    "# Write the modified content to the output file\n",
    "with open(output_file_path, 'w') as output_file:\n",
    "    output_file.write(content_without_newlines)\n"
   ]
  }
 ],
 "metadata": {
  "kernelspec": {
   "display_name": "venv",
   "language": "python",
   "name": "python3"
  },
  "language_info": {
   "codemirror_mode": {
    "name": "ipython",
    "version": 3
   },
   "file_extension": ".py",
   "mimetype": "text/x-python",
   "name": "python",
   "nbconvert_exporter": "python",
   "pygments_lexer": "ipython3",
   "version": "3.10.9"
  },
  "orig_nbformat": 4
 },
 "nbformat": 4,
 "nbformat_minor": 2
}
