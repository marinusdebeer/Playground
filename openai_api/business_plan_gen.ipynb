{
 "cells": [
  {
   "cell_type": "code",
   "execution_count": 1,
   "metadata": {},
   "outputs": [
    {
     "data": {
      "text/plain": [
       "True"
      ]
     },
     "execution_count": 1,
     "metadata": {},
     "output_type": "execute_result"
    }
   ],
   "source": [
    "import openai\n",
    "import os\n",
    "from dotenv import load_dotenv\n",
    "load_dotenv()"
   ]
  },
  {
   "cell_type": "code",
   "execution_count": 2,
   "metadata": {},
   "outputs": [],
   "source": [
    "BUSINESS = \"small scale gpu rental on cloud\"\n",
    "PREMISE = \"humans discovering a way to travel/colonize exo planets\""
   ]
  },
  {
   "cell_type": "code",
   "execution_count": 3,
   "metadata": {},
   "outputs": [],
   "source": [
    "def write_to_file(text, filename=\"novel3.txt\"):\n",
    "  with open(f\"{filename}\", \"a\") as f:\n",
    "    f.write(text+\"\\n\\n\")"
   ]
  },
  {
   "cell_type": "code",
   "execution_count": 4,
   "metadata": {},
   "outputs": [],
   "source": [
    "import IPython.display as display\n",
    "def chat(prompt, context=\"\", model=\"gpt-3.5-turbo-16k\", i=1):\n",
    "\n",
    "    # display.display(display.Markdown(f\"# Context:\\n{context}\\n# Prompt:\\n{prompt}\"))\n",
    "    # input(\"Press Enter to continue...\")\n",
    "    # display.clear_output(wait=True)\n",
    "\n",
    "    with open(f\"prompt{i}\", \"a\") as f:\n",
    "        f.write(f\"# Context:\\n{context}\\n# Prompt:\\n{prompt}\")\n",
    "\n",
    "    response = openai.ChatCompletion.create(\n",
    "        # model=\"gpt-4\",\n",
    "        model=model,\n",
    "        messages=[\n",
    "            # {\"role\": \"system\", \"content\": f\"You are a business plan maker. {context}\"},\n",
    "            {\"role\": \"system\", \"content\": f\"You are a novel writer. {context}\"},\n",
    "            {\"role\": \"user\", \"content\": prompt},\n",
    "        ]\n",
    "    )\n",
    "    return response.choices[0].message.content"
   ]
  },
  {
   "cell_type": "code",
   "execution_count": 5,
   "metadata": {},
   "outputs": [
    {
     "name": "stdout",
     "output_type": "stream",
     "text": [
      "Table of Contents\n",
      "\n",
      "1. Prologue: The Stars Beckon \n",
      "2. Chapter 1: Quantum Dreams, Scientific Reality\n",
      "3. Chapter 2: Breaking the Space-Time Barriers \n",
      "4. Chapter 3: The Exodus Initiative \n",
      "5. Chapter 4: Assembling the Pioneer Legion\n",
      "6. Chapter 5: Engines of Ingenious Innovation \n",
      "7. Chapter 6: The Starship - A Leap of Faith\n",
      "8. Chapter 7: Liftoff and the Great Beyond\n",
      "9. Chapter 8: Voyage through the Cosmos\n",
      "10. Chapter 9: First Contact - An Alien World \n",
      "11. Chapter 10: Establishing Base Alpha\n",
      "12. Chapter 11: Survival in Alien Conditions \n",
      "13. Chapter 12: Xenobiology - Life Beyond Earth\n",
      "14. Chapter 13: Terraforming Trials \n",
      "15. Chapter 14: Colonization Commences\n",
      "16. Chapter 15: Arrival of the Second Wave \n",
      "17. Chapter 16: Metropolis Among the Stars \n",
      "18. Chapter 17: Friction - The Native Dilemma\n",
      "19. Chapter 18: Diplomacy or Dominance - An Ethical Standoff\n",
      "20. Chapter 19: Battle for Elysium \n",
      "21. Chapter 20: An Interstellar Diplomacy \n",
      "22. Chapter 21: Lessons from the Cosmos \n",
      "23. Chapter 22: Future of the Spacefaring Civilization\n",
      "24. Epilogue: A Home Among the Stars \n",
      "\n",
      "Acknowledgments \n",
      "Appendix\n",
      "Author's Notes\n",
      "\n"
     ]
    }
   ],
   "source": [
    "# message = f\"Generate the table of contents for a {BUSINESS} business. Number all the different sections\"\n",
    "message = f\"Generate the table of contents for a sci-fi novel about {PREMISE}\"\n",
    "response = chat(prompt=message, model=\"gpt-4\")\n",
    "write_to_file(text=response)\n",
    "sections = response.split(\"\\n\")\n",
    "sections = [item.strip() for item in sections if item.strip() != \"\"]\n",
    "print(response)"
   ]
  },
  {
   "cell_type": "code",
   "execution_count": 6,
   "metadata": {},
   "outputs": [
    {
     "name": "stdout",
     "output_type": "stream",
     "text": [
      "['Table of Contents', '1. Prologue: The Stars Beckon', '2. Chapter 1: Quantum Dreams, Scientific Reality', '3. Chapter 2: Breaking the Space-Time Barriers', '4. Chapter 3: The Exodus Initiative', '5. Chapter 4: Assembling the Pioneer Legion', '6. Chapter 5: Engines of Ingenious Innovation', '7. Chapter 6: The Starship - A Leap of Faith', '8. Chapter 7: Liftoff and the Great Beyond', '9. Chapter 8: Voyage through the Cosmos', '10. Chapter 9: First Contact - An Alien World', '11. Chapter 10: Establishing Base Alpha', '12. Chapter 11: Survival in Alien Conditions', '13. Chapter 12: Xenobiology - Life Beyond Earth', '14. Chapter 13: Terraforming Trials', '15. Chapter 14: Colonization Commences', '16. Chapter 15: Arrival of the Second Wave', '17. Chapter 16: Metropolis Among the Stars', '18. Chapter 17: Friction - The Native Dilemma', '19. Chapter 18: Diplomacy or Dominance - An Ethical Standoff', '20. Chapter 19: Battle for Elysium', '21. Chapter 20: An Interstellar Diplomacy', '22. Chapter 21: Lessons from the Cosmos', '23. Chapter 22: Future of the Spacefaring Civilization', '24. Epilogue: A Home Among the Stars', 'Acknowledgments', 'Appendix', \"Author's Notes\"]\n"
     ]
    }
   ],
   "source": [
    "print(sections)"
   ]
  },
  {
   "cell_type": "code",
   "execution_count": null,
   "metadata": {},
   "outputs": [],
   "source": [
    "grouped = {}\n",
    "\n",
    "for section in sections:\n",
    "    # Split the section name by space to separate the numbers and the title\n",
    "    section_number, *title_parts = section.split(' ')\n",
    "    title = ' '.join(title_parts)\n",
    "\n",
    "    # Split the section number by '.' to separate the main and sub-section numbers\n",
    "    main_number, _, sub_number = section_number.partition('.')\n",
    "\n",
    "    # If main section, create a new entry in the dictionary\n",
    "    if not sub_number:\n",
    "        grouped[main_number] = {'title': title, 'subsections': []}\n",
    "    else:\n",
    "        # Add subsection to the relevant main section's 'subsections' list\n",
    "        grouped[main_number]['subsections'].append(title)\n",
    "\n",
    "for main, content in grouped.items():\n",
    "    print(f\"{main}. {content['title']}\")\n",
    "    for sub in content['subsections']:\n",
    "        print(f\"{main}.{content['subsections'].index(sub) + 1} {sub}\")\n",
    "    print()\n"
   ]
  },
  {
   "cell_type": "code",
   "execution_count": null,
   "metadata": {},
   "outputs": [],
   "source": [
    "print(grouped)"
   ]
  },
  {
   "cell_type": "code",
   "execution_count": null,
   "metadata": {},
   "outputs": [],
   "source": [
    "print(str(list(grouped.values())[0]))"
   ]
  },
  {
   "cell_type": "code",
   "execution_count": 7,
   "metadata": {},
   "outputs": [
    {
     "name": "stdout",
     "output_type": "stream",
     "text": [
      "Prologue: The Stars Beckon\n",
      "In the prologue, the story opens with a breathtaking scene of a distant galaxy, where a team of intrepid astronomers stumbles upon a promising exoplanet that may support human life. This discovery ignites the imagination of the protagonist, Dr. Elizabeth Parker, and sets the stage for the adventure that lies ahead.\n",
      "\n",
      "Chapter 1: Quantum Dreams, Scientific Reality\n",
      "Dr. Parker, a brilliant physicist, delves into the world of quantum mechanics, exploring the possibility of interstellar travel through wormholes and manipulating space-time. As she pursues her groundbreaking research, she faces skepticism from the scientific community.\n",
      "\n",
      "Chapter 2: Breaking the Space-Time Barriers\n",
      "Driven by her unwavering determination, Dr. Parker successfully develops a theory that allows for the manipulation of space-time, enabling humans to travel vast distances in the universe. This groundbreaking achievement propels her into the limelight, attracting the attention of governments and space agencies worldwide.\n",
      "\n",
      "Chapter 3: The Exodus Initiative\n",
      "The United Nations establishes an ambitious project called the Exodus Initiative, aiming to colonize distant exoplanets and ensure the survival of humanity. Dr. Parker becomes a key advisor to the initiative, and the process of selecting the first wave of pioneer settlers begins.\n",
      "\n",
      "Chapter 4: Assembling the Pioneer Legion\n",
      "Dr. Parker, alongside a team of experts in various fields, works tirelessly to assemble a diverse group of pioneers who will embark on the historic journey to an exoplanet named Elysium. The selection process is grueling, requiring physical and mental resilience, as well as expertise in a multitude of different areas.\n",
      "\n",
      "Chapter 5: Engines of Ingenious Innovation\n",
      "The Exodus Initiative launches an international effort to develop revolutionary starship engines capable of achieving speeds necessary for interstellar travel. Dr. Parker leads a team of brilliant engineers tasked with constructing the propulsion systems that will propel humanity towards the stars.\n",
      "\n",
      "Chapter 6: The Starship - A Leap of Faith\n",
      "After years of research and development, the magnificent starship, named The Ark, is ready for its maiden voyage. Dr. Parker and her team of scientists prepare for departure, embarking on a treacherous journey with unknown challenges awaiting them in the depths of space.\n",
      "\n",
      "Chapter 7: Liftoff and the Great Beyond\n",
      "With a mix of excitement and trepidation, The Ark embarks on its historic mission, departing Earth and setting a course for Elysium. As they venture further into uncharted territory, the pioneers face various obstacles, both physical and emotional, that put their resolve to the test.\n",
      "\n",
      "Chapter 8: Voyage through the Cosmos\n",
      "The pioneers experience the wonders and dangers of space travel as they navigate through asteroid belts, evade cosmic storms, and survive the physical and psychological toll of long-duration space travel. \n",
      "\n",
      "Chapter 9: First Contact - An Alien World\n",
      "The Ark arrives in orbit around Elysium, revealing a breathtaking world unlike anything they ever imagined. They find evidence of a primitive alien civilization, sparking hope for peaceful coexistence and scientific exploration.\n",
      "\n",
      "Chapter 10: Establishing Base Alpha\n",
      "The pioneers disembark from The Ark and begin construction of their primary settlement, Base Alpha. As they establish the foundations of their new home, they encounter unexpected challenges, including adapting to the planet's unique climate and terrain.\n",
      "\n",
      "Chapter 11: Survival in Alien Conditions\n",
      "The pioneers face a multitude of obstacles as they strive to adapt to the alien environment of Elysium. They must find innovative solutions to ensure their survival, such as cultivating food, combating hostile wildlife, and developing sustainable infrastructure.\n",
      "\n",
      "Chapter 12: Xenobiology - Life Beyond Earth\n",
      "As the pioneers explore Elysium, they make remarkable discoveries about the planet's flora and fauna, revealing the wonders of alien lifeforms. Dr. Parker leads a team of xenobiologists in studying these organisms, unraveling the secrets of life beyond Earth.\n",
      "\n",
      "Chapter 13: Terraforming Trials\n",
      "In an effort to create a more habitable environment, the pioneers embark on ambitious terraforming projects. Through ingenuity and perseverance, they manipulate the planet's climate, transforming Elysium into a more welcoming home for future settlers.\n",
      "\n",
      "Chapter 14: Colonization Commences\n",
      "With the successful establishment of Base Alpha and the stabilization of Elysium's biosphere, the pioneers prepare for the arrival of the second wave of settlers. A wave of excitement ripples through the colony as it expands and thrives with diverse communities and burgeoning industries.\n",
      "\n",
      "Chapter 15: Arrival of the Second Wave\n",
      "The second wave of settlers arrives, bringing with them the skills and knowledge necessary for a thriving society. However, the pioneers face the growing challenge of managing differing ideologies and conflicts arising from the clash of cultures.\n",
      "\n",
      "Chapter 16: Metropolis Among the Stars\n",
      "Base Alpha evolves into a bustling metropolis, with towering structures and advanced technology. The pioneers develop intricate systems to support the growing population and maintain a harmonious balance between progress and preserving the planet's natural beauty.\n",
      "\n",
      "Chapter 17: Friction - The Native Dilemma\n",
      "Tensions arise between the settlers and the native alien civilization. Cultural misunderstandings, resource disputes, and conflicting objectives threaten to escalate the situation into conflict, putting both sides on the brink of disaster.\n",
      "\n",
      "Chapter 18: Diplomacy or Dominance - An Ethical Standoff\n",
      "Dr. Parker finds herself at the center of a heated debate between those advocating for peaceful diplomacy and those favoring a more assertive approach. As she struggles to find a resolution, the fate of both civilizations hangs in the balance.\n",
      "\n",
      "Chapter 19: Battle for Elysium\n",
      "When diplomacy fails, the pioneers are faced with the unimaginable: a full-scale conflict with the native civilization. With lives at stake, Dr. Parker and her allies strive to find a way to resolve the conflict and protect the fragile peace that has been established.\n",
      "\n",
      "Chapter 20: An Interstellar Diplomacy\n",
      "As the conflict on Elysium intensifies, diplomatic efforts are accelerated on a galactic stage. Dr. Parker leads a team of negotiators and mediators, seeking alliances with other alien civilizations to find a peaceful resolution and preserve humanity's place in the cosmos.\n",
      "\n",
      "Chapter 21: Lessons from the Cosmos\n",
      "Through their diverse experiences, the pioneers gain a profound understanding of themselves, their own humanity, and the universe. The lessons they learn will shape not only their own future but also the future of the spacefaring civilization they have created.\n",
      "\n",
      "Chapter 22: Future of the Spacefaring Civilization\n",
      "With Elysium now a thriving colony and interstellar travel becoming more commonplace, the story explores the possibilities of a future filled with vibrant spacefaring civilizations. Dr. Parker speculates on the potential of humanity as it expands its reach further into the cosmos.\n",
      "\n",
      "Epilogue: A Home Among the Stars\n",
      "Dr. Parker reflects on the incredible journey from the humble beginnings of the Exodus Initiative to the establishment of a second home for humanity among the stars. She looks back on the triumphs and tragedies, and with hope for the future, she envisions a universe that holds endless potential.\n",
      "\n",
      "Acknowledgments\n",
      "The author expresses gratitude to the individuals and institutions that supported the creation of this novel, recognizing the countless contributions that made it possible.\n",
      "\n",
      "Appendix\n",
      "Includes supplementary material, such as detailed explanations of the science and technology featured in the novel, as well as further insights into the world-building and character development.\n",
      "\n",
      "Author's Notes\n",
      "The author shares personal reflections on the inspirations and motivations behind the novel, offering insights into the creative process and the themes explored in the story.\n"
     ]
    }
   ],
   "source": [
    "pages = []\n",
    "# message = f\"Generate a detailed Executive Summary for a business plan for a {BUSINESS} business\"\n",
    "message = f\"Write a long detailed summary for a sci-fi novel about {PREMISE} that matches the following table of contents for this book: {response}\"\n",
    "summary = chat(prompt=message)\n",
    "print(summary)\n",
    "pages += [summary]\n",
    "write_to_file(text=summary)"
   ]
  },
  {
   "cell_type": "code",
   "execution_count": null,
   "metadata": {},
   "outputs": [],
   "source": [
    "for i, item in list(grouped.items())[1:]:\n",
    "  print(item)\n",
    "  message = f\"Generate the following sections in detail for the {BUSINESS} business plan: {item}\"\n",
    "  res = chat(prompt=message, context=f\"Use the following as context: {summary}\")\n",
    "  pages += [res]\n",
    "  write_to_file(text=res)"
   ]
  },
  {
   "cell_type": "code",
   "execution_count": 10,
   "metadata": {},
   "outputs": [
    {
     "name": "stdout",
     "output_type": "stream",
     "text": [
      "['16. Chapter 15: Arrival of the Second Wave', '17. Chapter 16: Metropolis Among the Stars', '18. Chapter 17: Friction - The Native Dilemma', '19. Chapter 18: Diplomacy or Dominance - An Ethical Standoff', '20. Chapter 19: Battle for Elysium', '21. Chapter 20: An Interstellar Diplomacy', '22. Chapter 21: Lessons from the Cosmos', '23. Chapter 22: Future of the Spacefaring Civilization', '24. Epilogue: A Home Among the Stars', 'Acknowledgments', 'Appendix', \"Author's Notes\"]\n"
     ]
    }
   ],
   "source": [
    "print(sections[16:])"
   ]
  },
  {
   "cell_type": "code",
   "execution_count": null,
   "metadata": {},
   "outputs": [],
   "source": [
    "print(len(pages))"
   ]
  },
  {
   "cell_type": "code",
   "execution_count": 8,
   "metadata": {},
   "outputs": [
    {
     "name": "stdout",
     "output_type": "stream",
     "text": [
      "1. Prologue: The Stars Beckon\n",
      "2. Chapter 1: Quantum Dreams, Scientific Reality\n",
      "3. Chapter 2: Breaking the Space-Time Barriers\n",
      "4. Chapter 3: The Exodus Initiative\n",
      "5. Chapter 4: Assembling the Pioneer Legion\n",
      "6. Chapter 5: Engines of Ingenious Innovation\n",
      "7. Chapter 6: The Starship - A Leap of Faith\n",
      "8. Chapter 7: Liftoff and the Great Beyond\n",
      "9. Chapter 8: Voyage through the Cosmos\n",
      "10. Chapter 9: First Contact - An Alien World\n",
      "11. Chapter 10: Establishing Base Alpha\n",
      "12. Chapter 11: Survival in Alien Conditions\n",
      "13. Chapter 12: Xenobiology - Life Beyond Earth\n",
      "14. Chapter 13: Terraforming Trials\n",
      "15. Chapter 14: Colonization Commences\n",
      "16. Chapter 15: Arrival of the Second Wave\n",
      "17. Chapter 16: Metropolis Among the Stars\n",
      "18. Chapter 17: Friction - The Native Dilemma\n",
      "19. Chapter 18: Diplomacy or Dominance - An Ethical Standoff\n",
      "20. Chapter 19: Battle for Elysium\n",
      "21. Chapter 20: An Interstellar Diplomacy\n",
      "22. Chapter 21: Lessons from the Cosmos\n",
      "23. Chapter 22: Future of the Spacefaring Civilization\n",
      "24. Epilogue: A Home Among the Stars\n",
      "Acknowledgments\n",
      "Appendix\n",
      "Author's Notes\n"
     ]
    }
   ],
   "source": [
    "i=1\n",
    "for chapter in sections[1:]:\n",
    "  print(chapter)\n",
    "  message = f\"Write a long detailed chapter titled '{chapter}' for a sci-fi novel about {PREMISE}, do not refer to the chapter in the chapter other than for the title\"\n",
    "  if len(pages) == 1:\n",
    "    res = chat(prompt=message, context=f\"Here is a summary of the whole novel:\\n{summary}\", i=i)\n",
    "  elif len(pages) == 2:\n",
    "    res = chat(prompt=message, context=f\"Here is a summary of the whole novel:\\n{summary}\\n\\nAnd here is the previous chapter:\\n{pages[-1]}\", i=i)\n",
    "  else:\n",
    "    res = chat(prompt=message, context=f\"Here is a summary of the whole novel:\\n{summary}\\n\\nAnd here is the previous 2 chapters:\\n{pages[-2]}\\n\\n{pages[-1]}\", i=i)\n",
    "  i += 1\n",
    "  pages += [res]\n",
    "  write_to_file(text=res)"
   ]
  },
  {
   "cell_type": "code",
   "execution_count": null,
   "metadata": {},
   "outputs": [],
   "source": [
    "from elevenlabs import set_api_key\n",
    "import os\n",
    "set_api_key(\"2b38c4806cb40c59482a7192bc52834a\")\n",
    "import openai\n",
    "openai.api_key = os.getenv(\"OPENAI_API_KEY\")\n",
    "from elevenlabs import generate, stream, voices, play\n",
    "response = openai.ChatCompletion.create(\n",
    "        model='gpt-4', \n",
    "        messages=[{'role': 'user', 'content': 'Tell me a short story'}],\n",
    "        temperature=1,\n",
    "        stream=True)\n",
    "def text_iterator():\n",
    "    for chunk in response:\n",
    "      delta = chunk['choices'][0][\"delta\"]\n",
    "      if \"content\" in delta:\n",
    "          print(delta.content, end=\" \")\n",
    "          yield delta[\"content\"]\n",
    "audio_stream = generate(\n",
    "  text=text_iterator(),\n",
    "  stream=True,\n",
    "  voice=\"UNTwJ911HFesFGfyg0mf\"\n",
    ")\n",
    "stream(audio_stream)"
   ]
  }
 ],
 "metadata": {
  "kernelspec": {
   "display_name": "gpu_venv",
   "language": "python",
   "name": "python3"
  },
  "language_info": {
   "codemirror_mode": {
    "name": "ipython",
    "version": 3
   },
   "file_extension": ".py",
   "mimetype": "text/x-python",
   "name": "python",
   "nbconvert_exporter": "python",
   "pygments_lexer": "ipython3",
   "version": "3.8.16"
  }
 },
 "nbformat": 4,
 "nbformat_minor": 2
}
