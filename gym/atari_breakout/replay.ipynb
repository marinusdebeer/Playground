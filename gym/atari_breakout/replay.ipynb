{
 "cells": [
  {
   "cell_type": "code",
   "execution_count": 1,
   "metadata": {},
   "outputs": [],
   "source": [
    "import pickle\n",
    "import numpy as np\n",
    "import gymnasium as gym"
   ]
  },
  {
   "cell_type": "code",
   "execution_count": 39,
   "metadata": {},
   "outputs": [
    {
     "name": "stdout",
     "output_type": "stream",
     "text": [
      "[[255 255 255 ... 255 255 255]\n",
      " [255 255 255 ... 255 255 255]\n",
      " [255 255 255 ... 255 255 255]\n",
      " ...\n",
      " [  0   0   0 ...   0   0   0]\n",
      " [  0   0   0 ...   0   0   0]\n",
      " [  0   0   0 ...   0   0   0]]\n",
      "Frames saved successfully.\n"
     ]
    }
   ],
   "source": [
    "import cv2\n",
    "import pickle\n",
    "import os\n",
    "\n",
    "SAVE_PATH = \"G:/Coding/breakout/testing_prioritized/\"\n",
    "FOLDER_NAME = \"per_62_10_000_control_he_init_leaky_relu_0_1_image\"\n",
    "REPLAY_NAME = \"ep_replay_8629_score_303.0\"\n",
    "# Create a directory to save the frames\n",
    "if not os.path.exists('frames'):\n",
    "    os.makedirs('frames')\n",
    "\n",
    "# Load saved replay\n",
    "with open(f'{SAVE_PATH}{FOLDER_NAME}/replays/{REPLAY_NAME}.pkl', 'rb') as f:\n",
    "    ep_replay = pickle.load(f)\n",
    "\n",
    "# Save frames as images\n",
    "for i, (state, _, _, _, _) in enumerate(ep_replay):\n",
    "    # Use the first frame from the stack of 4 frames\n",
    "    frame = state[:, :, 0]\n",
    "    frame[frame == 1] = 255\n",
    "    # if i == 0:\n",
    "        # print(frame)\n",
    "    frame_path = os.path.join('frames', f'frame_{i:04d}.png')\n",
    "    cv2.imwrite(frame_path, frame)\n",
    "\n",
    "print(\"Frames saved successfully.\")\n"
   ]
  },
  {
   "cell_type": "code",
   "execution_count": 40,
   "metadata": {},
   "outputs": [
    {
     "name": "stdout",
     "output_type": "stream",
     "text": [
      "Video created successfully.\n"
     ]
    }
   ],
   "source": [
    "import cv2\n",
    "import os\n",
    "import shutil\n",
    "\n",
    "# Parameters\n",
    "frame_folder = 'frames'\n",
    "video_name = f'{SAVE_PATH}{FOLDER_NAME}/{REPLAY_NAME}.mp4'\n",
    "frame_per_second = 20\n",
    "\n",
    "# Get frame file names\n",
    "frames = [f for f in os.listdir(frame_folder) if f.endswith('.png')]\n",
    "frames.sort(key=lambda x: int(x.split('_')[1].split('.')[0]))  # Sort by frame number\n",
    "\n",
    "# Read the first frame to get height and width\n",
    "first_frame = cv2.imread(os.path.join(frame_folder, frames[0]))\n",
    "height, width, _ = first_frame.shape\n",
    "\n",
    "# Initialize VideoWriter\n",
    "fourcc = cv2.VideoWriter_fourcc(*'mp4v')\n",
    "out = cv2.VideoWriter(video_name, fourcc, frame_per_second, (width, height))\n",
    "\n",
    "# Create video from frames\n",
    "for frame in frames:\n",
    "    img = cv2.imread(os.path.join(frame_folder, frame))\n",
    "    out.write(img)\n",
    "\n",
    "# Finalize the video\n",
    "out.release()\n",
    "\n",
    "# Delete the frames folder\n",
    "shutil.rmtree(frame_folder)\n",
    "\n",
    "print(\"Video created successfully.\")\n"
   ]
  }
 ],
 "metadata": {
  "kernelspec": {
   "display_name": "gpu",
   "language": "python",
   "name": "python3"
  },
  "language_info": {
   "codemirror_mode": {
    "name": "ipython",
    "version": 3
   },
   "file_extension": ".py",
   "mimetype": "text/x-python",
   "name": "python",
   "nbconvert_exporter": "python",
   "pygments_lexer": "ipython3",
   "version": "3.8.18"
  },
  "orig_nbformat": 4
 },
 "nbformat": 4,
 "nbformat_minor": 2
}
