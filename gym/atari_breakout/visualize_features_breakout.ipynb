{
 "cells": [
  {
   "cell_type": "code",
   "execution_count": 21,
   "metadata": {},
   "outputs": [
    {
     "data": {
      "text/plain": [
       "True"
      ]
     },
     "execution_count": 21,
     "metadata": {},
     "output_type": "execute_result"
    }
   ],
   "source": [
    "import numpy as np\n",
    "import tensorflow as tf\n",
    "from tensorflow.keras.layers import Input, Dense, Lambda, Add, Conv2D, Flatten, BatchNormalization\n",
    "from tensorflow.keras.models import Model\n",
    "# import torch\n",
    "# import tensorflow_probability as tfp\n",
    "import gymnasium as gym\n",
    "from collections import deque\n",
    "import random\n",
    "# from skimage.color import rgb2gray\n",
    "# from skimage.transform import resize\n",
    "import matplotlib.pyplot as plt\n",
    "from tqdm import tqdm\n",
    "import time\n",
    "from datetime import datetime, timedelta\n",
    "# import threading\n",
    "# from queue import Queue\n",
    "# import heapq\n",
    "import cv2\n",
    "# import math\n",
    "import os\n",
    "from send_email import send_email\n",
    "from dotenv import load_dotenv\n",
    "import pickle\n",
    "load_dotenv()"
   ]
  },
  {
   "cell_type": "code",
   "execution_count": 22,
   "metadata": {},
   "outputs": [],
   "source": [
    "NUM_FRAMES = 4\n",
    "FRAME_WIDTH = 84\n",
    "FRAME_HEIGHT = 64\n",
    "DUELING_DQN = False\n",
    "NUM_ACTIONS = 3\n",
    "ACTIONS = [0, 2, 3]\n",
    "GAME = \"Breakout-v4\"\n",
    "SEED = 42"
   ]
  },
  {
   "cell_type": "code",
   "execution_count": 23,
   "metadata": {},
   "outputs": [],
   "source": [
    "inputs = Input(shape=(FRAME_HEIGHT, FRAME_WIDTH, NUM_FRAMES))\n",
    "\n",
    "x = Conv2D(32, 8, strides=4, activation='relu')(inputs)\n",
    "x = Conv2D(64, 4, strides=2, activation='relu')(x)\n",
    "x = Conv2D(64, 3, strides=1, activation='relu')(x)\n",
    "\n",
    "x = Flatten()(x)\n",
    "\n",
    "x = Dense(512, activation='relu')(x)\n",
    "q_values = Dense(NUM_ACTIONS)(x)\n",
    "\n",
    "model = Model(inputs=inputs, outputs=q_values)"
   ]
  },
  {
   "cell_type": "code",
   "execution_count": 24,
   "metadata": {},
   "outputs": [],
   "source": [
    "def preprocess_state(state):\n",
    "    start = time.time()\n",
    "    try:\n",
    "        state.shape\n",
    "    except:\n",
    "        state = state[0]\n",
    "        pass\n",
    "    processed_observe = cv2.cvtColor(state[17:,:], cv2.COLOR_RGB2GRAY)\n",
    "    _, processed_observe = cv2.threshold(processed_observe, 0, 128, cv2.THRESH_BINARY)\n",
    "    processed_observe = cv2.resize(processed_observe, (FRAME_WIDTH, FRAME_HEIGHT), interpolation=cv2.INTER_NEAREST)\n",
    "    return processed_observe, time.time() - start"
   ]
  },
  {
   "cell_type": "code",
   "execution_count": 25,
   "metadata": {},
   "outputs": [],
   "source": [
    "env = gym.make(GAME)\n",
    "env.seed(SEED)\n",
    "state = env.reset()\n",
    "frame_buffer = deque(maxlen=NUM_FRAMES)\n",
    "env.step(1)\n",
    "for _ in range(NUM_FRAMES):\n",
    "    processed_state, proc_time = preprocess_state(state)\n",
    "    frame_buffer.append(processed_state)\n",
    "state = np.stack(frame_buffer, axis=-1)"
   ]
  },
  {
   "cell_type": "code",
   "execution_count": 27,
   "metadata": {},
   "outputs": [
    {
     "name": "stdout",
     "output_type": "stream",
     "text": [
      "1/1 [==============================] - 0s 135ms/step\n"
     ]
    },
    {
     "name": "stderr",
     "output_type": "stream",
     "text": [
      "2023-11-29 13:02:26.641517: I tensorflow/core/grappler/optimizers/custom_graph_optimizer_registry.cc:114] Plugin optimizer for device_type GPU is enabled.\n"
     ]
    },
    {
     "data": {
      "image/png": "[encoded data removed]",
      "text/plain": [
       "<Figure size 1200x1200 with 64 Axes>"
      ]
     },
     "metadata": {},
     "output_type": "display_data"
    }
   ],
   "source": [
    "import numpy as np\n",
    "import matplotlib.pyplot as plt\n",
    "from tensorflow.keras.models import Model\n",
    "\n",
    "# Create a model to output the activation from the last convolutional layer\n",
    "last_conv_layer = [layer for layer in model.layers if 'conv' in layer.name][-1]\n",
    "activation_model = Model(inputs=model.input, outputs=last_conv_layer.output)\n",
    "\n",
    "# Get the activation\n",
    "activation = activation_model.predict(np.expand_dims(state, axis=0))\n",
    "\n",
    "# Function to plot the feature maps\n",
    "def display_feature_maps(activation, num_columns=8):\n",
    "    num_features = activation.shape[-1]\n",
    "    size = activation.shape[1]\n",
    "    num_rows = num_features // num_columns\n",
    "    \n",
    "    fig = plt.figure(figsize=(num_columns * 1.5, num_rows * 1.5))\n",
    "\n",
    "    for i in range(num_features):\n",
    "        ax = fig.add_subplot(num_rows, num_columns, i + 1)\n",
    "        ax.imshow(activation[0, :, :, i], cmap='gray')\n",
    "        ax.axis('off')\n",
    "\n",
    "# Display the feature maps\n",
    "display_feature_maps(activation)"
   ]
  }
 ],
 "metadata": {
  "kernelspec": {
   "display_name": "gpu_venv",
   "language": "python",
   "name": "python3"
  },
  "language_info": {
   "codemirror_mode": {
    "name": "ipython",
    "version": 3
   },
   "file_extension": ".py",
   "mimetype": "text/x-python",
   "name": "python",
   "nbconvert_exporter": "python",
   "pygments_lexer": "ipython3",
   "version": "3.8.16"
  }
 },
 "nbformat": 4,
 "nbformat_minor": 2
}
