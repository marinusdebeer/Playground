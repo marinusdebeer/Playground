{
 "cells": [
  {
   "cell_type": "code",
   "execution_count": 1,
   "metadata": {},
   "outputs": [
    {
     "name": "stdout",
     "output_type": "stream",
     "text": [
      "Detected language: en\n",
      "Which is fascinating because they had just argued in court why they couldn't possibly come up with a new map. And yet, fewer than 24 hours after the court said, okay, well then you should come into court and explain why you shouldn't be held in contempt. They managed to figure out how to draw a new one. And was the new map very different? No. It was not very different. It was largely the same.\n"
     ]
    }
   ],
   "source": [
    "import whisper\n",
    "\n",
    "model = whisper.load_model(\"medium\")\n",
    "\n",
    "# load audio and pad/trim it to fit 30 seconds\n",
    "audio = whisper.load_audio(\"radio.m4a\")\n",
    "audio = whisper.pad_or_trim(audio)\n",
    "\n",
    "# make log-Mel spectrogram and move to the same device as the model\n",
    "mel = whisper.log_mel_spectrogram(audio).to(model.device)\n",
    "\n",
    "# detect the spoken language\n",
    "_, probs = model.detect_language(mel)\n",
    "print(f\"Detected language: {max(probs, key=probs.get)}\")\n",
    "\n",
    "# decode the audio\n",
    "options = whisper.DecodingOptions(fp16 = False)\n",
    "result = whisper.decode(model, mel, options)\n",
    "\n",
    "# print the recognized text\n",
    "print(result.text)"
   ]
  },
  {
   "cell_type": "code",
   "execution_count": 2,
   "metadata": {},
   "outputs": [
    {
     "name": "stderr",
     "output_type": "stream",
     "text": [
      "/Users/marinus/miniconda3/envs/gpu_venv/lib/python3.8/site-packages/whisper/transcribe.py:114: UserWarning: FP16 is not supported on CPU; using FP32 instead\n",
      "  warnings.warn(\"FP16 is not supported on CPU; using FP32 instead\")\n"
     ]
    },
    {
     "name": "stdout",
     "output_type": "stream",
     "text": [
      " Which is fascinating because they had just argued in court why they couldn't possibly come up with a new map. And yet, fewer than 24 hours after the court said, okay, well then you should come into court and explain why you shouldn't be held in contempt. They managed to figure out how to draw a new one. And was the new map very different? No. It was not very different. It was largely the same. They made the seat count perhaps a little more palatable. But essentially one of the driving problems... In fact, the new map finally got to a 54-46 split between Republican and Democratic-leaning districts like the court wanted. But just like previous Republican maps, lots of the Democratic seats, in fact nearly half of them, 19 seats, which is barely Democratic, they were toss-ups. None of the Republican seats were toss-ups. They were all solid red. So the Supreme Court ordered the Commission to go back and try it one more time. It's now the fourth time. And this time, the court suggested a complete revamp, like a total rethinking of how they were going about this. The court pointed out the one big problem with all these maps was that the Democrats and Republicans didn't draft them together as a group, like the Constitution tells them to. So the court said, try drafting a map together. From scratch. In public. Hire an independent mapmaker to help. Somebody who will answer to all the Commission members, not just the Republicans. And, incredibly, that's what happens next. At this time, I will call the court.\n"
     ]
    }
   ],
   "source": [
    "import whisper\n",
    "\n",
    "model = whisper.load_model(\"medium\")\n",
    "result = model.transcribe(\"radio.m4a\")\n",
    "print(result[\"text\"])"
   ]
  }
 ],
 "metadata": {
  "kernelspec": {
   "display_name": "gpu_venv",
   "language": "python",
   "name": "python3"
  },
  "language_info": {
   "codemirror_mode": {
    "name": "ipython",
    "version": 3
   },
   "file_extension": ".py",
   "mimetype": "text/x-python",
   "name": "python",
   "nbconvert_exporter": "python",
   "pygments_lexer": "ipython3",
   "version": "3.8.16"
  },
  "orig_nbformat": 4
 },
 "nbformat": 4,
 "nbformat_minor": 2
}
