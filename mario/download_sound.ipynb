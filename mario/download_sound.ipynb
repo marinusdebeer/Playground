{
 "cells": [
  {
   "cell_type": "code",
   "execution_count": null,
   "metadata": {},
   "outputs": [],
   "source": [
    "pip install yt-dlp"
   ]
  },
  {
   "cell_type": "code",
   "execution_count": 14,
   "metadata": {},
   "outputs": [
    {
     "name": "stderr",
     "output_type": "stream",
     "text": [
      "Deprecated Feature: Support for Python version 3.8 has been deprecated. Please update to Python 3.9 or above\n"
     ]
    },
    {
     "name": "stdout",
     "output_type": "stream",
     "text": [
      "[youtube] Extracting URL: https://www.youtube.com/watch?v=mQSmVZU5EL4\n",
      "[youtube] mQSmVZU5EL4: Downloading webpage\n",
      "[youtube] mQSmVZU5EL4: Downloading ios player API JSON\n",
      "[youtube] mQSmVZU5EL4: Downloading mweb player API JSON\n",
      "[youtube] mQSmVZU5EL4: Downloading m3u8 information\n",
      "[info] mQSmVZU5EL4: Downloading 1 format(s): 251\n",
      "[download] Destination: assets/sounds/Mario Coin Sound - Sound Effect (HD).webm\n",
      "[download]   4.4% of   22.61KiB at  Unknown B/s ETA UnknownDownloading:   4.4% complete at  Unknown B/s\n",
      "[download]  13.3% of   22.61KiB at    1.76MiB/s ETA 00:00  Downloading:  13.3% complete at    1.76MiB/s\n",
      "[download]  31.0% of   22.61KiB at    3.04MiB/s ETA 00:00Downloading:  31.0% complete at    3.04MiB/s\n",
      "[download]  66.3% of   22.61KiB at    4.95MiB/s ETA 00:00Downloading:  66.3% complete at    4.95MiB/s\n",
      "[download] 100.0% of   22.61KiB at    3.04MiB/s ETA 00:00Downloading: 100.0% complete at    3.04MiB/s\n",
      "[download] 100% of   22.61KiB in 00:00:00 at 157.71KiB/s Download finished, now converting...\n",
      "\n",
      "[ExtractAudio] Destination: assets/sounds/Mario Coin Sound - Sound Effect (HD).mp3\n",
      "Deleting original file assets/sounds/Mario Coin Sound - Sound Effect (HD).webm (pass -k to keep)\n",
      "Audio downloaded and converted successfully.\n"
     ]
    }
   ],
   "source": [
    "import yt_dlp\n",
    "\n",
    "# Replace with your YouTube video URL\n",
    "video_url = \"https://www.youtube.com/watch?v=mQSmVZU5EL4\"\n",
    "\n",
    "# Progress hook function to give feedback\n",
    "def progress_hook(d):\n",
    "    if d['status'] == 'downloading':\n",
    "        print(f\"Downloading: {d['_percent_str']} complete at {d['_speed_str']}\")\n",
    "    elif d['status'] == 'finished':\n",
    "        print(\"Download finished, now converting...\")\n",
    "\n",
    "# Set options for audio extraction\n",
    "ydl_opts = {\n",
    "    'format': 'bestaudio/best',\n",
    "    'postprocessors': [{\n",
    "        'key': 'FFmpegExtractAudio',\n",
    "        'preferredcodec': 'mp3',\n",
    "        'preferredquality': '192',\n",
    "    }],\n",
    "    'outtmpl': 'assets/sounds/%(title)s.%(ext)s',  # Specify output path\n",
    "    'progress_hooks': [progress_hook],  # Add progress reporting\n",
    "}\n",
    "\n",
    "try:\n",
    "    # Download the audio\n",
    "    with yt_dlp.YoutubeDL(ydl_opts) as ydl:\n",
    "        ydl.download([video_url])\n",
    "    print(\"Audio downloaded and converted successfully.\")\n",
    "except Exception as e:\n",
    "    print(f\"An error occurred: {e}\")\n",
    "\n"
   ]
  },
  {
   "cell_type": "code",
   "execution_count": 13,
   "metadata": {},
   "outputs": [
    {
     "name": "stdout",
     "output_type": "stream",
     "text": [
      "Audio trimmed to 2 seconds and saved as assets/sounds/PowerUp Sound Effect.mp3.\n"
     ]
    },
    {
     "name": "stderr",
     "output_type": "stream",
     "text": [
      "ffmpeg version 6.0 Copyright (c) 2000-2023 the FFmpeg developers\n",
      "  built with Apple clang version 14.0.3 (clang-1403.0.22.14.1)\n",
      "  configuration: --prefix=/opt/homebrew/Cellar/ffmpeg/6.0_1 --enable-shared --enable-pthreads --enable-version3 --cc=clang --host-cflags= --host-ldflags= --enable-ffplay --enable-gnutls --enable-gpl --enable-libaom --enable-libaribb24 --enable-libbluray --enable-libdav1d --enable-libmp3lame --enable-libopus --enable-librav1e --enable-librist --enable-librubberband --enable-libsnappy --enable-libsrt --enable-libsvtav1 --enable-libtesseract --enable-libtheora --enable-libvidstab --enable-libvmaf --enable-libvorbis --enable-libvpx --enable-libwebp --enable-libx264 --enable-libx265 --enable-libxml2 --enable-libxvid --enable-lzma --enable-libfontconfig --enable-libfreetype --enable-frei0r --enable-libass --enable-libopencore-amrnb --enable-libopencore-amrwb --enable-libopenjpeg --enable-libspeex --enable-libsoxr --enable-libzmq --enable-libzimg --disable-libjack --disable-indev=jack --enable-videotoolbox --enable-audiotoolbox --enable-neon\n",
      "  libavutil      58.  2.100 / 58.  2.100\n",
      "  libavcodec     60.  3.100 / 60.  3.100\n",
      "  libavformat    60.  3.100 / 60.  3.100\n",
      "  libavdevice    60.  1.100 / 60.  1.100\n",
      "  libavfilter     9.  3.100 /  9.  3.100\n",
      "  libswscale      7.  1.100 /  7.  1.100\n",
      "  libswresample   4. 10.100 /  4. 10.100\n",
      "  libpostproc    57.  1.100 / 57.  1.100\n",
      "Input #0, mp3, from 'assets/sounds/[Super Mario Bros] PowerUp Sound Effect [Free Ringtone Download].mp3':\n",
      "  Metadata:\n",
      "    encoder         : Lavf60.3.100\n",
      "  Duration: 00:00:04.03, start: 0.023021, bitrate: 193 kb/s\n",
      "  Stream #0:0: Audio: mp3, 48000 Hz, stereo, fltp, 192 kb/s\n",
      "    Metadata:\n",
      "      encoder         : Lavc60.3.\n",
      "Stream mapping:\n",
      "  Stream #0:0 -> #0:0 (mp3 (mp3float) -> mp3 (libmp3lame))\n",
      "Press [q] to stop, [?] for help\n",
      "Output #0, mp3, to 'assets/sounds/PowerUp Sound Effect.mp3':\n",
      "  Metadata:\n",
      "    TSSE            : Lavf60.3.100\n",
      "  Stream #0:0: Audio: mp3, 48000 Hz, stereo, fltp\n",
      "    Metadata:\n",
      "      encoder         : Lavc60.3.100 libmp3lame\n",
      "size=      24kB time=00:00:01.48 bitrate= 133.3kbits/s speed= 107x       \n",
      "video:0kB audio:24kB subtitle:0kB other streams:0kB global headers:0kB muxing overhead: 0.960286%\n"
     ]
    }
   ],
   "source": [
    "import subprocess\n",
    "\n",
    "# Path to the downloaded sound file\n",
    "input_file = \"assets/sounds/[Super Mario Bros] PowerUp Sound Effect [Free Ringtone Download].mp3\"\n",
    "output_file = \"assets/sounds/PowerUp Sound Effect.mp3\"\n",
    "\n",
    "# Use ffmpeg to trim the audio to the first 2 seconds\n",
    "subprocess.run([\n",
    "    'ffmpeg',\n",
    "    '-y',  # Overwrite the output file if it exists\n",
    "    '-i', input_file,  # Input file\n",
    "    '-ss', '0',  # Start at the beginning\n",
    "    '-t', '1.5',   # Trim to 2 seconds\n",
    "    output_file  # Output file\n",
    "])\n",
    "\n",
    "print(f\"Audio trimmed to 2 seconds and saved as {output_file}.\")\n"
   ]
  }
 ],
 "metadata": {
  "kernelspec": {
   "display_name": "venv",
   "language": "python",
   "name": "python3"
  },
  "language_info": {
   "codemirror_mode": {
    "name": "ipython",
    "version": 3
   },
   "file_extension": ".py",
   "mimetype": "text/x-python",
   "name": "python",
   "nbconvert_exporter": "python",
   "pygments_lexer": "ipython3",
   "version": "3.8.18"
  }
 },
 "nbformat": 4,
 "nbformat_minor": 2
}
