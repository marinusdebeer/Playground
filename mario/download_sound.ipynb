{
 "cells": [
  {
   "cell_type": "code",
   "execution_count": null,
   "metadata": {},
   "outputs": [],
   "source": [
    "import yt_dlp\n",
    "\n",
    "video_url = \"url\"\n",
    "with yt_dlp.YoutubeDL() as ydl:\n",
    "    ydl.download([video_url])\n",
    "\n",
    "print(\"Video segment downloaded successfully.\")"
   ]
  },
  {
   "cell_type": "code",
   "execution_count": null,
   "metadata": {},
   "outputs": [],
   "source": [
    "import subprocess\n",
    "\n",
    "# Path to the downloaded sound file\n",
    "input_file = \"assets/sounds/[Super Mario Bros] PowerUp Sound Effect [Free Ringtone Download].mp3\"\n",
    "output_file = \"assets/sounds/PowerUp Sound Effect.mp3\"\n",
    "\n",
    "# Use ffmpeg to trim the audio to the first 2 seconds\n",
    "subprocess.run([\n",
    "    'ffmpeg',\n",
    "    '-y',  # Overwrite the output file if it exists\n",
    "    '-i', input_file,  # Input file\n",
    "    '-ss', '0',  # Start at the beginning\n",
    "    '-t', '1.5',   # Trim to 2 seconds\n",
    "    output_file  # Output file\n",
    "])\n",
    "\n",
    "print(f\"Audio trimmed to 2 seconds and saved as {output_file}.\")\n"
   ]
  }
 ],
 "metadata": {
  "kernelspec": {
   "display_name": "venv",
   "language": "python",
   "name": "python3"
  },
  "language_info": {
   "codemirror_mode": {
    "name": "ipython",
    "version": 3
   },
   "file_extension": ".py",
   "mimetype": "text/x-python",
   "name": "python",
   "nbconvert_exporter": "python",
   "pygments_lexer": "ipython3",
   "version": "3.8.18"
  }
 },
 "nbformat": 4,
 "nbformat_minor": 2
}
