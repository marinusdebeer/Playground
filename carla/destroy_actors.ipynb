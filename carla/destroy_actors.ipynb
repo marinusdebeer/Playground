{
 "cells": [
  {
   "cell_type": "code",
   "execution_count": 1,
   "metadata": {},
   "outputs": [],
   "source": [
    "import numpy as np\n",
    "import glob\n",
    "import os\n",
    "import sys\n",
    "import random\n",
    "import time\n",
    "try:\n",
    "    sys.path.append(glob.glob('C:/Users/Marinus/OneDrive/Desktop/Development/CARLA_0.9.14/WindowsNoEditor/PythonAPI/carla/dist/carla-*%d.%d-%s.egg' % (\n",
    "        sys.version_info.major,\n",
    "        sys.version_info.minor,\n",
    "        'win-amd64' if os.name == 'nt' else 'linux-x86_64'))[0])\n",
    "except IndexError:\n",
    "    pass\n",
    "import carla\n",
    "client = carla.Client('localhost', 2000)\n",
    "client.set_timeout(3.0)\n",
    "\n",
    "\n",
    "actors = client.get_world().get_actors()\n",
    "\n",
    "# Filter the list to include only vehicles and sensors\n",
    "vehicles = [actor for actor in actors if 'vehicle' in actor.type_id]\n",
    "sensors = [actor for actor in actors if 'sensor' in actor.type_id]\n",
    "\n",
    "# Destroy all vehicles and sensors\n",
    "for vehicle in vehicles:\n",
    "    vehicle.destroy()\n",
    "for sensor in sensors:\n",
    "    sensor.destroy()"
   ]
  }
 ],
 "metadata": {
  "kernelspec": {
   "display_name": "gpu",
   "language": "python",
   "name": "python3"
  },
  "language_info": {
   "codemirror_mode": {
    "name": "ipython",
    "version": 3
   },
   "file_extension": ".py",
   "mimetype": "text/x-python",
   "name": "python",
   "nbconvert_exporter": "python",
   "pygments_lexer": "ipython3",
   "version": "3.8.18"
  }
 },
 "nbformat": 4,
 "nbformat_minor": 2
}
