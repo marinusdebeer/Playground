{
 "cells": [
  {
   "cell_type": "code",
   "execution_count": 1,
   "metadata": {},
   "outputs": [],
   "source": [
    "import numpy as np\n",
    "import tensorflow as tf\n",
    "import nnfs\n",
    "from nnfs.datasets import spiral_data"
   ]
  },
  {
   "cell_type": "code",
   "execution_count": 2,
   "metadata": {},
   "outputs": [],
   "source": [
    "(x_train, y_train), (x_test, y_test) = tf.keras.datasets.mnist.load_data()\n",
    "X_train = x_train/255\n",
    "X_test = x_test/255\n",
    "\n",
    "flattened_images = [image.flatten() for image in X_train]\n",
    "X_train = np.stack(flattened_images, axis=0)\n",
    "\n",
    "flattened_images = [image.flatten() for image in X_test]\n",
    "X_test = np.stack(flattened_images, axis=0)"
   ]
  },
  {
   "cell_type": "code",
   "execution_count": 4,
   "metadata": {},
   "outputs": [],
   "source": [
    "class Layer_Dense:\n",
    "    def __init__(self, n_inputs, n_neurons):\n",
    "        self.weights = np.random.rand(n_inputs, n_neurons)\n",
    "        self.biases = np.zeros((1, n_neurons))\n",
    "    def forward(self, inputs):\n",
    "        self.output = np.dot(inputs, self.weights) + self.biases\n",
    "class Activation_ReLU:\n",
    "    def forward(self, inputs):\n",
    "        self.output = np.maximum(0, inputs)\n",
    "class Activation_SoftMax:\n",
    "    def forward(self, inputs):\n",
    "        exp_values = np.exp(inputs - np.max(inputs, axis=1, keepdims=True))\n",
    "        probabilities = exp_values / np.sum(exp_values, axis=1, keepdims=True)\n",
    "        self.output = probabilities\n"
   ]
  },
  {
   "cell_type": "code",
   "execution_count": 14,
   "metadata": {},
   "outputs": [
    {
     "name": "stdout",
     "output_type": "stream",
     "text": [
      "[5.78525950e-045 4.96734137e-106 1.23620402e-117 1.35166563e-181\n",
      " 9.45259349e-097 2.61200560e-083 3.24041942e-147 2.35035382e-049\n",
      " 9.99998356e-001 1.64392036e-006]\n",
      "8\n"
     ]
    }
   ],
   "source": [
    "# n_inputs = X_train[0].size\n",
    "# X_train, y = spiral_data(100, 3)\n",
    "hidden_neurons = 128\n",
    "output_neurons = 10\n",
    "input_neurons = 28*28\n",
    "layer1 = Layer_Dense(input_neurons, hidden_neurons)\n",
    "activation1 = Activation_ReLU()\n",
    "\n",
    "layer2 = Layer_Dense(hidden_neurons, output_neurons)\n",
    "activation2 = Activation_SoftMax()\n",
    "\n",
    "layer1.forward(X_train)\n",
    "activation1.forward(layer1.output)\n",
    "\n",
    "layer2.forward(activation1.output)\n",
    "activation2.forward(layer2.output)\n",
    "\n",
    "print(activation2.output[0])\n",
    "print(np.argmax(activation2.output[0]))\n",
    "# y_train[0]"
   ]
  },
  {
   "cell_type": "code",
   "execution_count": 3,
   "metadata": {},
   "outputs": [],
   "source": [
    "import numpy as np\n",
    "\n",
    "# Define the sigmoid function for activation\n",
    "def sigmoid(x):\n",
    "    return 1 / (1 + np.exp(-x))\n",
    "\n",
    "# Define the derivative of the sigmoid function\n",
    "def sigmoid_derivative(x):\n",
    "    return x * (1 - x)\n",
    "\n",
    "# Define the neural network class\n",
    "class NeuralNetwork:\n",
    "    def __init__(self, x, y):\n",
    "        self.input = x\n",
    "        self.weights1 = np.random.rand(self.input.shape[1], 4) # first layer with 4 neurons\n",
    "        self.weights2 = np.random.rand(4, 1) # output layer with 1 neuron\n",
    "        self.y = y\n",
    "        self.output = np.zeros(self.y.shape)\n",
    "    \n",
    "    # Feed forward function\n",
    "    def feedforward(self):\n",
    "        self.layer1 = sigmoid(np.dot(self.input, self.weights1))\n",
    "        self.output = sigmoid(np.dot(self.layer1, self.weights2))\n",
    "    \n",
    "    # Backpropagation function\n",
    "    def backprop(self):\n",
    "        d_weights2 = np.dot(self.layer1.T, (2 * (self.y - self.output) * sigmoid_derivative(self.output)))\n",
    "        d_weights1 = np.dot(self.input.T, (np.dot(2 * (self.y - self.output) * sigmoid_derivative(self.output), self.weights2.T) * sigmoid_derivative(self.layer1)))\n",
    "        \n",
    "        # Update the weights with the calculated gradients\n",
    "        self.weights1 += d_weights1\n",
    "        self.weights2 += d_weights2\n",
    "    \n",
    "    # Train the model for a given number of iterations\n",
    "    def train(self, iterations):\n",
    "        for i in range(iterations):\n",
    "            self.feedforward()\n",
    "            self.backprop()\n",
    "            print(\"iteration\", i)\n",
    "    \n",
    "    # Make a prediction given new input data\n",
    "    def predict(self, new_input):\n",
    "        layer1 = sigmoid(np.dot(new_input, self.weights1))\n",
    "        output = sigmoid(np.dot(layer1, self.weights2))\n",
    "        return output\n"
   ]
  },
  {
   "cell_type": "code",
   "execution_count": 5,
   "metadata": {},
   "outputs": [],
   "source": [
    "model = NeuralNetwork(X_train, y_train)\n",
    "model.train(10)"
   ]
  }
 ],
 "metadata": {
  "kernelspec": {
   "display_name": "gpu_venv",
   "language": "python",
   "name": "python3"
  },
  "language_info": {
   "codemirror_mode": {
    "name": "ipython",
    "version": 3
   },
   "file_extension": ".py",
   "mimetype": "text/x-python",
   "name": "python",
   "nbconvert_exporter": "python",
   "pygments_lexer": "ipython3",
   "version": "3.8.16"
  },
  "orig_nbformat": 4
 },
 "nbformat": 4,
 "nbformat_minor": 2
}
