{
 "cells": [
  {
   "cell_type": "code",
   "execution_count": 6,
   "metadata": {},
   "outputs": [],
   "source": [
    "import numpy as np\n",
    "import tensorflow as tf\n",
    "class NeuralNetwork:\n",
    "    def __init__(self, input_size, hidden_size, output_size):\n",
    "        self.input_size = input_size\n",
    "        self.hidden_size = hidden_size\n",
    "        self.output_size = output_size\n",
    "        \n",
    "        # Initialize weights and biases for hidden layer\n",
    "        self.weights_hidden = np.random.randn(self.input_size, self.hidden_size)\n",
    "        self.bias_hidden = np.zeros((1, self.hidden_size))\n",
    "        \n",
    "        # Initialize weights and biases for output layer\n",
    "        self.weights_output = np.random.randn(self.hidden_size, self.output_size)\n",
    "        self.bias_output = np.zeros((1, self.output_size))\n",
    "        \n",
    "    def relu(self, z):\n",
    "        # ReLU activation function\n",
    "        return np.maximum(0, z)\n",
    "    \n",
    "    def softmax(self, z):\n",
    "        # Softmax activation function\n",
    "        exp_z = np.exp(z - np.max(z, axis=1, keepdims=True))\n",
    "        return exp_z / np.sum(exp_z, axis=1, keepdims=True)\n",
    "    \n",
    "    def forward(self, X):\n",
    "        # Forward pass through the network\n",
    "        z_hidden = np.dot(X, self.weights_hidden) + self.bias_hidden\n",
    "        a_hidden = self.relu(z_hidden)\n",
    "        z_output = np.dot(a_hidden, self.weights_output) + self.bias_output\n",
    "        a_output = self.softmax(z_output)\n",
    "        \n",
    "        return a_output\n",
    "    \n",
    "    def loss(self, X, y):\n",
    "        # Compute the categorical cross-entropy loss\n",
    "        a_output = self.forward(X)\n",
    "        m = y.shape[0]\n",
    "        \n",
    "        loss = -np.sum(np.log(a_output[np.arange(m), y])) / m\n",
    "        \n",
    "        return loss\n",
    "    \n",
    "    def train(self, X, y, learning_rate, epochs, batch_size):\n",
    "        # Train the network using mini-batch gradient descent\n",
    "        m = X.shape[0]\n",
    "        for epoch in range(epochs):\n",
    "            # Shuffle the data\n",
    "            permutation = np.random.permutation(m)\n",
    "            X_shuffled = X[permutation]\n",
    "            y_shuffled = y[permutation]\n",
    "            \n",
    "            # Mini-batch gradient descent\n",
    "            for i in range(0, m, batch_size):\n",
    "                X_batch = X_shuffled[i:i+batch_size]\n",
    "                y_batch = y_shuffled[i:i+batch_size]\n",
    "                \n",
    "                # Forward pass\n",
    "                # a_output = self.forward(X_batch)\n",
    "                z_hidden = np.dot(X_batch, self.weights_hidden) + self.bias_hidden\n",
    "                a_hidden = self.relu(z_hidden)\n",
    "                z_output = np.dot(a_hidden, self.weights_output) + self.bias_output\n",
    "                a_output = self.softmax(z_output)\n",
    "                \n",
    "                # Backward pass\n",
    "                dz_output = a_output - (y_batch == np.arange(self.output_size))\n",
    "                dw_output = np.dot(a_hidden.T, dz_output)\n",
    "                db_output = np.sum(dz_output, axis=0, keepdims=True)\n",
    "                \n",
    "                da_hidden = np.dot(dz_output, self.weights_output.T)\n",
    "                dz_hidden = da_hidden * (z_hidden > 0)\n",
    "                dw_hidden = np.dot(X_batch.T, dz_hidden)\n",
    "                db_hidden = np.sum(dz_hidden, axis=0, keepdims=True)\n",
    "                \n",
    "                # Update weights and biases\n",
    "                self.weights_output -= learning_rate * dw_output\n",
    "                self.bias_output -= learning_rate * db_output\n",
    "                self.weights_hidden -= learning_rate * dw_hidden\n",
    "                self.bias_hidden -= learning_rate * db_hidden\n",
    "                \n",
    "            # Compute the loss on the entire dataset\n",
    "            # loss = self.loss(X, y)\n",
    "            loss = 0\n",
    "            print(f\"Epoch {epoch+1}/{epochs}, loss = {loss:.4f}\")"
   ]
  },
  {
   "cell_type": "code",
   "execution_count": 15,
   "metadata": {},
   "outputs": [],
   "source": [
    "mnist = tf.keras.datasets.mnist"
   ]
  },
  {
   "cell_type": "code",
   "execution_count": 3,
   "metadata": {},
   "outputs": [],
   "source": [
    "(x_train, y_train), (x_test, y_test) = tf.keras.datasets.mnist.load_data()\n",
    "X_train = x_train/255\n",
    "X_test = x_test/255\n",
    "\n",
    "flattened_images = [image.flatten() for image in X_train]\n",
    "X_train = np.stack(flattened_images, axis=0)\n",
    "\n",
    "flattened_images = [image.flatten() for image in X_test]\n",
    "X_test = np.stack(flattened_images, axis=0)"
   ]
  },
  {
   "cell_type": "code",
   "execution_count": 4,
   "metadata": {},
   "outputs": [
    {
     "ename": "NameError",
     "evalue": "name 'y_train_onehot' is not defined",
     "output_type": "error",
     "traceback": [
      "\u001b[0;31m---------------------------------------------------------------------------\u001b[0m",
      "\u001b[0;31mNameError\u001b[0m                                 Traceback (most recent call last)",
      "Cell \u001b[0;32mIn[4], line 1\u001b[0m\n\u001b[0;32m----> 1\u001b[0m y_train_onehot[\u001b[39m0\u001b[39m]\n",
      "\u001b[0;31mNameError\u001b[0m: name 'y_train_onehot' is not defined"
     ]
    }
   ],
   "source": [
    "y_train_onehot[0]"
   ]
  },
  {
   "cell_type": "code",
   "execution_count": 17,
   "metadata": {},
   "outputs": [
    {
     "name": "stdout",
     "output_type": "stream",
     "text": [
      "Epoch 1/10, loss = 0.0000\n",
      "Epoch 2/10, loss = 0.0000\n",
      "Epoch 3/10, loss = 0.0000\n",
      "Epoch 4/10, loss = 0.0000\n",
      "Epoch 5/10, loss = 0.0000\n",
      "Epoch 6/10, loss = 0.0000\n",
      "Epoch 7/10, loss = 0.0000\n",
      "Epoch 8/10, loss = 0.0000\n",
      "Epoch 9/10, loss = 0.0000\n",
      "Epoch 10/10, loss = 0.0000\n"
     ]
    }
   ],
   "source": [
    "# Load the training data\n",
    "# X_train = np.load(\"X_train.npy\") # shape (num_examples, input_size)\n",
    "# y_train = np.load(\"y_train.npy\") # shape (num_examples,)\n",
    "num_classes = 10\n",
    "# Convert the labels to one-hot encoding\n",
    "y_train_int = [int(label) for label in y_train]\n",
    "y_train_onehot = np.eye(num_classes)[y_train_int]\n",
    "\n",
    "# y_train_onehot = np.eye(num_classes)[y_train] # shape (num_examples, output_size)\n",
    "\n",
    "# Create the neural network\n",
    "input_size = X_train.shape[1]\n",
    "hidden_size = 128\n",
    "output_size = num_classes\n",
    "learning_rate = 0.2\n",
    "epochs = 10\n",
    "batch_size = 32\n",
    "model = NeuralNetwork(input_size, hidden_size, output_size)\n",
    "\n",
    "# Train the neural network\n",
    "model.train(X_train, y_train_onehot, learning_rate, epochs, batch_size)"
   ]
  },
  {
   "cell_type": "code",
   "execution_count": 24,
   "metadata": {},
   "outputs": [
    {
     "data": {
      "text/plain": [
       "array([[0.84597564, 0.15402436, 0.        , 0.        , 0.        ,\n",
       "        0.        , 0.        , 0.        , 0.        , 0.        ]])"
      ]
     },
     "execution_count": 24,
     "metadata": {},
     "output_type": "execute_result"
    }
   ],
   "source": [
    "model.forward(X_train[400])\n",
    "# y_train[2]"
   ]
  }
 ],
 "metadata": {
  "kernelspec": {
   "display_name": "gpu_venv",
   "language": "python",
   "name": "python3"
  },
  "language_info": {
   "codemirror_mode": {
    "name": "ipython",
    "version": 3
   },
   "file_extension": ".py",
   "mimetype": "text/x-python",
   "name": "python",
   "nbconvert_exporter": "python",
   "pygments_lexer": "ipython3",
   "version": "3.8.16"
  },
  "orig_nbformat": 4
 },
 "nbformat": 4,
 "nbformat_minor": 2
}
