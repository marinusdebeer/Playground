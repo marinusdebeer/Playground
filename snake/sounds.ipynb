{
 "cells": [
  {
   "cell_type": "code",
   "execution_count": 3,
   "metadata": {},
   "outputs": [
    {
     "data": {
      "text/plain": [
       "<pygame.mixer.Channel at 0x1063ad130>"
      ]
     },
     "execution_count": 3,
     "metadata": {},
     "output_type": "execute_result"
    }
   ],
   "source": [
    "import pygame\n",
    "import random\n",
    "import string\n",
    "from collections import deque\n",
    "\n",
    "pygame.init()\n",
    "pygame.mixer.init()  # Initialize the mixer module\n",
    "\n",
    "# Load the sound file\n",
    "food_sound = pygame.mixer.Sound(\"231769__copyc4t__ding.flac\")  # Replace with your sound file\n",
    "\n",
    "\n",
    "food_sound.play()  \n",
    "\n",
    "\n"
   ]
  }
 ],
 "metadata": {
  "kernelspec": {
   "display_name": "venv",
   "language": "python",
   "name": "python3"
  },
  "language_info": {
   "codemirror_mode": {
    "name": "ipython",
    "version": 3
   },
   "file_extension": ".py",
   "mimetype": "text/x-python",
   "name": "python",
   "nbconvert_exporter": "python",
   "pygments_lexer": "ipython3",
   "version": "3.8.18"
  }
 },
 "nbformat": 4,
 "nbformat_minor": 2
}
