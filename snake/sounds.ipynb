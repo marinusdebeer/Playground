{
 "cells": [
  {
   "cell_type": "code",
   "execution_count": 3,
   "metadata": {},
   "outputs": [
    {
     "data": {
      "text/plain": [
       "<pygame.mixer.Channel at 0x110b4b1f0>"
      ]
     },
     "execution_count": 3,
     "metadata": {},
     "output_type": "execute_result"
    }
   ],
   "source": [
    "import pygame\n",
    "import random\n",
    "import string\n",
    "from collections import deque\n",
    "\n",
    "pygame.init()\n",
    "pygame.mixer.init()  # Initialize the mixer module\n",
    "\n",
    "# Load the sound file\n",
    "food_sound = pygame.mixer.Sound(\"231769__copyc4t__ding.flac\")  # Replace with your sound file\n",
    "\n",
    "\n",
    "food_sound.play()  \n",
    "\n",
    "\n"
   ]
  },
  {
   "cell_type": "code",
   "execution_count": 5,
   "metadata": {},
   "outputs": [],
   "source": [
    "from openai import OpenAI\n",
    "\n",
    "client = OpenAI()\n",
    "import os\n",
    "from dotenv import load_dotenv\n",
    "\n",
    "# Load environment variables from the .env file\n",
    "load_dotenv()\n",
    "\n",
    "# Get the API key from the environment variable\n",
    "client.api_key = os.getenv(\"OPENAI_API_KEY\")"
   ]
  },
  {
   "cell_type": "code",
   "execution_count": 14,
   "metadata": {},
   "outputs": [
    {
     "name": "stdout",
     "output_type": "stream",
     "text": [
      "To boost in the game, simply hold down the 'SHIFT' key while moving your snake in any direction. Boosting can help you navigate faster and collect food more efficiently. Just be careful not to boost too much, as it can make it harder to control your snake, especially as it grows longer."
     ]
    }
   ],
   "source": [
    "stream = client.chat.completions.create(\n",
    "    model=\"gpt-3.5-turbo\",\n",
    "    max_completion_tokens = 100,\n",
    "    messages=[\n",
    "        {\n",
    "            \"role\": \"system\", \n",
    "            \"content\": \"\"\"\n",
    "            You are an assistant helping players by providing hints, advice, and tips for a snake game. Be concise in your responses. \n",
    "            Here are the game controls and rules to keep in mind when assisting the player:\n",
    "\n",
    "            **Controls:**\n",
    "            - Move Up: Press the UP arrow key.\n",
    "            - Move Down: Press the DOWN arrow key.\n",
    "            - Move Left: Press the LEFT arrow key.\n",
    "            - Move Right: Press the RIGHT arrow key.\n",
    "            - Pause Game: Press the 'P' key.\n",
    "            - Respawn: Press 'R' after game over.\n",
    "            - Quit Game: Press 'Q' or ESC to exit.\n",
    "            - Boost: Hold down 'SHIFT' to boost.\n",
    "\n",
    "            **Game Rules:**\n",
    "            1. The player controls a snake that moves in a grid. The goal is to collect food to grow the snake.\n",
    "            2. The snake dies if it runs into itself or collides with the walls.\n",
    "            3. The longer the snake, the harder it becomes to navigate without hitting itself.\n",
    "            4. The game speeds up over time, requiring quick reflexes.\n",
    "            5. Players can pause and resume the game as needed.\n",
    "            6. The leaderboard tracks the highest scores for both the player and AI snakes.\n",
    "\n",
    "            When providing help, your goal is to guide the player, explain the game mechanics, and offer strategic advice.\n",
    "            \"\"\"\n",
    "        },\n",
    "        {\"role\": \"user\", \"content\": \"how do i boost?\"}\n",
    "    ],\n",
    "    stream=True,\n",
    ")\n",
    "\n",
    "for chunk in stream:\n",
    "    if chunk.choices[0].delta.content is not None:\n",
    "        print(chunk.choices[0].delta.content, end=\"\")\n"
   ]
  }
 ],
 "metadata": {
  "kernelspec": {
   "display_name": "venv",
   "language": "python",
   "name": "python3"
  },
  "language_info": {
   "codemirror_mode": {
    "name": "ipython",
    "version": 3
   },
   "file_extension": ".py",
   "mimetype": "text/x-python",
   "name": "python",
   "nbconvert_exporter": "python",
   "pygments_lexer": "ipython3",
   "version": "3.8.18"
  }
 },
 "nbformat": 4,
 "nbformat_minor": 2
}
