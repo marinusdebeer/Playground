{
 "cells": [
  {
   "cell_type": "code",
   "execution_count": null,
   "metadata": {},
   "outputs": [],
   "source": [
    "import threading\n",
    "import time\n",
    "\n",
    "def print_numbers():\n",
    "  for i in range(10):\n",
    "    print(f\"Number {i}\")\n",
    "    time.sleep(1)\n",
    "\n",
    "def print_letters():\n",
    "  for letter in 'abcdefghij':\n",
    "    print(f\"Letter {letter}\")\n",
    "    time.sleep(1.5)\n",
    "\n",
    "# Create threads\n",
    "t1 = threading.Thread(target=print_numbers)\n",
    "t2 = threading.Thread(target=print_letters)\n",
    "\n",
    "# Start threads\n",
    "t1.start()\n",
    "t2.start()\n",
    "\n",
    "# Wait for both threads to finish\n",
    "t1.join()\n",
    "t2.join()\n",
    "\n",
    "print(\"Both threads are done!\")\n"
   ]
  },
  {
   "cell_type": "code",
   "execution_count": 2,
   "metadata": {},
   "outputs": [
    {
     "name": "stdout",
     "output_type": "stream",
     "text": [
      "TensorFlow Version: 2.10.0\n",
      "[name: \"/device:CPU:0\"\n",
      "device_type: \"CPU\"\n",
      "memory_limit: 268435456\n",
      "locality {\n",
      "}\n",
      "incarnation: 15039056368551704947\n",
      "xla_global_id: -1\n",
      ", name: \"/device:GPU:0\"\n",
      "device_type: \"GPU\"\n",
      "memory_limit: 20620212480\n",
      "locality {\n",
      "  bus_id: 1\n",
      "}\n",
      "incarnation: 4899899610352265151\n",
      "physical_device_desc: \"device: 0, name: DML, pci bus id: <undefined>\"\n",
      "xla_global_id: -1\n",
      "]\n"
     ]
    }
   ],
   "source": [
    "import tensorflow as tf\n",
    "print(\"TensorFlow Version:\", tf.__version__)\n",
    "\n",
    "from tensorflow.python.client import device_lib\n",
    "print(device_lib.list_local_devices())\n"
   ]
  },
  {
   "cell_type": "code",
   "execution_count": 4,
   "metadata": {},
   "outputs": [
    {
     "name": "stdout",
     "output_type": "stream",
     "text": [
      "Fitting 3 folds for each of 16 candidates, totalling 48 fits\n"
     ]
    },
    {
     "data": {
      "text/plain": [
       "{'n_estimators': 100,\n",
       " 'min_samples_split': 2,\n",
       " 'min_samples_leaf': 1,\n",
       " 'max_depth': None}"
      ]
     },
     "execution_count": 4,
     "metadata": {},
     "output_type": "execute_result"
    }
   ],
   "source": [
    "# Import necessary libraries\n",
    "import numpy as np\n",
    "import pandas as pd\n",
    "from sklearn.model_selection import train_test_split, RandomizedSearchCV\n",
    "from sklearn.ensemble import RandomForestRegressor\n",
    "\n",
    "# Regenerate synthetic data\n",
    "np.random.seed(42)\n",
    "n_samples = 1000\n",
    "sqft = np.random.uniform(500, 5000, n_samples)\n",
    "bedrooms = np.random.randint(1, 6, n_samples)\n",
    "bathrooms = np.random.randint(1, 5, n_samples)\n",
    "age = np.random.randint(1, 100, n_samples)\n",
    "distance_to_city = np.random.uniform(0.1, 20.0, n_samples)\n",
    "prices = (\n",
    "    2000 * sqft +\n",
    "    15000 * bedrooms +\n",
    "    20000 * bathrooms -\n",
    "    500 * age -\n",
    "    1000 * distance_to_city +\n",
    "    np.random.normal(0, 10000, n_samples)\n",
    ")\n",
    "df = pd.DataFrame({\n",
    "    'sqft': sqft,\n",
    "    'bedrooms': bedrooms,\n",
    "    'bathrooms': bathrooms,\n",
    "    'age': age,\n",
    "    'distance_to_city': distance_to_city,\n",
    "    'price': prices\n",
    "})\n",
    "\n",
    "# Split the data into training and testing sets\n",
    "X = df.drop('price', axis=1)\n",
    "y = df['price']\n",
    "X_train, X_test, y_train, y_test = train_test_split(X, y, test_size=0.2, random_state=42)\n",
    "\n",
    "# Simplified hyperparameter grid\n",
    "param_dist_simple = {\n",
    "    'n_estimators': [50, 100],\n",
    "    'max_depth': [None, 20],\n",
    "    'min_samples_split': [2, 5],\n",
    "    'min_samples_leaf': [1, 2]\n",
    "}\n",
    "\n",
    "# Initialize Randomized Search with 3-fold cross-validation\n",
    "random_search_simple = RandomizedSearchCV(estimator=RandomForestRegressor(random_state=42), \n",
    "                                          param_distributions=param_dist_simple, \n",
    "                                          n_iter=16, cv=3, scoring='neg_mean_squared_error', \n",
    "                                          verbose=2, random_state=42, n_jobs=-1)\n",
    "\n",
    "# Perform Randomized Search on the training data\n",
    "random_search_simple.fit(X_train, y_train)\n",
    "\n",
    "# Best hyperparameters from simplified Randomized Search\n",
    "best_params_simple = random_search_simple.best_params_\n",
    "best_params_simple\n"
   ]
  },
  {
   "cell_type": "code",
   "execution_count": 6,
   "metadata": {},
   "outputs": [
    {
     "data": {
      "text/plain": [
       "1299001043.149296"
      ]
     },
     "execution_count": 6,
     "metadata": {},
     "output_type": "execute_result"
    }
   ],
   "source": [
    "from sklearn.metrics import mean_squared_error\n",
    "# Initialize the Random Forest Regressor model with the best hyperparameters\n",
    "best_rf_model = RandomForestRegressor(\n",
    "    n_estimators=best_params_simple['n_estimators'],\n",
    "    min_samples_split=best_params_simple['min_samples_split'],\n",
    "    min_samples_leaf=best_params_simple['min_samples_leaf'],\n",
    "    max_depth=best_params_simple['max_depth'],\n",
    "    random_state=42\n",
    ")\n",
    "\n",
    "# Train the model on the training set\n",
    "best_rf_model.fit(X_train, y_train)\n",
    "\n",
    "# Predict prices on the testing set\n",
    "y_test_pred_best_rf = best_rf_model.predict(X_test)\n",
    "\n",
    "# Calculate the Mean Squared Error on the testing set\n",
    "mse_test_best_rf = mean_squared_error(y_test, y_test_pred_best_rf)\n",
    "mse_test_best_rf\n"
   ]
  }
 ],
 "metadata": {
  "kernelspec": {
   "display_name": "gpu_venv",
   "language": "python",
   "name": "python3"
  },
  "language_info": {
   "codemirror_mode": {
    "name": "ipython",
    "version": 3
   },
   "file_extension": ".py",
   "mimetype": "text/x-python",
   "name": "python",
   "nbconvert_exporter": "python",
   "pygments_lexer": "ipython3",
   "version": "3.8.18"
  },
  "orig_nbformat": 4
 },
 "nbformat": 4,
 "nbformat_minor": 2
}
