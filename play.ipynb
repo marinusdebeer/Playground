{
 "cells": [
  {
   "cell_type": "code",
   "execution_count": null,
   "metadata": {},
   "outputs": [],
   "source": [
    "import threading\n",
    "import time\n",
    "\n",
    "def print_numbers():\n",
    "  for i in range(10):\n",
    "    print(f\"Number {i}\")\n",
    "    time.sleep(1)\n",
    "\n",
    "def print_letters():\n",
    "  for letter in 'abcdefghij':\n",
    "    print(f\"Letter {letter}\")\n",
    "    time.sleep(1.5)\n",
    "\n",
    "# Create threads\n",
    "t1 = threading.Thread(target=print_numbers)\n",
    "t2 = threading.Thread(target=print_letters)\n",
    "\n",
    "# Start threads\n",
    "t1.start()\n",
    "t2.start()\n",
    "\n",
    "# Wait for both threads to finish\n",
    "t1.join()\n",
    "t2.join()\n",
    "\n",
    "print(\"Both threads are done!\")\n"
   ]
  },
  {
   "cell_type": "code",
   "execution_count": 2,
   "metadata": {},
   "outputs": [
    {
     "name": "stdout",
     "output_type": "stream",
     "text": [
      "TensorFlow Version: 2.10.0\n",
      "[name: \"/device:CPU:0\"\n",
      "device_type: \"CPU\"\n",
      "memory_limit: 268435456\n",
      "locality {\n",
      "}\n",
      "incarnation: 15039056368551704947\n",
      "xla_global_id: -1\n",
      ", name: \"/device:GPU:0\"\n",
      "device_type: \"GPU\"\n",
      "memory_limit: 20620212480\n",
      "locality {\n",
      "  bus_id: 1\n",
      "}\n",
      "incarnation: 4899899610352265151\n",
      "physical_device_desc: \"device: 0, name: DML, pci bus id: <undefined>\"\n",
      "xla_global_id: -1\n",
      "]\n"
     ]
    }
   ],
   "source": [
    "import tensorflow as tf\n",
    "print(\"TensorFlow Version:\", tf.__version__)\n",
    "\n",
    "from tensorflow.python.client import device_lib\n",
    "print(device_lib.list_local_devices())\n"
   ]
  }
 ],
 "metadata": {
  "kernelspec": {
   "display_name": "gpu_venv",
   "language": "python",
   "name": "python3"
  },
  "language_info": {
   "codemirror_mode": {
    "name": "ipython",
    "version": 3
   },
   "file_extension": ".py",
   "mimetype": "text/x-python",
   "name": "python",
   "nbconvert_exporter": "python",
   "pygments_lexer": "ipython3",
   "version": "3.8.18"
  },
  "orig_nbformat": 4
 },
 "nbformat": 4,
 "nbformat_minor": 2
}
