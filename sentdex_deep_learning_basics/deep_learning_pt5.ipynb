{
 "cells": [
  {
   "attachments": {},
   "cell_type": "markdown",
   "metadata": {},
   "source": [
    "https://pythonprogramming.net/tensorboard-optimizing-models-deep-learning-python-tensorflow-keras/"
   ]
  },
  {
   "cell_type": "code",
   "execution_count": 1,
   "metadata": {},
   "outputs": [],
   "source": [
    "import tensorflow as tf\n",
    "import numpy as np\n",
    "import matplotlib.pyplot as plt\n",
    "import os\n",
    "import cv2\n",
    "from tqdm import tqdm\n",
    "import random\n",
    "import pickle\n",
    "from tensorflow.keras.models import Sequential\n",
    "from tensorflow.keras.layers import Dense, Dropout, Activation, Flatten\n",
    "from tensorflow.keras.layers import Conv2D, MaxPooling2D\n",
    "# more info on callbakcs: https://keras.io/callbacks/ model saver is cool too.\n",
    "from tensorflow.keras.callbacks import TensorBoard\n",
    "import pickle\n",
    "import time\n",
    "import numpy as np\n"
   ]
  },
  {
   "cell_type": "code",
   "execution_count": 2,
   "metadata": {},
   "outputs": [
    {
     "name": "stdout",
     "output_type": "stream",
     "text": [
      "1677680797-conv-1-nodes-32-dense-0\n",
      "Epoch 1/10\n",
      "619/619 [==============================] - 6s 9ms/step - loss: 0.6153 - accuracy: 0.6622 - val_loss: 0.5579 - val_accuracy: 0.7220\n",
      "Epoch 2/10\n",
      "619/619 [==============================] - 5s 8ms/step - loss: 0.5368 - accuracy: 0.7346 - val_loss: 0.5329 - val_accuracy: 0.7397\n",
      "Epoch 3/10\n",
      "619/619 [==============================] - 5s 8ms/step - loss: 0.4989 - accuracy: 0.7605 - val_loss: 0.5404 - val_accuracy: 0.7274\n",
      "Epoch 4/10\n",
      "619/619 [==============================] - 5s 8ms/step - loss: 0.4681 - accuracy: 0.7804 - val_loss: 0.5209 - val_accuracy: 0.7466\n",
      "Epoch 5/10\n",
      "619/619 [==============================] - 5s 8ms/step - loss: 0.4442 - accuracy: 0.7949 - val_loss: 0.5200 - val_accuracy: 0.7492\n",
      "Epoch 6/10\n",
      "619/619 [==============================] - 6s 9ms/step - loss: 0.4226 - accuracy: 0.8069 - val_loss: 0.5373 - val_accuracy: 0.7424\n",
      "Epoch 7/10\n",
      "619/619 [==============================] - 6s 10ms/step - loss: 0.4000 - accuracy: 0.8205 - val_loss: 0.5473 - val_accuracy: 0.7375\n",
      "Epoch 8/10\n",
      "619/619 [==============================] - 6s 10ms/step - loss: 0.3839 - accuracy: 0.8289 - val_loss: 0.5405 - val_accuracy: 0.7426\n",
      "Epoch 9/10\n",
      "619/619 [==============================] - 5s 7ms/step - loss: 0.3647 - accuracy: 0.8405 - val_loss: 0.5310 - val_accuracy: 0.7503\n",
      "Epoch 10/10\n",
      "619/619 [==============================] - 5s 8ms/step - loss: 0.3465 - accuracy: 0.8514 - val_loss: 0.5399 - val_accuracy: 0.7513\n"
     ]
    },
    {
     "name": "stderr",
     "output_type": "stream",
     "text": [
      "WARNING:absl:Found untraced functions such as _jit_compiled_convolution_op while saving (showing 1 of 1). These functions will not be directly callable after loading.\n"
     ]
    },
    {
     "name": "stdout",
     "output_type": "stream",
     "text": [
      "INFO:tensorflow:Assets written to: 1677680797-conv-1-nodes-32-dense-0.model\\assets\n"
     ]
    },
    {
     "name": "stderr",
     "output_type": "stream",
     "text": [
      "INFO:tensorflow:Assets written to: 1677680797-conv-1-nodes-32-dense-0.model\\assets\n"
     ]
    },
    {
     "name": "stdout",
     "output_type": "stream",
     "text": [
      "1677680852-conv-2-nodes-32-dense-0\n",
      "Epoch 1/10\n",
      "619/619 [==============================] - 6s 9ms/step - loss: 0.5974 - accuracy: 0.6687 - val_loss: 0.5378 - val_accuracy: 0.7323\n",
      "Epoch 2/10\n",
      "619/619 [==============================] - 5s 9ms/step - loss: 0.5028 - accuracy: 0.7559 - val_loss: 0.4923 - val_accuracy: 0.7644\n",
      "Epoch 3/10\n",
      "619/619 [==============================] - 6s 10ms/step - loss: 0.4669 - accuracy: 0.7782 - val_loss: 0.4729 - val_accuracy: 0.7812\n",
      "Epoch 4/10\n",
      "619/619 [==============================] - 5s 9ms/step - loss: 0.4373 - accuracy: 0.7983 - val_loss: 0.4507 - val_accuracy: 0.7945\n",
      "Epoch 5/10\n",
      "619/619 [==============================] - 5s 8ms/step - loss: 0.4188 - accuracy: 0.8072 - val_loss: 0.4438 - val_accuracy: 0.7909\n",
      "Epoch 6/10\n",
      "619/619 [==============================] - 6s 9ms/step - loss: 0.3964 - accuracy: 0.8206 - val_loss: 0.4312 - val_accuracy: 0.8028\n",
      "Epoch 7/10\n",
      "619/619 [==============================] - 5s 8ms/step - loss: 0.3782 - accuracy: 0.8295 - val_loss: 0.4400 - val_accuracy: 0.8028\n",
      "Epoch 8/10\n",
      "619/619 [==============================] - 5s 8ms/step - loss: 0.3605 - accuracy: 0.8391 - val_loss: 0.4436 - val_accuracy: 0.8032\n",
      "Epoch 9/10\n",
      "619/619 [==============================] - 6s 10ms/step - loss: 0.3394 - accuracy: 0.8531 - val_loss: 0.4529 - val_accuracy: 0.7939\n",
      "Epoch 10/10\n",
      "619/619 [==============================] - 5s 9ms/step - loss: 0.3276 - accuracy: 0.8567 - val_loss: 0.4148 - val_accuracy: 0.8145\n"
     ]
    },
    {
     "name": "stderr",
     "output_type": "stream",
     "text": [
      "WARNING:absl:Found untraced functions such as _jit_compiled_convolution_op, _jit_compiled_convolution_op while saving (showing 2 of 2). These functions will not be directly callable after loading.\n"
     ]
    },
    {
     "name": "stdout",
     "output_type": "stream",
     "text": [
      "INFO:tensorflow:Assets written to: 1677680852-conv-2-nodes-32-dense-0.model\\assets\n"
     ]
    },
    {
     "name": "stderr",
     "output_type": "stream",
     "text": [
      "INFO:tensorflow:Assets written to: 1677680852-conv-2-nodes-32-dense-0.model\\assets\n"
     ]
    },
    {
     "name": "stdout",
     "output_type": "stream",
     "text": [
      "1677680909-conv-3-nodes-32-dense-0\n",
      "Epoch 1/10\n",
      "619/619 [==============================] - 6s 9ms/step - loss: 0.6365 - accuracy: 0.6282 - val_loss: 0.5704 - val_accuracy: 0.7070\n",
      "Epoch 2/10\n",
      "619/619 [==============================] - 6s 9ms/step - loss: 0.5366 - accuracy: 0.7300 - val_loss: 0.4974 - val_accuracy: 0.7636\n",
      "Epoch 3/10\n",
      "619/619 [==============================] - 6s 9ms/step - loss: 0.4786 - accuracy: 0.7724 - val_loss: 0.4512 - val_accuracy: 0.7963\n",
      "Epoch 4/10\n",
      "619/619 [==============================] - 6s 9ms/step - loss: 0.4457 - accuracy: 0.7914 - val_loss: 0.4439 - val_accuracy: 0.7939\n",
      "Epoch 5/10\n",
      "619/619 [==============================] - 6s 9ms/step - loss: 0.4146 - accuracy: 0.8132 - val_loss: 0.4090 - val_accuracy: 0.8149\n",
      "Epoch 6/10\n",
      "619/619 [==============================] - 6s 9ms/step - loss: 0.3898 - accuracy: 0.8250 - val_loss: 0.4063 - val_accuracy: 0.8149\n",
      "Epoch 7/10\n",
      "619/619 [==============================] - 6s 9ms/step - loss: 0.3697 - accuracy: 0.8334 - val_loss: 0.3921 - val_accuracy: 0.8240\n",
      "Epoch 8/10\n",
      "619/619 [==============================] - 6s 9ms/step - loss: 0.3498 - accuracy: 0.8465 - val_loss: 0.3851 - val_accuracy: 0.8250\n",
      "Epoch 9/10\n",
      "619/619 [==============================] - 6s 9ms/step - loss: 0.3328 - accuracy: 0.8556 - val_loss: 0.3725 - val_accuracy: 0.8388\n",
      "Epoch 10/10\n",
      "619/619 [==============================] - 6s 9ms/step - loss: 0.3202 - accuracy: 0.8598 - val_loss: 0.3811 - val_accuracy: 0.8252\n"
     ]
    },
    {
     "name": "stderr",
     "output_type": "stream",
     "text": [
      "WARNING:absl:Found untraced functions such as _jit_compiled_convolution_op, _jit_compiled_convolution_op, _jit_compiled_convolution_op while saving (showing 3 of 3). These functions will not be directly callable after loading.\n"
     ]
    },
    {
     "name": "stdout",
     "output_type": "stream",
     "text": [
      "INFO:tensorflow:Assets written to: 1677680909-conv-3-nodes-32-dense-0.model\\assets\n"
     ]
    },
    {
     "name": "stderr",
     "output_type": "stream",
     "text": [
      "INFO:tensorflow:Assets written to: 1677680909-conv-3-nodes-32-dense-0.model\\assets\n"
     ]
    },
    {
     "name": "stdout",
     "output_type": "stream",
     "text": [
      "1677680969-conv-1-nodes-64-dense-0\n",
      "Epoch 1/10\n",
      "619/619 [==============================] - 7s 9ms/step - loss: 0.6144 - accuracy: 0.6641 - val_loss: 0.5721 - val_accuracy: 0.7189\n",
      "Epoch 2/10\n",
      "619/619 [==============================] - 5s 8ms/step - loss: 0.5257 - accuracy: 0.7417 - val_loss: 0.5249 - val_accuracy: 0.7480\n",
      "Epoch 3/10\n",
      "619/619 [==============================] - 5s 9ms/step - loss: 0.4867 - accuracy: 0.7681 - val_loss: 0.5133 - val_accuracy: 0.7521\n",
      "Epoch 4/10\n",
      "619/619 [==============================] - 5s 8ms/step - loss: 0.4556 - accuracy: 0.7833 - val_loss: 0.5169 - val_accuracy: 0.7559\n",
      "Epoch 5/10\n",
      "619/619 [==============================] - 5s 9ms/step - loss: 0.4269 - accuracy: 0.8003 - val_loss: 0.5570 - val_accuracy: 0.7321\n",
      "Epoch 6/10\n",
      "619/619 [==============================] - 6s 9ms/step - loss: 0.4003 - accuracy: 0.8168 - val_loss: 0.5110 - val_accuracy: 0.7549\n",
      "Epoch 7/10\n",
      "619/619 [==============================] - 6s 10ms/step - loss: 0.3733 - accuracy: 0.8363 - val_loss: 0.5276 - val_accuracy: 0.7521\n",
      "Epoch 8/10\n",
      "619/619 [==============================] - 6s 9ms/step - loss: 0.3474 - accuracy: 0.8490 - val_loss: 0.5297 - val_accuracy: 0.7563\n",
      "Epoch 9/10\n",
      "619/619 [==============================] - 6s 9ms/step - loss: 0.3269 - accuracy: 0.8595 - val_loss: 0.5329 - val_accuracy: 0.7561\n",
      "Epoch 10/10\n",
      "619/619 [==============================] - 5s 9ms/step - loss: 0.3001 - accuracy: 0.8767 - val_loss: 0.5782 - val_accuracy: 0.7410\n"
     ]
    },
    {
     "name": "stderr",
     "output_type": "stream",
     "text": [
      "WARNING:absl:Found untraced functions such as _jit_compiled_convolution_op while saving (showing 1 of 1). These functions will not be directly callable after loading.\n"
     ]
    },
    {
     "name": "stdout",
     "output_type": "stream",
     "text": [
      "INFO:tensorflow:Assets written to: 1677680969-conv-1-nodes-64-dense-0.model\\assets\n"
     ]
    },
    {
     "name": "stderr",
     "output_type": "stream",
     "text": [
      "INFO:tensorflow:Assets written to: 1677680969-conv-1-nodes-64-dense-0.model\\assets\n"
     ]
    },
    {
     "name": "stdout",
     "output_type": "stream",
     "text": [
      "1677681027-conv-2-nodes-64-dense-0\n",
      "Epoch 1/10\n",
      "619/619 [==============================] - 8s 11ms/step - loss: 0.6153 - accuracy: 0.6501 - val_loss: 0.5354 - val_accuracy: 0.7377\n",
      "Epoch 2/10\n",
      "619/619 [==============================] - 8s 12ms/step - loss: 0.5074 - accuracy: 0.7533 - val_loss: 0.4907 - val_accuracy: 0.7672\n",
      "Epoch 3/10\n",
      "619/619 [==============================] - 8s 13ms/step - loss: 0.4598 - accuracy: 0.7825 - val_loss: 0.5108 - val_accuracy: 0.7593\n",
      "Epoch 4/10\n",
      "619/619 [==============================] - 7s 11ms/step - loss: 0.4305 - accuracy: 0.7982 - val_loss: 0.4448 - val_accuracy: 0.7981\n",
      "Epoch 5/10\n",
      "619/619 [==============================] - 7s 11ms/step - loss: 0.4011 - accuracy: 0.8190 - val_loss: 0.4328 - val_accuracy: 0.8066\n",
      "Epoch 6/10\n",
      "619/619 [==============================] - 7s 12ms/step - loss: 0.3745 - accuracy: 0.8313 - val_loss: 0.4328 - val_accuracy: 0.7989\n",
      "Epoch 7/10\n",
      "619/619 [==============================] - 7s 11ms/step - loss: 0.3559 - accuracy: 0.8433 - val_loss: 0.4260 - val_accuracy: 0.8093\n",
      "Epoch 8/10\n",
      "619/619 [==============================] - 7s 11ms/step - loss: 0.3334 - accuracy: 0.8548 - val_loss: 0.4293 - val_accuracy: 0.8121\n",
      "Epoch 9/10\n",
      "619/619 [==============================] - 7s 11ms/step - loss: 0.3133 - accuracy: 0.8650 - val_loss: 0.4341 - val_accuracy: 0.8066\n",
      "Epoch 10/10\n",
      "619/619 [==============================] - 7s 12ms/step - loss: 0.2911 - accuracy: 0.8781 - val_loss: 0.4356 - val_accuracy: 0.8080\n"
     ]
    },
    {
     "name": "stderr",
     "output_type": "stream",
     "text": [
      "WARNING:absl:Found untraced functions such as _jit_compiled_convolution_op, _jit_compiled_convolution_op while saving (showing 2 of 2). These functions will not be directly callable after loading.\n"
     ]
    },
    {
     "name": "stdout",
     "output_type": "stream",
     "text": [
      "INFO:tensorflow:Assets written to: 1677681027-conv-2-nodes-64-dense-0.model\\assets\n"
     ]
    },
    {
     "name": "stderr",
     "output_type": "stream",
     "text": [
      "INFO:tensorflow:Assets written to: 1677681027-conv-2-nodes-64-dense-0.model\\assets\n"
     ]
    },
    {
     "name": "stdout",
     "output_type": "stream",
     "text": [
      "1677681101-conv-3-nodes-64-dense-0\n",
      "Epoch 1/10\n",
      "619/619 [==============================] - 8s 12ms/step - loss: 0.6319 - accuracy: 0.6286 - val_loss: 0.5610 - val_accuracy: 0.7098\n",
      "Epoch 2/10\n",
      "619/619 [==============================] - 7s 12ms/step - loss: 0.5035 - accuracy: 0.7568 - val_loss: 0.4624 - val_accuracy: 0.7868\n",
      "Epoch 3/10\n",
      "619/619 [==============================] - 7s 11ms/step - loss: 0.4463 - accuracy: 0.7917 - val_loss: 0.4269 - val_accuracy: 0.8060\n",
      "Epoch 4/10\n",
      "619/619 [==============================] - 8s 13ms/step - loss: 0.3977 - accuracy: 0.8166 - val_loss: 0.4186 - val_accuracy: 0.8113\n",
      "Epoch 5/10\n",
      "619/619 [==============================] - 7s 11ms/step - loss: 0.3621 - accuracy: 0.8383 - val_loss: 0.3784 - val_accuracy: 0.8240\n",
      "Epoch 6/10\n",
      "619/619 [==============================] - 7s 11ms/step - loss: 0.3354 - accuracy: 0.8511 - val_loss: 0.3818 - val_accuracy: 0.8244\n",
      "Epoch 7/10\n",
      "619/619 [==============================] - 7s 11ms/step - loss: 0.3045 - accuracy: 0.8666 - val_loss: 0.3668 - val_accuracy: 0.8335\n",
      "Epoch 8/10\n",
      "619/619 [==============================] - 6s 10ms/step - loss: 0.2785 - accuracy: 0.8795 - val_loss: 0.3777 - val_accuracy: 0.8347\n",
      "Epoch 9/10\n",
      "619/619 [==============================] - 7s 11ms/step - loss: 0.2548 - accuracy: 0.8909 - val_loss: 0.3720 - val_accuracy: 0.8394\n",
      "Epoch 10/10\n",
      "619/619 [==============================] - 7s 11ms/step - loss: 0.2288 - accuracy: 0.9049 - val_loss: 0.3584 - val_accuracy: 0.8464\n"
     ]
    },
    {
     "name": "stderr",
     "output_type": "stream",
     "text": [
      "WARNING:absl:Found untraced functions such as _jit_compiled_convolution_op, _jit_compiled_convolution_op, _jit_compiled_convolution_op while saving (showing 3 of 3). These functions will not be directly callable after loading.\n"
     ]
    },
    {
     "name": "stdout",
     "output_type": "stream",
     "text": [
      "INFO:tensorflow:Assets written to: 1677681101-conv-3-nodes-64-dense-0.model\\assets\n"
     ]
    },
    {
     "name": "stderr",
     "output_type": "stream",
     "text": [
      "INFO:tensorflow:Assets written to: 1677681101-conv-3-nodes-64-dense-0.model\\assets\n"
     ]
    },
    {
     "name": "stdout",
     "output_type": "stream",
     "text": [
      "1677681173-conv-1-nodes-128-dense-0\n",
      "Epoch 1/10\n",
      "619/619 [==============================] - 9s 14ms/step - loss: 0.6181 - accuracy: 0.6607 - val_loss: 0.5668 - val_accuracy: 0.7026\n",
      "Epoch 2/10\n",
      "619/619 [==============================] - 8s 13ms/step - loss: 0.5241 - accuracy: 0.7432 - val_loss: 0.5272 - val_accuracy: 0.7391\n",
      "Epoch 3/10\n",
      "619/619 [==============================] - 7s 12ms/step - loss: 0.4806 - accuracy: 0.7700 - val_loss: 0.5270 - val_accuracy: 0.7472\n",
      "Epoch 4/10\n",
      "619/619 [==============================] - 8s 12ms/step - loss: 0.4417 - accuracy: 0.7922 - val_loss: 0.5647 - val_accuracy: 0.7300\n",
      "Epoch 5/10\n",
      "619/619 [==============================] - 8s 12ms/step - loss: 0.4102 - accuracy: 0.8140 - val_loss: 0.5117 - val_accuracy: 0.7585\n",
      "Epoch 6/10\n",
      "619/619 [==============================] - 8s 12ms/step - loss: 0.3745 - accuracy: 0.8325 - val_loss: 0.5785 - val_accuracy: 0.7290\n",
      "Epoch 7/10\n",
      "619/619 [==============================] - 8s 12ms/step - loss: 0.3409 - accuracy: 0.8509 - val_loss: 0.5832 - val_accuracy: 0.7305\n",
      "Epoch 8/10\n",
      "619/619 [==============================] - 8s 12ms/step - loss: 0.3054 - accuracy: 0.8701 - val_loss: 0.5733 - val_accuracy: 0.7357\n",
      "Epoch 9/10\n",
      "619/619 [==============================] - 8s 13ms/step - loss: 0.2729 - accuracy: 0.8907 - val_loss: 0.5668 - val_accuracy: 0.7488\n",
      "Epoch 10/10\n",
      "619/619 [==============================] - 7s 12ms/step - loss: 0.2433 - accuracy: 0.9056 - val_loss: 0.6048 - val_accuracy: 0.7484\n"
     ]
    },
    {
     "name": "stderr",
     "output_type": "stream",
     "text": [
      "WARNING:absl:Found untraced functions such as _jit_compiled_convolution_op while saving (showing 1 of 1). These functions will not be directly callable after loading.\n"
     ]
    },
    {
     "name": "stdout",
     "output_type": "stream",
     "text": [
      "INFO:tensorflow:Assets written to: 1677681173-conv-1-nodes-128-dense-0.model\\assets\n"
     ]
    },
    {
     "name": "stderr",
     "output_type": "stream",
     "text": [
      "INFO:tensorflow:Assets written to: 1677681173-conv-1-nodes-128-dense-0.model\\assets\n"
     ]
    },
    {
     "name": "stdout",
     "output_type": "stream",
     "text": [
      "1677681253-conv-2-nodes-128-dense-0\n",
      "Epoch 1/10\n",
      "619/619 [==============================] - 11s 17ms/step - loss: 0.6491 - accuracy: 0.6165 - val_loss: 0.5640 - val_accuracy: 0.7104\n",
      "Epoch 2/10\n",
      "619/619 [==============================] - 10s 16ms/step - loss: 0.5445 - accuracy: 0.7269 - val_loss: 0.4947 - val_accuracy: 0.7688\n",
      "Epoch 3/10\n",
      "619/619 [==============================] - 10s 16ms/step - loss: 0.4858 - accuracy: 0.7677 - val_loss: 0.5073 - val_accuracy: 0.7456\n",
      "Epoch 4/10\n",
      "619/619 [==============================] - 10s 16ms/step - loss: 0.4461 - accuracy: 0.7927 - val_loss: 0.4560 - val_accuracy: 0.7893\n",
      "Epoch 5/10\n",
      "619/619 [==============================] - 10s 16ms/step - loss: 0.4155 - accuracy: 0.8116 - val_loss: 0.4498 - val_accuracy: 0.7925\n",
      "Epoch 6/10\n",
      "619/619 [==============================] - 11s 18ms/step - loss: 0.3864 - accuracy: 0.8257 - val_loss: 0.4370 - val_accuracy: 0.8012\n",
      "Epoch 7/10\n",
      "619/619 [==============================] - 10s 16ms/step - loss: 0.3608 - accuracy: 0.8391 - val_loss: 0.4345 - val_accuracy: 0.8097\n",
      "Epoch 8/10\n",
      "619/619 [==============================] - 10s 17ms/step - loss: 0.3350 - accuracy: 0.8526 - val_loss: 0.4285 - val_accuracy: 0.8137\n",
      "Epoch 9/10\n",
      "619/619 [==============================] - 10s 16ms/step - loss: 0.3095 - accuracy: 0.8669 - val_loss: 0.4407 - val_accuracy: 0.8040\n",
      "Epoch 10/10\n",
      "619/619 [==============================] - 10s 16ms/step - loss: 0.2858 - accuracy: 0.8787 - val_loss: 0.4531 - val_accuracy: 0.8048\n"
     ]
    },
    {
     "name": "stderr",
     "output_type": "stream",
     "text": [
      "WARNING:absl:Found untraced functions such as _jit_compiled_convolution_op, _jit_compiled_convolution_op while saving (showing 2 of 2). These functions will not be directly callable after loading.\n"
     ]
    },
    {
     "name": "stdout",
     "output_type": "stream",
     "text": [
      "INFO:tensorflow:Assets written to: 1677681253-conv-2-nodes-128-dense-0.model\\assets\n"
     ]
    },
    {
     "name": "stderr",
     "output_type": "stream",
     "text": [
      "INFO:tensorflow:Assets written to: 1677681253-conv-2-nodes-128-dense-0.model\\assets\n"
     ]
    },
    {
     "name": "stdout",
     "output_type": "stream",
     "text": [
      "1677681358-conv-3-nodes-128-dense-0\n",
      "Epoch 1/10\n",
      "619/619 [==============================] - 12s 18ms/step - loss: 0.6325 - accuracy: 0.6335 - val_loss: 0.5712 - val_accuracy: 0.7038\n",
      "Epoch 2/10\n",
      "619/619 [==============================] - 11s 17ms/step - loss: 0.5144 - accuracy: 0.7491 - val_loss: 0.4837 - val_accuracy: 0.7717\n",
      "Epoch 3/10\n",
      "619/619 [==============================] - 11s 18ms/step - loss: 0.4439 - accuracy: 0.7960 - val_loss: 0.4529 - val_accuracy: 0.7834\n",
      "Epoch 4/10\n",
      "619/619 [==============================] - 11s 18ms/step - loss: 0.3990 - accuracy: 0.8183 - val_loss: 0.3919 - val_accuracy: 0.8268\n",
      "Epoch 5/10\n",
      "619/619 [==============================] - 11s 18ms/step - loss: 0.3538 - accuracy: 0.8424 - val_loss: 0.3841 - val_accuracy: 0.8278\n",
      "Epoch 6/10\n",
      "619/619 [==============================] - 11s 18ms/step - loss: 0.3184 - accuracy: 0.8607 - val_loss: 0.3653 - val_accuracy: 0.8369\n",
      "Epoch 7/10\n",
      "619/619 [==============================] - 11s 18ms/step - loss: 0.2844 - accuracy: 0.8787 - val_loss: 0.3501 - val_accuracy: 0.8491\n",
      "Epoch 8/10\n",
      "619/619 [==============================] - 11s 18ms/step - loss: 0.2541 - accuracy: 0.8925 - val_loss: 0.3663 - val_accuracy: 0.8339\n",
      "Epoch 9/10\n",
      "619/619 [==============================] - 11s 17ms/step - loss: 0.2211 - accuracy: 0.9046 - val_loss: 0.3845 - val_accuracy: 0.8424\n",
      "Epoch 10/10\n",
      "619/619 [==============================] - 11s 17ms/step - loss: 0.1942 - accuracy: 0.9223 - val_loss: 0.3901 - val_accuracy: 0.8438\n"
     ]
    },
    {
     "name": "stderr",
     "output_type": "stream",
     "text": [
      "WARNING:absl:Found untraced functions such as _jit_compiled_convolution_op, _jit_compiled_convolution_op, _jit_compiled_convolution_op while saving (showing 3 of 3). These functions will not be directly callable after loading.\n"
     ]
    },
    {
     "name": "stdout",
     "output_type": "stream",
     "text": [
      "INFO:tensorflow:Assets written to: 1677681358-conv-3-nodes-128-dense-0.model\\assets\n"
     ]
    },
    {
     "name": "stderr",
     "output_type": "stream",
     "text": [
      "INFO:tensorflow:Assets written to: 1677681358-conv-3-nodes-128-dense-0.model\\assets\n"
     ]
    },
    {
     "name": "stdout",
     "output_type": "stream",
     "text": [
      "1677681470-conv-1-nodes-32-dense-1\n",
      "Epoch 1/10\n",
      "619/619 [==============================] - 6s 8ms/step - loss: 0.6089 - accuracy: 0.6652 - val_loss: 0.5497 - val_accuracy: 0.7349\n",
      "Epoch 2/10\n",
      "619/619 [==============================] - 5s 9ms/step - loss: 0.5237 - accuracy: 0.7414 - val_loss: 0.5241 - val_accuracy: 0.7359\n",
      "Epoch 3/10\n",
      "619/619 [==============================] - 5s 8ms/step - loss: 0.4752 - accuracy: 0.7732 - val_loss: 0.5179 - val_accuracy: 0.7466\n",
      "Epoch 4/10\n",
      "619/619 [==============================] - 5s 8ms/step - loss: 0.4276 - accuracy: 0.8011 - val_loss: 0.5102 - val_accuracy: 0.7488\n",
      "Epoch 5/10\n",
      "619/619 [==============================] - 5s 8ms/step - loss: 0.3834 - accuracy: 0.8288 - val_loss: 0.5215 - val_accuracy: 0.7587\n",
      "Epoch 6/10\n",
      "619/619 [==============================] - 5s 8ms/step - loss: 0.3300 - accuracy: 0.8536 - val_loss: 0.5544 - val_accuracy: 0.7492\n",
      "Epoch 7/10\n",
      "619/619 [==============================] - 5s 8ms/step - loss: 0.2738 - accuracy: 0.8855 - val_loss: 0.6261 - val_accuracy: 0.7395\n",
      "Epoch 8/10\n",
      "619/619 [==============================] - 5s 8ms/step - loss: 0.2220 - accuracy: 0.9103 - val_loss: 0.6464 - val_accuracy: 0.7432\n",
      "Epoch 9/10\n",
      "619/619 [==============================] - 5s 8ms/step - loss: 0.1721 - accuracy: 0.9354 - val_loss: 0.7721 - val_accuracy: 0.7226\n",
      "Epoch 10/10\n",
      "619/619 [==============================] - 5s 8ms/step - loss: 0.1274 - accuracy: 0.9564 - val_loss: 0.8118 - val_accuracy: 0.7286\n"
     ]
    },
    {
     "name": "stderr",
     "output_type": "stream",
     "text": [
      "WARNING:absl:Found untraced functions such as _jit_compiled_convolution_op while saving (showing 1 of 1). These functions will not be directly callable after loading.\n"
     ]
    },
    {
     "name": "stdout",
     "output_type": "stream",
     "text": [
      "INFO:tensorflow:Assets written to: 1677681470-conv-1-nodes-32-dense-1.model\\assets\n"
     ]
    },
    {
     "name": "stderr",
     "output_type": "stream",
     "text": [
      "INFO:tensorflow:Assets written to: 1677681470-conv-1-nodes-32-dense-1.model\\assets\n"
     ]
    },
    {
     "name": "stdout",
     "output_type": "stream",
     "text": [
      "1677681523-conv-2-nodes-32-dense-1\n",
      "Epoch 1/10\n",
      "619/619 [==============================] - 6s 9ms/step - loss: 0.6292 - accuracy: 0.6349 - val_loss: 0.5552 - val_accuracy: 0.7123\n",
      "Epoch 2/10\n",
      "619/619 [==============================] - 5s 8ms/step - loss: 0.5330 - accuracy: 0.7347 - val_loss: 0.4884 - val_accuracy: 0.7614\n",
      "Epoch 3/10\n",
      "619/619 [==============================] - 5s 9ms/step - loss: 0.4705 - accuracy: 0.7753 - val_loss: 0.4909 - val_accuracy: 0.7608\n",
      "Epoch 4/10\n",
      "619/619 [==============================] - 5s 8ms/step - loss: 0.4176 - accuracy: 0.8077 - val_loss: 0.4488 - val_accuracy: 0.7905\n",
      "Epoch 5/10\n",
      "619/619 [==============================] - 5s 9ms/step - loss: 0.3679 - accuracy: 0.8363 - val_loss: 0.4936 - val_accuracy: 0.7717\n",
      "Epoch 6/10\n",
      "619/619 [==============================] - 5s 8ms/step - loss: 0.3153 - accuracy: 0.8626 - val_loss: 0.4505 - val_accuracy: 0.7971\n",
      "Epoch 7/10\n",
      "619/619 [==============================] - 5s 8ms/step - loss: 0.2607 - accuracy: 0.8885 - val_loss: 0.4850 - val_accuracy: 0.7945\n",
      "Epoch 8/10\n",
      "619/619 [==============================] - 5s 8ms/step - loss: 0.2059 - accuracy: 0.9169 - val_loss: 0.5412 - val_accuracy: 0.7804\n",
      "Epoch 9/10\n",
      "619/619 [==============================] - 5s 8ms/step - loss: 0.1549 - accuracy: 0.9388 - val_loss: 0.6074 - val_accuracy: 0.7882\n",
      "Epoch 10/10\n",
      "619/619 [==============================] - 5s 9ms/step - loss: 0.1050 - accuracy: 0.9633 - val_loss: 0.7033 - val_accuracy: 0.7844\n"
     ]
    },
    {
     "name": "stderr",
     "output_type": "stream",
     "text": [
      "WARNING:absl:Found untraced functions such as _jit_compiled_convolution_op, _jit_compiled_convolution_op while saving (showing 2 of 2). These functions will not be directly callable after loading.\n"
     ]
    },
    {
     "name": "stdout",
     "output_type": "stream",
     "text": [
      "INFO:tensorflow:Assets written to: 1677681523-conv-2-nodes-32-dense-1.model\\assets\n"
     ]
    },
    {
     "name": "stderr",
     "output_type": "stream",
     "text": [
      "INFO:tensorflow:Assets written to: 1677681523-conv-2-nodes-32-dense-1.model\\assets\n"
     ]
    },
    {
     "name": "stdout",
     "output_type": "stream",
     "text": [
      "1677681578-conv-3-nodes-32-dense-1\n",
      "Epoch 1/10\n",
      "619/619 [==============================] - 6s 9ms/step - loss: 0.6383 - accuracy: 0.6282 - val_loss: 0.5875 - val_accuracy: 0.6931\n",
      "Epoch 2/10\n",
      "619/619 [==============================] - 5s 9ms/step - loss: 0.5285 - accuracy: 0.7380 - val_loss: 0.4845 - val_accuracy: 0.7701\n",
      "Epoch 3/10\n",
      "619/619 [==============================] - 5s 9ms/step - loss: 0.4659 - accuracy: 0.7795 - val_loss: 0.4388 - val_accuracy: 0.8010\n",
      "Epoch 4/10\n",
      "619/619 [==============================] - 5s 9ms/step - loss: 0.4311 - accuracy: 0.7964 - val_loss: 0.4366 - val_accuracy: 0.7961\n",
      "Epoch 5/10\n",
      "619/619 [==============================] - 6s 9ms/step - loss: 0.4050 - accuracy: 0.8159 - val_loss: 0.4034 - val_accuracy: 0.8147\n",
      "Epoch 6/10\n",
      "619/619 [==============================] - 5s 9ms/step - loss: 0.3779 - accuracy: 0.8265 - val_loss: 0.4382 - val_accuracy: 0.8008\n",
      "Epoch 7/10\n",
      "619/619 [==============================] - 6s 9ms/step - loss: 0.3530 - accuracy: 0.8422 - val_loss: 0.3922 - val_accuracy: 0.8200\n",
      "Epoch 8/10\n",
      "619/619 [==============================] - 6s 9ms/step - loss: 0.3292 - accuracy: 0.8546 - val_loss: 0.3705 - val_accuracy: 0.8323\n",
      "Epoch 9/10\n",
      "619/619 [==============================] - 6s 10ms/step - loss: 0.3112 - accuracy: 0.8643 - val_loss: 0.4001 - val_accuracy: 0.8228\n",
      "Epoch 10/10\n",
      "619/619 [==============================] - 6s 10ms/step - loss: 0.2838 - accuracy: 0.8770 - val_loss: 0.3808 - val_accuracy: 0.8313\n"
     ]
    },
    {
     "name": "stderr",
     "output_type": "stream",
     "text": [
      "WARNING:absl:Found untraced functions such as _jit_compiled_convolution_op, _jit_compiled_convolution_op, _jit_compiled_convolution_op while saving (showing 3 of 3). These functions will not be directly callable after loading.\n"
     ]
    },
    {
     "name": "stdout",
     "output_type": "stream",
     "text": [
      "INFO:tensorflow:Assets written to: 1677681578-conv-3-nodes-32-dense-1.model\\assets\n"
     ]
    },
    {
     "name": "stderr",
     "output_type": "stream",
     "text": [
      "INFO:tensorflow:Assets written to: 1677681578-conv-3-nodes-32-dense-1.model\\assets\n"
     ]
    },
    {
     "name": "stdout",
     "output_type": "stream",
     "text": [
      "1677681638-conv-1-nodes-64-dense-1\n",
      "Epoch 1/10\n",
      "619/619 [==============================] - 7s 10ms/step - loss: 0.6529 - accuracy: 0.6141 - val_loss: 0.5895 - val_accuracy: 0.6959\n",
      "Epoch 2/10\n",
      "619/619 [==============================] - 6s 10ms/step - loss: 0.5531 - accuracy: 0.7201 - val_loss: 0.5511 - val_accuracy: 0.7199\n",
      "Epoch 3/10\n",
      "619/619 [==============================] - 6s 9ms/step - loss: 0.4988 - accuracy: 0.7592 - val_loss: 0.5259 - val_accuracy: 0.7371\n",
      "Epoch 4/10\n",
      "619/619 [==============================] - 6s 9ms/step - loss: 0.4607 - accuracy: 0.7810 - val_loss: 0.5126 - val_accuracy: 0.7563\n",
      "Epoch 5/10\n",
      "619/619 [==============================] - 6s 10ms/step - loss: 0.4275 - accuracy: 0.7992 - val_loss: 0.5139 - val_accuracy: 0.7482\n",
      "Epoch 6/10\n",
      "619/619 [==============================] - 6s 10ms/step - loss: 0.3943 - accuracy: 0.8199 - val_loss: 0.5462 - val_accuracy: 0.7448\n",
      "Epoch 7/10\n",
      "619/619 [==============================] - 6s 10ms/step - loss: 0.3641 - accuracy: 0.8351 - val_loss: 0.5440 - val_accuracy: 0.7460\n",
      "Epoch 8/10\n",
      "619/619 [==============================] - 6s 10ms/step - loss: 0.3317 - accuracy: 0.8524 - val_loss: 0.5724 - val_accuracy: 0.7420\n",
      "Epoch 9/10\n",
      "619/619 [==============================] - 6s 9ms/step - loss: 0.2911 - accuracy: 0.8762 - val_loss: 0.5827 - val_accuracy: 0.7434\n",
      "Epoch 10/10\n",
      "619/619 [==============================] - 6s 10ms/step - loss: 0.2531 - accuracy: 0.8940 - val_loss: 0.6310 - val_accuracy: 0.7470\n"
     ]
    },
    {
     "name": "stderr",
     "output_type": "stream",
     "text": [
      "WARNING:absl:Found untraced functions such as _jit_compiled_convolution_op while saving (showing 1 of 1). These functions will not be directly callable after loading.\n"
     ]
    },
    {
     "name": "stdout",
     "output_type": "stream",
     "text": [
      "INFO:tensorflow:Assets written to: 1677681638-conv-1-nodes-64-dense-1.model\\assets\n"
     ]
    },
    {
     "name": "stderr",
     "output_type": "stream",
     "text": [
      "INFO:tensorflow:Assets written to: 1677681638-conv-1-nodes-64-dense-1.model\\assets\n"
     ]
    },
    {
     "name": "stdout",
     "output_type": "stream",
     "text": [
      "1677681700-conv-2-nodes-64-dense-1\n",
      "Epoch 1/10\n",
      "619/619 [==============================] - 7s 11ms/step - loss: 0.6439 - accuracy: 0.6172 - val_loss: 0.5876 - val_accuracy: 0.6933\n",
      "Epoch 2/10\n",
      "619/619 [==============================] - 7s 11ms/step - loss: 0.5604 - accuracy: 0.7113 - val_loss: 0.5438 - val_accuracy: 0.7272\n",
      "Epoch 3/10\n",
      "619/619 [==============================] - 7s 11ms/step - loss: 0.4986 - accuracy: 0.7593 - val_loss: 0.5006 - val_accuracy: 0.7571\n",
      "Epoch 4/10\n",
      "619/619 [==============================] - 6s 10ms/step - loss: 0.4469 - accuracy: 0.7885 - val_loss: 0.4768 - val_accuracy: 0.7725\n",
      "Epoch 5/10\n",
      "619/619 [==============================] - 7s 11ms/step - loss: 0.3996 - accuracy: 0.8183 - val_loss: 0.4910 - val_accuracy: 0.7648\n",
      "Epoch 6/10\n",
      "619/619 [==============================] - 6s 10ms/step - loss: 0.3474 - accuracy: 0.8435 - val_loss: 0.4883 - val_accuracy: 0.7812\n",
      "Epoch 7/10\n",
      "619/619 [==============================] - 7s 11ms/step - loss: 0.2845 - accuracy: 0.8798 - val_loss: 0.4953 - val_accuracy: 0.7739\n",
      "Epoch 8/10\n",
      "619/619 [==============================] - 7s 11ms/step - loss: 0.2253 - accuracy: 0.9071 - val_loss: 0.5764 - val_accuracy: 0.7721\n",
      "Epoch 9/10\n",
      "619/619 [==============================] - 7s 11ms/step - loss: 0.1570 - accuracy: 0.9408 - val_loss: 0.6157 - val_accuracy: 0.7688\n",
      "Epoch 10/10\n",
      "619/619 [==============================] - 6s 10ms/step - loss: 0.1020 - accuracy: 0.9642 - val_loss: 0.7555 - val_accuracy: 0.7634\n"
     ]
    },
    {
     "name": "stderr",
     "output_type": "stream",
     "text": [
      "WARNING:absl:Found untraced functions such as _jit_compiled_convolution_op, _jit_compiled_convolution_op while saving (showing 2 of 2). These functions will not be directly callable after loading.\n"
     ]
    },
    {
     "name": "stdout",
     "output_type": "stream",
     "text": [
      "INFO:tensorflow:Assets written to: 1677681700-conv-2-nodes-64-dense-1.model\\assets\n"
     ]
    },
    {
     "name": "stderr",
     "output_type": "stream",
     "text": [
      "INFO:tensorflow:Assets written to: 1677681700-conv-2-nodes-64-dense-1.model\\assets\n"
     ]
    },
    {
     "name": "stdout",
     "output_type": "stream",
     "text": [
      "1677681768-conv-3-nodes-64-dense-1\n",
      "Epoch 1/10\n",
      "619/619 [==============================] - 8s 12ms/step - loss: 0.6276 - accuracy: 0.6347 - val_loss: 0.5405 - val_accuracy: 0.7228\n",
      "Epoch 2/10\n",
      "619/619 [==============================] - 7s 11ms/step - loss: 0.4981 - accuracy: 0.7579 - val_loss: 0.4684 - val_accuracy: 0.7838\n",
      "Epoch 3/10\n",
      "619/619 [==============================] - 7s 12ms/step - loss: 0.4413 - accuracy: 0.7931 - val_loss: 0.4386 - val_accuracy: 0.8040\n",
      "Epoch 4/10\n",
      "619/619 [==============================] - 7s 12ms/step - loss: 0.3951 - accuracy: 0.8186 - val_loss: 0.4244 - val_accuracy: 0.8056\n",
      "Epoch 5/10\n",
      "619/619 [==============================] - 7s 11ms/step - loss: 0.3504 - accuracy: 0.8419 - val_loss: 0.3779 - val_accuracy: 0.8287\n",
      "Epoch 6/10\n",
      "619/619 [==============================] - 8s 13ms/step - loss: 0.3059 - accuracy: 0.8660 - val_loss: 0.3639 - val_accuracy: 0.8367\n",
      "Epoch 7/10\n",
      "619/619 [==============================] - 7s 11ms/step - loss: 0.2815 - accuracy: 0.8787 - val_loss: 0.3715 - val_accuracy: 0.8422\n",
      "Epoch 8/10\n",
      "619/619 [==============================] - 7s 11ms/step - loss: 0.2421 - accuracy: 0.8965 - val_loss: 0.3950 - val_accuracy: 0.8353\n",
      "Epoch 9/10\n",
      "619/619 [==============================] - 7s 11ms/step - loss: 0.2082 - accuracy: 0.9149 - val_loss: 0.4441 - val_accuracy: 0.8238\n",
      "Epoch 10/10\n",
      "619/619 [==============================] - 7s 11ms/step - loss: 0.1785 - accuracy: 0.9253 - val_loss: 0.4212 - val_accuracy: 0.8434\n"
     ]
    },
    {
     "name": "stderr",
     "output_type": "stream",
     "text": [
      "WARNING:absl:Found untraced functions such as _jit_compiled_convolution_op, _jit_compiled_convolution_op, _jit_compiled_convolution_op while saving (showing 3 of 3). These functions will not be directly callable after loading.\n"
     ]
    },
    {
     "name": "stdout",
     "output_type": "stream",
     "text": [
      "INFO:tensorflow:Assets written to: 1677681768-conv-3-nodes-64-dense-1.model\\assets\n"
     ]
    },
    {
     "name": "stderr",
     "output_type": "stream",
     "text": [
      "INFO:tensorflow:Assets written to: 1677681768-conv-3-nodes-64-dense-1.model\\assets\n"
     ]
    },
    {
     "name": "stdout",
     "output_type": "stream",
     "text": [
      "1677681842-conv-1-nodes-128-dense-1\n",
      "Epoch 1/10\n",
      "619/619 [==============================] - 11s 16ms/step - loss: 0.6291 - accuracy: 0.6671 - val_loss: 0.5553 - val_accuracy: 0.7169\n",
      "Epoch 2/10\n",
      "619/619 [==============================] - 9s 15ms/step - loss: 0.5098 - accuracy: 0.7513 - val_loss: 0.5384 - val_accuracy: 0.7270\n",
      "Epoch 3/10\n",
      "619/619 [==============================] - 9s 15ms/step - loss: 0.4303 - accuracy: 0.7986 - val_loss: 0.5397 - val_accuracy: 0.7446\n",
      "Epoch 4/10\n",
      "619/619 [==============================] - 9s 15ms/step - loss: 0.3320 - accuracy: 0.8536 - val_loss: 0.5370 - val_accuracy: 0.7519\n",
      "Epoch 5/10\n",
      "619/619 [==============================] - 10s 16ms/step - loss: 0.2207 - accuracy: 0.9117 - val_loss: 0.6357 - val_accuracy: 0.7494\n",
      "Epoch 6/10\n",
      "619/619 [==============================] - 10s 16ms/step - loss: 0.1284 - accuracy: 0.9532 - val_loss: 0.8036 - val_accuracy: 0.7395\n",
      "Epoch 7/10\n",
      "619/619 [==============================] - 9s 15ms/step - loss: 0.0772 - accuracy: 0.9752 - val_loss: 0.9083 - val_accuracy: 0.7486\n",
      "Epoch 8/10\n",
      "619/619 [==============================] - 9s 15ms/step - loss: 0.0436 - accuracy: 0.9884 - val_loss: 1.0740 - val_accuracy: 0.7511\n",
      "Epoch 9/10\n",
      "619/619 [==============================] - 9s 15ms/step - loss: 0.0312 - accuracy: 0.9915 - val_loss: 1.1908 - val_accuracy: 0.7393\n",
      "Epoch 10/10\n",
      "619/619 [==============================] - 9s 15ms/step - loss: 0.0317 - accuracy: 0.9907 - val_loss: 1.3293 - val_accuracy: 0.7292\n"
     ]
    },
    {
     "name": "stderr",
     "output_type": "stream",
     "text": [
      "WARNING:absl:Found untraced functions such as _jit_compiled_convolution_op while saving (showing 1 of 1). These functions will not be directly callable after loading.\n"
     ]
    },
    {
     "name": "stdout",
     "output_type": "stream",
     "text": [
      "INFO:tensorflow:Assets written to: 1677681842-conv-1-nodes-128-dense-1.model\\assets\n"
     ]
    },
    {
     "name": "stderr",
     "output_type": "stream",
     "text": [
      "INFO:tensorflow:Assets written to: 1677681842-conv-1-nodes-128-dense-1.model\\assets\n"
     ]
    },
    {
     "name": "stdout",
     "output_type": "stream",
     "text": [
      "1677681940-conv-2-nodes-128-dense-1\n",
      "Epoch 1/10\n",
      "619/619 [==============================] - 11s 17ms/step - loss: 0.6309 - accuracy: 0.6380 - val_loss: 0.5974 - val_accuracy: 0.6822\n",
      "Epoch 2/10\n",
      "619/619 [==============================] - 11s 18ms/step - loss: 0.5220 - accuracy: 0.7405 - val_loss: 0.4878 - val_accuracy: 0.7707\n",
      "Epoch 3/10\n",
      "619/619 [==============================] - 10s 17ms/step - loss: 0.4674 - accuracy: 0.7764 - val_loss: 0.5158 - val_accuracy: 0.7543\n",
      "Epoch 4/10\n",
      "619/619 [==============================] - 11s 17ms/step - loss: 0.4202 - accuracy: 0.8050 - val_loss: 0.4450 - val_accuracy: 0.7927\n",
      "Epoch 5/10\n",
      "619/619 [==============================] - 10s 17ms/step - loss: 0.3757 - accuracy: 0.8300 - val_loss: 0.4525 - val_accuracy: 0.7985\n",
      "Epoch 6/10\n",
      "619/619 [==============================] - 10s 17ms/step - loss: 0.3187 - accuracy: 0.8607 - val_loss: 0.4561 - val_accuracy: 0.8032\n",
      "Epoch 7/10\n",
      "619/619 [==============================] - 10s 17ms/step - loss: 0.2528 - accuracy: 0.8941 - val_loss: 0.5142 - val_accuracy: 0.7994\n",
      "Epoch 8/10\n",
      "619/619 [==============================] - 10s 17ms/step - loss: 0.1836 - accuracy: 0.9267 - val_loss: 0.5798 - val_accuracy: 0.7866\n",
      "Epoch 9/10\n",
      "619/619 [==============================] - 10s 17ms/step - loss: 0.1187 - accuracy: 0.9561 - val_loss: 0.6487 - val_accuracy: 0.7895\n",
      "Epoch 10/10\n",
      "619/619 [==============================] - 10s 17ms/step - loss: 0.0712 - accuracy: 0.9745 - val_loss: 0.8167 - val_accuracy: 0.7886\n"
     ]
    },
    {
     "name": "stderr",
     "output_type": "stream",
     "text": [
      "WARNING:absl:Found untraced functions such as _jit_compiled_convolution_op, _jit_compiled_convolution_op while saving (showing 2 of 2). These functions will not be directly callable after loading.\n"
     ]
    },
    {
     "name": "stdout",
     "output_type": "stream",
     "text": [
      "INFO:tensorflow:Assets written to: 1677681940-conv-2-nodes-128-dense-1.model\\assets\n"
     ]
    },
    {
     "name": "stderr",
     "output_type": "stream",
     "text": [
      "INFO:tensorflow:Assets written to: 1677681940-conv-2-nodes-128-dense-1.model\\assets\n"
     ]
    },
    {
     "name": "stdout",
     "output_type": "stream",
     "text": [
      "1677682047-conv-3-nodes-128-dense-1\n",
      "Epoch 1/10\n",
      "619/619 [==============================] - 12s 19ms/step - loss: 0.6715 - accuracy: 0.5762 - val_loss: 0.6115 - val_accuracy: 0.6830\n",
      "Epoch 2/10\n",
      "619/619 [==============================] - 11s 18ms/step - loss: 0.5697 - accuracy: 0.7044 - val_loss: 0.5387 - val_accuracy: 0.7307\n",
      "Epoch 3/10\n",
      "619/619 [==============================] - 11s 18ms/step - loss: 0.4834 - accuracy: 0.7682 - val_loss: 0.4869 - val_accuracy: 0.7755\n",
      "Epoch 4/10\n",
      "619/619 [==============================] - 11s 18ms/step - loss: 0.4233 - accuracy: 0.8035 - val_loss: 0.4879 - val_accuracy: 0.7668\n",
      "Epoch 5/10\n",
      "619/619 [==============================] - 11s 18ms/step - loss: 0.3750 - accuracy: 0.8292 - val_loss: 0.4045 - val_accuracy: 0.8139\n",
      "Epoch 6/10\n",
      "619/619 [==============================] - 11s 18ms/step - loss: 0.3266 - accuracy: 0.8575 - val_loss: 0.4243 - val_accuracy: 0.8127\n",
      "Epoch 7/10\n",
      "619/619 [==============================] - 11s 17ms/step - loss: 0.2749 - accuracy: 0.8806 - val_loss: 0.4002 - val_accuracy: 0.8266\n",
      "Epoch 8/10\n",
      "619/619 [==============================] - 11s 17ms/step - loss: 0.2247 - accuracy: 0.9047 - val_loss: 0.4179 - val_accuracy: 0.8228\n",
      "Epoch 9/10\n",
      "619/619 [==============================] - 11s 18ms/step - loss: 0.1744 - accuracy: 0.9284 - val_loss: 0.5303 - val_accuracy: 0.8119\n",
      "Epoch 10/10\n",
      "619/619 [==============================] - 11s 17ms/step - loss: 0.1297 - accuracy: 0.9491 - val_loss: 0.5257 - val_accuracy: 0.8242\n"
     ]
    },
    {
     "name": "stderr",
     "output_type": "stream",
     "text": [
      "WARNING:absl:Found untraced functions such as _jit_compiled_convolution_op, _jit_compiled_convolution_op, _jit_compiled_convolution_op while saving (showing 3 of 3). These functions will not be directly callable after loading.\n"
     ]
    },
    {
     "name": "stdout",
     "output_type": "stream",
     "text": [
      "INFO:tensorflow:Assets written to: 1677682047-conv-3-nodes-128-dense-1.model\\assets\n"
     ]
    },
    {
     "name": "stderr",
     "output_type": "stream",
     "text": [
      "INFO:tensorflow:Assets written to: 1677682047-conv-3-nodes-128-dense-1.model\\assets\n"
     ]
    },
    {
     "name": "stdout",
     "output_type": "stream",
     "text": [
      "1677682160-conv-1-nodes-32-dense-2\n",
      "Epoch 1/10\n",
      "619/619 [==============================] - 6s 8ms/step - loss: 0.6001 - accuracy: 0.6708 - val_loss: 0.5638 - val_accuracy: 0.7058\n",
      "Epoch 2/10\n",
      "619/619 [==============================] - 5s 8ms/step - loss: 0.5051 - accuracy: 0.7563 - val_loss: 0.6017 - val_accuracy: 0.6983\n",
      "Epoch 3/10\n",
      "619/619 [==============================] - 5s 8ms/step - loss: 0.4302 - accuracy: 0.7989 - val_loss: 0.5342 - val_accuracy: 0.7492\n",
      "Epoch 4/10\n",
      "619/619 [==============================] - 5s 8ms/step - loss: 0.3465 - accuracy: 0.8483 - val_loss: 0.5809 - val_accuracy: 0.7395\n",
      "Epoch 5/10\n",
      "619/619 [==============================] - 5s 8ms/step - loss: 0.2616 - accuracy: 0.8903 - val_loss: 0.6390 - val_accuracy: 0.7432\n",
      "Epoch 6/10\n",
      "619/619 [==============================] - 5s 8ms/step - loss: 0.1720 - accuracy: 0.9314 - val_loss: 0.8163 - val_accuracy: 0.7244\n",
      "Epoch 7/10\n",
      "619/619 [==============================] - 5s 8ms/step - loss: 0.1107 - accuracy: 0.9588 - val_loss: 0.9562 - val_accuracy: 0.7391\n",
      "Epoch 8/10\n",
      "619/619 [==============================] - 5s 8ms/step - loss: 0.0737 - accuracy: 0.9744 - val_loss: 1.2337 - val_accuracy: 0.7393\n",
      "Epoch 9/10\n",
      "619/619 [==============================] - 5s 8ms/step - loss: 0.0612 - accuracy: 0.9791 - val_loss: 1.3054 - val_accuracy: 0.7298\n",
      "Epoch 10/10\n",
      "619/619 [==============================] - 5s 8ms/step - loss: 0.0468 - accuracy: 0.9845 - val_loss: 1.3353 - val_accuracy: 0.7307\n"
     ]
    },
    {
     "name": "stderr",
     "output_type": "stream",
     "text": [
      "WARNING:absl:Found untraced functions such as _jit_compiled_convolution_op while saving (showing 1 of 1). These functions will not be directly callable after loading.\n"
     ]
    },
    {
     "name": "stdout",
     "output_type": "stream",
     "text": [
      "INFO:tensorflow:Assets written to: 1677682160-conv-1-nodes-32-dense-2.model\\assets\n"
     ]
    },
    {
     "name": "stderr",
     "output_type": "stream",
     "text": [
      "INFO:tensorflow:Assets written to: 1677682160-conv-1-nodes-32-dense-2.model\\assets\n"
     ]
    },
    {
     "name": "stdout",
     "output_type": "stream",
     "text": [
      "1677682213-conv-2-nodes-32-dense-2\n",
      "Epoch 1/10\n",
      "619/619 [==============================] - 7s 10ms/step - loss: 0.6272 - accuracy: 0.6394 - val_loss: 0.5478 - val_accuracy: 0.7169\n",
      "Epoch 2/10\n",
      "619/619 [==============================] - 6s 10ms/step - loss: 0.5168 - accuracy: 0.7505 - val_loss: 0.5105 - val_accuracy: 0.7614\n",
      "Epoch 3/10\n",
      "619/619 [==============================] - 6s 10ms/step - loss: 0.4558 - accuracy: 0.7881 - val_loss: 0.4587 - val_accuracy: 0.7882\n",
      "Epoch 4/10\n",
      "619/619 [==============================] - 5s 9ms/step - loss: 0.4004 - accuracy: 0.8173 - val_loss: 0.4422 - val_accuracy: 0.7996\n",
      "Epoch 5/10\n",
      "619/619 [==============================] - 5s 9ms/step - loss: 0.3510 - accuracy: 0.8446 - val_loss: 0.4353 - val_accuracy: 0.8048\n",
      "Epoch 6/10\n",
      "619/619 [==============================] - 5s 9ms/step - loss: 0.3005 - accuracy: 0.8710 - val_loss: 0.4858 - val_accuracy: 0.8014\n",
      "Epoch 7/10\n",
      "619/619 [==============================] - 5s 9ms/step - loss: 0.2508 - accuracy: 0.8949 - val_loss: 0.5135 - val_accuracy: 0.7957\n",
      "Epoch 8/10\n",
      "619/619 [==============================] - 5s 9ms/step - loss: 0.2088 - accuracy: 0.9155 - val_loss: 0.5901 - val_accuracy: 0.7888\n",
      "Epoch 9/10\n",
      "619/619 [==============================] - 6s 9ms/step - loss: 0.1611 - accuracy: 0.9358 - val_loss: 0.6764 - val_accuracy: 0.7812\n",
      "Epoch 10/10\n",
      "619/619 [==============================] - 5s 9ms/step - loss: 0.1286 - accuracy: 0.9522 - val_loss: 0.8237 - val_accuracy: 0.7697\n"
     ]
    },
    {
     "name": "stderr",
     "output_type": "stream",
     "text": [
      "WARNING:absl:Found untraced functions such as _jit_compiled_convolution_op, _jit_compiled_convolution_op while saving (showing 2 of 2). These functions will not be directly callable after loading.\n"
     ]
    },
    {
     "name": "stdout",
     "output_type": "stream",
     "text": [
      "INFO:tensorflow:Assets written to: 1677682213-conv-2-nodes-32-dense-2.model\\assets\n"
     ]
    },
    {
     "name": "stderr",
     "output_type": "stream",
     "text": [
      "INFO:tensorflow:Assets written to: 1677682213-conv-2-nodes-32-dense-2.model\\assets\n"
     ]
    },
    {
     "name": "stdout",
     "output_type": "stream",
     "text": [
      "1677682271-conv-3-nodes-32-dense-2\n",
      "Epoch 1/10\n",
      "619/619 [==============================] - 8s 11ms/step - loss: 0.6271 - accuracy: 0.6358 - val_loss: 0.5453 - val_accuracy: 0.7199\n",
      "Epoch 2/10\n",
      "619/619 [==============================] - 6s 10ms/step - loss: 0.5176 - accuracy: 0.7437 - val_loss: 0.4767 - val_accuracy: 0.7783\n",
      "Epoch 3/10\n",
      "619/619 [==============================] - 6s 10ms/step - loss: 0.4626 - accuracy: 0.7810 - val_loss: 0.4501 - val_accuracy: 0.7893\n",
      "Epoch 4/10\n",
      "619/619 [==============================] - 6s 10ms/step - loss: 0.4169 - accuracy: 0.8069 - val_loss: 0.4348 - val_accuracy: 0.8016\n",
      "Epoch 5/10\n",
      "619/619 [==============================] - 6s 9ms/step - loss: 0.3805 - accuracy: 0.8264 - val_loss: 0.4536 - val_accuracy: 0.7893\n",
      "Epoch 6/10\n",
      "619/619 [==============================] - 6s 9ms/step - loss: 0.3472 - accuracy: 0.8476 - val_loss: 0.4002 - val_accuracy: 0.8206\n",
      "Epoch 7/10\n",
      "619/619 [==============================] - 6s 9ms/step - loss: 0.3127 - accuracy: 0.8648 - val_loss: 0.4196 - val_accuracy: 0.8169\n",
      "Epoch 8/10\n",
      "619/619 [==============================] - 6s 9ms/step - loss: 0.2820 - accuracy: 0.8801 - val_loss: 0.4118 - val_accuracy: 0.8307\n",
      "Epoch 9/10\n",
      "619/619 [==============================] - 6s 9ms/step - loss: 0.2636 - accuracy: 0.8864 - val_loss: 0.3959 - val_accuracy: 0.8260\n",
      "Epoch 10/10\n",
      "619/619 [==============================] - 6s 10ms/step - loss: 0.2337 - accuracy: 0.9008 - val_loss: 0.4284 - val_accuracy: 0.8285\n"
     ]
    },
    {
     "name": "stderr",
     "output_type": "stream",
     "text": [
      "WARNING:absl:Found untraced functions such as _jit_compiled_convolution_op, _jit_compiled_convolution_op, _jit_compiled_convolution_op while saving (showing 3 of 3). These functions will not be directly callable after loading.\n"
     ]
    },
    {
     "name": "stdout",
     "output_type": "stream",
     "text": [
      "INFO:tensorflow:Assets written to: 1677682271-conv-3-nodes-32-dense-2.model\\assets\n"
     ]
    },
    {
     "name": "stderr",
     "output_type": "stream",
     "text": [
      "INFO:tensorflow:Assets written to: 1677682271-conv-3-nodes-32-dense-2.model\\assets\n"
     ]
    },
    {
     "name": "stdout",
     "output_type": "stream",
     "text": [
      "1677682335-conv-1-nodes-64-dense-2\n",
      "Epoch 1/10\n",
      "619/619 [==============================] - 7s 10ms/step - loss: 0.6102 - accuracy: 0.6625 - val_loss: 0.5803 - val_accuracy: 0.7034\n",
      "Epoch 2/10\n",
      "619/619 [==============================] - 6s 10ms/step - loss: 0.5095 - accuracy: 0.7542 - val_loss: 0.5406 - val_accuracy: 0.7270\n",
      "Epoch 3/10\n",
      "619/619 [==============================] - 6s 10ms/step - loss: 0.4465 - accuracy: 0.7890 - val_loss: 0.5180 - val_accuracy: 0.7503\n",
      "Epoch 4/10\n",
      "619/619 [==============================] - 6s 10ms/step - loss: 0.3790 - accuracy: 0.8292 - val_loss: 0.6228 - val_accuracy: 0.7381\n",
      "Epoch 5/10\n",
      "619/619 [==============================] - 6s 10ms/step - loss: 0.2960 - accuracy: 0.8712 - val_loss: 0.6578 - val_accuracy: 0.7363\n",
      "Epoch 6/10\n",
      "619/619 [==============================] - 6s 10ms/step - loss: 0.2139 - accuracy: 0.9116 - val_loss: 0.7341 - val_accuracy: 0.7333\n",
      "Epoch 7/10\n",
      "619/619 [==============================] - 6s 10ms/step - loss: 0.1381 - accuracy: 0.9471 - val_loss: 0.9296 - val_accuracy: 0.7276\n",
      "Epoch 8/10\n",
      "619/619 [==============================] - 6s 10ms/step - loss: 0.0940 - accuracy: 0.9644 - val_loss: 1.1657 - val_accuracy: 0.7333\n",
      "Epoch 9/10\n",
      "619/619 [==============================] - 6s 10ms/step - loss: 0.0745 - accuracy: 0.9745 - val_loss: 1.3211 - val_accuracy: 0.7258\n",
      "Epoch 10/10\n",
      "619/619 [==============================] - 6s 10ms/step - loss: 0.0527 - accuracy: 0.9820 - val_loss: 1.5920 - val_accuracy: 0.7024\n"
     ]
    },
    {
     "name": "stderr",
     "output_type": "stream",
     "text": [
      "WARNING:absl:Found untraced functions such as _jit_compiled_convolution_op while saving (showing 1 of 1). These functions will not be directly callable after loading.\n"
     ]
    },
    {
     "name": "stdout",
     "output_type": "stream",
     "text": [
      "INFO:tensorflow:Assets written to: 1677682335-conv-1-nodes-64-dense-2.model\\assets\n"
     ]
    },
    {
     "name": "stderr",
     "output_type": "stream",
     "text": [
      "INFO:tensorflow:Assets written to: 1677682335-conv-1-nodes-64-dense-2.model\\assets\n"
     ]
    },
    {
     "name": "stdout",
     "output_type": "stream",
     "text": [
      "1677682401-conv-2-nodes-64-dense-2\n",
      "Epoch 1/10\n",
      "619/619 [==============================] - 8s 11ms/step - loss: 0.6323 - accuracy: 0.6303 - val_loss: 0.5440 - val_accuracy: 0.7292\n",
      "Epoch 2/10\n",
      "619/619 [==============================] - 7s 11ms/step - loss: 0.5146 - accuracy: 0.7486 - val_loss: 0.4967 - val_accuracy: 0.7610\n",
      "Epoch 3/10\n",
      "619/619 [==============================] - 7s 11ms/step - loss: 0.4496 - accuracy: 0.7876 - val_loss: 0.4573 - val_accuracy: 0.7838\n",
      "Epoch 4/10\n",
      "619/619 [==============================] - 7s 11ms/step - loss: 0.3867 - accuracy: 0.8258 - val_loss: 0.4502 - val_accuracy: 0.7969\n",
      "Epoch 5/10\n",
      "619/619 [==============================] - 7s 11ms/step - loss: 0.3215 - accuracy: 0.8576 - val_loss: 0.4692 - val_accuracy: 0.7955\n",
      "Epoch 6/10\n",
      "619/619 [==============================] - 7s 11ms/step - loss: 0.2478 - accuracy: 0.8959 - val_loss: 0.5864 - val_accuracy: 0.7840\n",
      "Epoch 7/10\n",
      "619/619 [==============================] - 7s 11ms/step - loss: 0.1809 - accuracy: 0.9263 - val_loss: 0.6266 - val_accuracy: 0.7860\n",
      "Epoch 8/10\n",
      "619/619 [==============================] - 7s 11ms/step - loss: 0.1226 - accuracy: 0.9524 - val_loss: 0.7816 - val_accuracy: 0.7767\n",
      "Epoch 9/10\n",
      "619/619 [==============================] - 7s 11ms/step - loss: 0.0793 - accuracy: 0.9710 - val_loss: 0.9362 - val_accuracy: 0.7755\n",
      "Epoch 10/10\n",
      "619/619 [==============================] - 7s 11ms/step - loss: 0.0689 - accuracy: 0.9739 - val_loss: 1.0517 - val_accuracy: 0.7707\n"
     ]
    },
    {
     "name": "stderr",
     "output_type": "stream",
     "text": [
      "WARNING:absl:Found untraced functions such as _jit_compiled_convolution_op, _jit_compiled_convolution_op while saving (showing 2 of 2). These functions will not be directly callable after loading.\n"
     ]
    },
    {
     "name": "stdout",
     "output_type": "stream",
     "text": [
      "INFO:tensorflow:Assets written to: 1677682401-conv-2-nodes-64-dense-2.model\\assets\n"
     ]
    },
    {
     "name": "stderr",
     "output_type": "stream",
     "text": [
      "INFO:tensorflow:Assets written to: 1677682401-conv-2-nodes-64-dense-2.model\\assets\n"
     ]
    },
    {
     "name": "stdout",
     "output_type": "stream",
     "text": [
      "1677682472-conv-3-nodes-64-dense-2\n",
      "Epoch 1/10\n",
      "619/619 [==============================] - 8s 12ms/step - loss: 0.6478 - accuracy: 0.6118 - val_loss: 0.6172 - val_accuracy: 0.6749\n",
      "Epoch 2/10\n",
      "619/619 [==============================] - 7s 11ms/step - loss: 0.5208 - accuracy: 0.7407 - val_loss: 0.4840 - val_accuracy: 0.7731\n",
      "Epoch 3/10\n",
      "619/619 [==============================] - 7s 11ms/step - loss: 0.4371 - accuracy: 0.7962 - val_loss: 0.4186 - val_accuracy: 0.8036\n",
      "Epoch 4/10\n",
      "619/619 [==============================] - 7s 11ms/step - loss: 0.3785 - accuracy: 0.8286 - val_loss: 0.4001 - val_accuracy: 0.8173\n",
      "Epoch 5/10\n",
      "619/619 [==============================] - 7s 12ms/step - loss: 0.3300 - accuracy: 0.8558 - val_loss: 0.4101 - val_accuracy: 0.8175\n",
      "Epoch 6/10\n",
      "619/619 [==============================] - 7s 11ms/step - loss: 0.2849 - accuracy: 0.8784 - val_loss: 0.4026 - val_accuracy: 0.8343\n",
      "Epoch 7/10\n",
      "619/619 [==============================] - 7s 11ms/step - loss: 0.2319 - accuracy: 0.9019 - val_loss: 0.4349 - val_accuracy: 0.8262\n",
      "Epoch 8/10\n",
      "619/619 [==============================] - 7s 12ms/step - loss: 0.1907 - accuracy: 0.9216 - val_loss: 0.4470 - val_accuracy: 0.8258\n",
      "Epoch 9/10\n",
      "619/619 [==============================] - 7s 12ms/step - loss: 0.1438 - accuracy: 0.9425 - val_loss: 0.4939 - val_accuracy: 0.8268\n",
      "Epoch 10/10\n",
      "619/619 [==============================] - 7s 12ms/step - loss: 0.1193 - accuracy: 0.9541 - val_loss: 0.5908 - val_accuracy: 0.8230\n"
     ]
    },
    {
     "name": "stderr",
     "output_type": "stream",
     "text": [
      "WARNING:absl:Found untraced functions such as _jit_compiled_convolution_op, _jit_compiled_convolution_op, _jit_compiled_convolution_op while saving (showing 3 of 3). These functions will not be directly callable after loading.\n"
     ]
    },
    {
     "name": "stdout",
     "output_type": "stream",
     "text": [
      "INFO:tensorflow:Assets written to: 1677682472-conv-3-nodes-64-dense-2.model\\assets\n"
     ]
    },
    {
     "name": "stderr",
     "output_type": "stream",
     "text": [
      "INFO:tensorflow:Assets written to: 1677682472-conv-3-nodes-64-dense-2.model\\assets\n"
     ]
    },
    {
     "name": "stdout",
     "output_type": "stream",
     "text": [
      "1677682547-conv-1-nodes-128-dense-2\n",
      "Epoch 1/10\n",
      "619/619 [==============================] - 10s 16ms/step - loss: 0.6202 - accuracy: 0.6652 - val_loss: 0.5577 - val_accuracy: 0.7167\n",
      "Epoch 2/10\n",
      "619/619 [==============================] - 9s 15ms/step - loss: 0.4895 - accuracy: 0.7632 - val_loss: 0.5236 - val_accuracy: 0.7494\n",
      "Epoch 3/10\n",
      "619/619 [==============================] - 9s 15ms/step - loss: 0.3763 - accuracy: 0.8296 - val_loss: 0.5526 - val_accuracy: 0.7452\n",
      "Epoch 4/10\n",
      "619/619 [==============================] - 9s 15ms/step - loss: 0.2262 - accuracy: 0.9055 - val_loss: 0.6773 - val_accuracy: 0.7408\n",
      "Epoch 5/10\n",
      "619/619 [==============================] - 9s 15ms/step - loss: 0.1115 - accuracy: 0.9588 - val_loss: 1.0350 - val_accuracy: 0.7246\n",
      "Epoch 6/10\n",
      "619/619 [==============================] - 9s 15ms/step - loss: 0.0617 - accuracy: 0.9782 - val_loss: 1.1430 - val_accuracy: 0.7387\n",
      "Epoch 7/10\n",
      "619/619 [==============================] - 9s 15ms/step - loss: 0.0481 - accuracy: 0.9837 - val_loss: 1.4570 - val_accuracy: 0.7359\n",
      "Epoch 8/10\n",
      "619/619 [==============================] - 9s 15ms/step - loss: 0.0380 - accuracy: 0.9873 - val_loss: 1.5745 - val_accuracy: 0.7307\n",
      "Epoch 9/10\n",
      "619/619 [==============================] - 9s 15ms/step - loss: 0.0286 - accuracy: 0.9907 - val_loss: 1.7113 - val_accuracy: 0.7238\n",
      "Epoch 10/10\n",
      "619/619 [==============================] - 9s 15ms/step - loss: 0.0277 - accuracy: 0.9915 - val_loss: 1.8262 - val_accuracy: 0.7109\n"
     ]
    },
    {
     "name": "stderr",
     "output_type": "stream",
     "text": [
      "WARNING:absl:Found untraced functions such as _jit_compiled_convolution_op while saving (showing 1 of 1). These functions will not be directly callable after loading.\n"
     ]
    },
    {
     "name": "stdout",
     "output_type": "stream",
     "text": [
      "INFO:tensorflow:Assets written to: 1677682547-conv-1-nodes-128-dense-2.model\\assets\n"
     ]
    },
    {
     "name": "stderr",
     "output_type": "stream",
     "text": [
      "INFO:tensorflow:Assets written to: 1677682547-conv-1-nodes-128-dense-2.model\\assets\n"
     ]
    },
    {
     "name": "stdout",
     "output_type": "stream",
     "text": [
      "1677682644-conv-2-nodes-128-dense-2\n",
      "Epoch 1/10\n",
      "619/619 [==============================] - 12s 18ms/step - loss: 0.6580 - accuracy: 0.6089 - val_loss: 0.6319 - val_accuracy: 0.6498\n",
      "Epoch 2/10\n",
      "619/619 [==============================] - 11s 17ms/step - loss: 0.5800 - accuracy: 0.6978 - val_loss: 0.5431 - val_accuracy: 0.7305\n",
      "Epoch 3/10\n",
      "619/619 [==============================] - 11s 17ms/step - loss: 0.5028 - accuracy: 0.7561 - val_loss: 0.5303 - val_accuracy: 0.7377\n",
      "Epoch 4/10\n",
      "619/619 [==============================] - 11s 17ms/step - loss: 0.4281 - accuracy: 0.8030 - val_loss: 0.5118 - val_accuracy: 0.7543\n",
      "Epoch 5/10\n",
      "619/619 [==============================] - 11s 17ms/step - loss: 0.3225 - accuracy: 0.8609 - val_loss: 0.5337 - val_accuracy: 0.7616\n",
      "Epoch 6/10\n",
      "619/619 [==============================] - 11s 17ms/step - loss: 0.2042 - accuracy: 0.9183 - val_loss: 0.6997 - val_accuracy: 0.7600\n",
      "Epoch 7/10\n",
      "619/619 [==============================] - 11s 17ms/step - loss: 0.1068 - accuracy: 0.9604 - val_loss: 0.9229 - val_accuracy: 0.7527\n",
      "Epoch 8/10\n",
      "619/619 [==============================] - 10s 17ms/step - loss: 0.0565 - accuracy: 0.9797 - val_loss: 1.1716 - val_accuracy: 0.7579\n",
      "Epoch 9/10\n",
      "619/619 [==============================] - 10s 17ms/step - loss: 0.0407 - accuracy: 0.9870 - val_loss: 1.3436 - val_accuracy: 0.7551\n",
      "Epoch 10/10\n",
      "619/619 [==============================] - 10s 17ms/step - loss: 0.0369 - accuracy: 0.9879 - val_loss: 1.4927 - val_accuracy: 0.7527\n"
     ]
    },
    {
     "name": "stderr",
     "output_type": "stream",
     "text": [
      "WARNING:absl:Found untraced functions such as _jit_compiled_convolution_op, _jit_compiled_convolution_op while saving (showing 2 of 2). These functions will not be directly callable after loading.\n"
     ]
    },
    {
     "name": "stdout",
     "output_type": "stream",
     "text": [
      "INFO:tensorflow:Assets written to: 1677682644-conv-2-nodes-128-dense-2.model\\assets\n"
     ]
    },
    {
     "name": "stderr",
     "output_type": "stream",
     "text": [
      "INFO:tensorflow:Assets written to: 1677682644-conv-2-nodes-128-dense-2.model\\assets\n"
     ]
    },
    {
     "name": "stdout",
     "output_type": "stream",
     "text": [
      "1677682753-conv-3-nodes-128-dense-2\n",
      "Epoch 1/10\n",
      "619/619 [==============================] - 12s 18ms/step - loss: 0.6575 - accuracy: 0.5924 - val_loss: 0.6047 - val_accuracy: 0.6775\n",
      "Epoch 2/10\n",
      "619/619 [==============================] - 11s 18ms/step - loss: 0.5322 - accuracy: 0.7326 - val_loss: 0.5079 - val_accuracy: 0.7517\n",
      "Epoch 3/10\n",
      "619/619 [==============================] - 11s 18ms/step - loss: 0.4471 - accuracy: 0.7934 - val_loss: 0.4626 - val_accuracy: 0.7826\n",
      "Epoch 4/10\n",
      "619/619 [==============================] - 11s 17ms/step - loss: 0.3930 - accuracy: 0.8199 - val_loss: 0.4525 - val_accuracy: 0.7876\n",
      "Epoch 5/10\n",
      "619/619 [==============================] - 11s 18ms/step - loss: 0.3372 - accuracy: 0.8507 - val_loss: 0.4089 - val_accuracy: 0.8095\n",
      "Epoch 6/10\n",
      "619/619 [==============================] - 11s 17ms/step - loss: 0.2822 - accuracy: 0.8785 - val_loss: 0.3919 - val_accuracy: 0.8301\n",
      "Epoch 7/10\n",
      "619/619 [==============================] - 11s 18ms/step - loss: 0.2297 - accuracy: 0.9037 - val_loss: 0.4033 - val_accuracy: 0.8278\n",
      "Epoch 8/10\n",
      "619/619 [==============================] - 11s 17ms/step - loss: 0.1796 - accuracy: 0.9255 - val_loss: 0.4885 - val_accuracy: 0.8268\n",
      "Epoch 9/10\n",
      "619/619 [==============================] - 11s 17ms/step - loss: 0.1353 - accuracy: 0.9469 - val_loss: 0.5364 - val_accuracy: 0.8248\n",
      "Epoch 10/10\n",
      "619/619 [==============================] - 11s 18ms/step - loss: 0.1014 - accuracy: 0.9607 - val_loss: 0.6464 - val_accuracy: 0.8258\n"
     ]
    },
    {
     "name": "stderr",
     "output_type": "stream",
     "text": [
      "WARNING:absl:Found untraced functions such as _jit_compiled_convolution_op, _jit_compiled_convolution_op, _jit_compiled_convolution_op while saving (showing 3 of 3). These functions will not be directly callable after loading.\n"
     ]
    },
    {
     "name": "stdout",
     "output_type": "stream",
     "text": [
      "INFO:tensorflow:Assets written to: 1677682753-conv-3-nodes-128-dense-2.model\\assets\n"
     ]
    },
    {
     "name": "stderr",
     "output_type": "stream",
     "text": [
      "INFO:tensorflow:Assets written to: 1677682753-conv-3-nodes-128-dense-2.model\\assets\n"
     ]
    }
   ],
   "source": [
    "\n",
    "pickle_in = open(\"X.pickle\",\"rb\")\n",
    "X = pickle.load(pickle_in)\n",
    "\n",
    "pickle_in = open(\"y.pickle\",\"rb\")\n",
    "y = pickle.load(pickle_in)\n",
    "\n",
    "X = X/255.0\n",
    "X = np.array(X)\n",
    "y = np.array(y)\n",
    "\n",
    "dense_layers = [0, 1, 2]\n",
    "layer_sizes = [32, 64, 128]\n",
    "conv_layers = [1, 2, 3]\n",
    "\n",
    "for dense_layer in dense_layers:\n",
    "    for layer_size in layer_sizes:\n",
    "        for conv_layer in conv_layers:\n",
    "            NAME = f\"{int(time.time())}-conv-{conv_layer}-nodes-{layer_size}-dense-{dense_layer}\"\n",
    "            print(NAME)\n",
    "\n",
    "            model = Sequential()\n",
    "\n",
    "            model.add(Conv2D(layer_size, (3, 3), input_shape=X.shape[1:]))\n",
    "            model.add(Activation('relu'))\n",
    "            model.add(MaxPooling2D(pool_size=(2, 2)))\n",
    "\n",
    "            for l in range(conv_layer-1):\n",
    "                model.add(Conv2D(layer_size, (3, 3)))\n",
    "                model.add(Activation('relu'))\n",
    "                model.add(MaxPooling2D(pool_size=(2, 2)))\n",
    "\n",
    "            model.add(Flatten())\n",
    "\n",
    "            for _ in range(dense_layer):\n",
    "                model.add(Dense(layer_size))\n",
    "                model.add(Activation('relu'))\n",
    "\n",
    "            model.add(Dense(1))\n",
    "            model.add(Activation('sigmoid'))\n",
    "\n",
    "            tensorboard = TensorBoard(log_dir=\"logs/{}\".format(NAME))\n",
    "\n",
    "            model.compile(loss='binary_crossentropy',\n",
    "                          optimizer='adam',\n",
    "                          metrics=['accuracy'],\n",
    "                          )\n",
    "\n",
    "            model.fit(X, y,\n",
    "                      batch_size=32,\n",
    "                      epochs=10,\n",
    "                      validation_split=0.2,\n",
    "                      callbacks=[tensorboard])\n",
    "            model.save(f\"{NAME}.model\")"
   ]
  },
  {
   "cell_type": "code",
   "execution_count": 4,
   "metadata": {},
   "outputs": [
    {
     "name": "stdout",
     "output_type": "stream",
     "text": [
      "[PhysicalDevice(name='/physical_device:CPU:0', device_type='CPU'), PhysicalDevice(name='/physical_device:GPU:0', device_type='GPU')]\n"
     ]
    },
    {
     "name": "stderr",
     "output_type": "stream",
     "text": [
      "100%|██████████| 101/101 [00:00<00:00, 581.10it/s]\n",
      "100%|██████████| 101/101 [00:00<00:00, 613.11it/s]"
     ]
    },
    {
     "name": "stdout",
     "output_type": "stream",
     "text": [
      "202\n"
     ]
    },
    {
     "name": "stderr",
     "output_type": "stream",
     "text": [
      "\n"
     ]
    }
   ],
   "source": [
    "\n",
    "print(tf.config.list_physical_devices())\n",
    "DATADIR = \"PetImagesTesting\"\n",
    "\n",
    "CATEGORIES = [\"Dog\", \"Cat\"]\n",
    "test_data = []\n",
    "IMG_SIZE = 75\n",
    "def create_test_data():\n",
    "    for category in CATEGORIES:  # do dogs and cats\n",
    "\n",
    "        path = os.path.join(DATADIR,category)  # create path to dogs and cats\n",
    "        class_num = CATEGORIES.index(category)  # get the classification  (0 or a 1). 0=dog 1=cat\n",
    "\n",
    "        for img in tqdm(os.listdir(path)):  # iterate over each image per dogs and cats\n",
    "            try:\n",
    "                img_array = cv2.imread(os.path.join(path,img) ,cv2.IMREAD_GRAYSCALE)  # convert to array\n",
    "                new_array = cv2.resize(img_array, (IMG_SIZE, IMG_SIZE))  # resize to normalize data size\n",
    "                test_data.append([new_array, class_num])  # add this to our training_data\n",
    "            except Exception as e:  # in the interest in keeping the output clean...\n",
    "                pass\n",
    "\n",
    "create_test_data()\n",
    "print(len(test_data))\n",
    "random.shuffle(test_data)\n",
    "a = []\n",
    "b = []\n",
    "\n",
    "for features,label in test_data:\n",
    "    a.append(features)\n",
    "    b.append(label)\n",
    "a = np.array(a).reshape(-1, IMG_SIZE, IMG_SIZE, 1)    \n",
    "a = a/255.0\n",
    "a = np.array(a)\n",
    "b = np.array(b)"
   ]
  },
  {
   "cell_type": "code",
   "execution_count": null,
   "metadata": {},
   "outputs": [],
   "source": []
  },
  {
   "cell_type": "code",
   "execution_count": 2,
   "metadata": {},
   "outputs": [],
   "source": [
    "import tensorflow as tf\n",
    "loaded_model = tf.keras.models.load_model('dogs_cats_75px_models/best/1677681101-conv-3-nodes-64-dense-0.model')\n",
    "# loaded_model = tf.keras.models.load_model('1677682547-conv-1-nodes-128-dense-2.model')\n",
    "# plt.imshow(a[4], cmap='gray')  # graph it\n",
    "# plt.show()  # display!\n",
    "# loaded_model.evaluate(a, b)"
   ]
  },
  {
   "cell_type": "code",
   "execution_count": 3,
   "metadata": {},
   "outputs": [
    {
     "data": {
      "image/png": "[encoded data removed]",
      "text/plain": [
       "<IPython.core.display.Image object>"
      ]
     },
     "execution_count": 3,
     "metadata": {},
     "output_type": "execute_result"
    }
   ],
   "source": [
    "tf.keras.utils.plot_model(loaded_model, to_file='model_architecture.png', show_shapes=True)"
   ]
  },
  {
   "cell_type": "code",
   "execution_count": 4,
   "metadata": {},
   "outputs": [
    {
     "name": "stdout",
     "output_type": "stream",
     "text": [
      "Model: \"sequential_6\"\n",
      "_________________________________________________________________\n",
      " Layer (type)                Output Shape              Param #   \n",
      "=================================================================\n",
      " conv2d_10 (Conv2D)          (None, 73, 73, 64)        640       \n",
      "                                                                 \n",
      " activation_16 (Activation)  (None, 73, 73, 64)        0         \n",
      "                                                                 \n",
      " max_pooling2d_10 (MaxPoolin  (None, 36, 36, 64)       0         \n",
      " g2D)                                                            \n",
      "                                                                 \n",
      " conv2d_11 (Conv2D)          (None, 34, 34, 64)        36928     \n",
      "                                                                 \n",
      " activation_17 (Activation)  (None, 34, 34, 64)        0         \n",
      "                                                                 \n",
      " max_pooling2d_11 (MaxPoolin  (None, 17, 17, 64)       0         \n",
      " g2D)                                                            \n",
      "                                                                 \n",
      " conv2d_12 (Conv2D)          (None, 15, 15, 64)        36928     \n",
      "                                                                 \n",
      " activation_18 (Activation)  (None, 15, 15, 64)        0         \n",
      "                                                                 \n",
      " max_pooling2d_12 (MaxPoolin  (None, 7, 7, 64)         0         \n",
      " g2D)                                                            \n",
      "                                                                 \n",
      " flatten_6 (Flatten)         (None, 3136)              0         \n",
      "                                                                 \n",
      " dense_6 (Dense)             (None, 1)                 3137      \n",
      "                                                                 \n",
      " activation_19 (Activation)  (None, 1)                 0         \n",
      "                                                                 \n",
      "=================================================================\n",
      "Total params: 77,633\n",
      "Trainable params: 77,633\n",
      "Non-trainable params: 0\n",
      "_________________________________________________________________\n"
     ]
    }
   ],
   "source": [
    "loaded_model.summary()"
   ]
  },
  {
   "cell_type": "code",
   "execution_count": 10,
   "metadata": {},
   "outputs": [
    {
     "name": "stdout",
     "output_type": "stream",
     "text": [
      "1677714076-conv-3-nodes-256-dense-0\n",
      "Epoch 1/10\n",
      "696/696 [==============================] - 31s 42ms/step - loss: 0.6500 - accuracy: 0.6096 - val_loss: 0.6013 - val_accuracy: 0.6739\n",
      "Epoch 2/10\n",
      "696/696 [==============================] - 25s 36ms/step - loss: 0.5121 - accuracy: 0.7503 - val_loss: 0.4788 - val_accuracy: 0.7681\n",
      "Epoch 3/10\n",
      "696/696 [==============================] - 24s 35ms/step - loss: 0.4306 - accuracy: 0.8018 - val_loss: 0.4473 - val_accuracy: 0.7891\n",
      "Epoch 4/10\n",
      "696/696 [==============================] - 27s 38ms/step - loss: 0.3743 - accuracy: 0.8314 - val_loss: 0.3862 - val_accuracy: 0.8242\n",
      "Epoch 5/10\n",
      "696/696 [==============================] - 25s 36ms/step - loss: 0.3278 - accuracy: 0.8548 - val_loss: 0.3715 - val_accuracy: 0.8246\n",
      "Epoch 6/10\n",
      "696/696 [==============================] - 26s 37ms/step - loss: 0.2842 - accuracy: 0.8772 - val_loss: 0.3662 - val_accuracy: 0.8364\n",
      "Epoch 7/10\n",
      "696/696 [==============================] - 25s 35ms/step - loss: 0.2493 - accuracy: 0.8938 - val_loss: 0.3359 - val_accuracy: 0.8558\n",
      "Epoch 8/10\n",
      "696/696 [==============================] - 25s 37ms/step - loss: 0.2114 - accuracy: 0.9121 - val_loss: 0.3563 - val_accuracy: 0.8493\n",
      "Epoch 9/10\n",
      "696/696 [==============================] - 25s 35ms/step - loss: 0.1775 - accuracy: 0.9266 - val_loss: 0.3752 - val_accuracy: 0.8521\n",
      "Epoch 10/10\n",
      "696/696 [==============================] - 25s 36ms/step - loss: 0.1453 - accuracy: 0.9408 - val_loss: 0.4395 - val_accuracy: 0.8408\n"
     ]
    },
    {
     "name": "stderr",
     "output_type": "stream",
     "text": [
      "WARNING:absl:Found untraced functions such as _jit_compiled_convolution_op, _jit_compiled_convolution_op, _jit_compiled_convolution_op while saving (showing 3 of 3). These functions will not be directly callable after loading.\n"
     ]
    },
    {
     "name": "stdout",
     "output_type": "stream",
     "text": [
      "INFO:tensorflow:Assets written to: 1677714076-conv-3-nodes-256-dense-0.model\\assets\n"
     ]
    },
    {
     "name": "stderr",
     "output_type": "stream",
     "text": [
      "INFO:tensorflow:Assets written to: 1677714076-conv-3-nodes-256-dense-0.model\\assets\n"
     ]
    },
    {
     "name": "stdout",
     "output_type": "stream",
     "text": [
      "1677714336-conv-4-nodes-256-dense-0\n",
      "Epoch 1/10\n",
      "696/696 [==============================] - 27s 38ms/step - loss: 0.6827 - accuracy: 0.5666 - val_loss: 0.6650 - val_accuracy: 0.6036\n",
      "Epoch 2/10\n",
      "696/696 [==============================] - 26s 37ms/step - loss: 0.6256 - accuracy: 0.6491 - val_loss: 0.6005 - val_accuracy: 0.6921\n",
      "Epoch 3/10\n",
      "696/696 [==============================] - 26s 37ms/step - loss: 0.5366 - accuracy: 0.7283 - val_loss: 0.4875 - val_accuracy: 0.7640\n",
      "Epoch 4/10\n",
      "696/696 [==============================] - 26s 37ms/step - loss: 0.4578 - accuracy: 0.7823 - val_loss: 0.4918 - val_accuracy: 0.7681\n",
      "Epoch 5/10\n",
      "696/696 [==============================] - 25s 37ms/step - loss: 0.3999 - accuracy: 0.8178 - val_loss: 0.4239 - val_accuracy: 0.8101\n",
      "Epoch 6/10\n",
      "696/696 [==============================] - 26s 37ms/step - loss: 0.3521 - accuracy: 0.8435 - val_loss: 0.3945 - val_accuracy: 0.8218\n",
      "Epoch 7/10\n",
      "696/696 [==============================] - 26s 37ms/step - loss: 0.3038 - accuracy: 0.8681 - val_loss: 0.3680 - val_accuracy: 0.8400\n",
      "Epoch 8/10\n",
      "696/696 [==============================] - 26s 37ms/step - loss: 0.2618 - accuracy: 0.8873 - val_loss: 0.3640 - val_accuracy: 0.8509\n",
      "Epoch 9/10\n",
      "696/696 [==============================] - 26s 37ms/step - loss: 0.2254 - accuracy: 0.9052 - val_loss: 0.3987 - val_accuracy: 0.8392\n",
      "Epoch 10/10\n",
      "696/696 [==============================] - 26s 37ms/step - loss: 0.1863 - accuracy: 0.9238 - val_loss: 0.3964 - val_accuracy: 0.8501\n"
     ]
    },
    {
     "name": "stderr",
     "output_type": "stream",
     "text": [
      "WARNING:absl:Found untraced functions such as _jit_compiled_convolution_op, _jit_compiled_convolution_op, _jit_compiled_convolution_op, _jit_compiled_convolution_op while saving (showing 4 of 4). These functions will not be directly callable after loading.\n"
     ]
    },
    {
     "name": "stdout",
     "output_type": "stream",
     "text": [
      "INFO:tensorflow:Assets written to: 1677714336-conv-4-nodes-256-dense-0.model\\assets\n"
     ]
    },
    {
     "name": "stderr",
     "output_type": "stream",
     "text": [
      "INFO:tensorflow:Assets written to: 1677714336-conv-4-nodes-256-dense-0.model\\assets\n"
     ]
    }
   ],
   "source": [
    "pickle_in = open(\"X.pickle\",\"rb\")\n",
    "X = pickle.load(pickle_in)\n",
    "\n",
    "pickle_in = open(\"y.pickle\",\"rb\")\n",
    "y = pickle.load(pickle_in)\n",
    "\n",
    "X = X/255.0\n",
    "X = np.array(X)\n",
    "y = np.array(y)\n",
    "\n",
    "dense_layers = [0]\n",
    "layer_sizes = [256]\n",
    "conv_layers = [3, 4]\n",
    "\n",
    "for dense_layer in dense_layers:\n",
    "    for layer_size in layer_sizes:\n",
    "        for conv_layer in conv_layers:\n",
    "            NAME = f\"{int(time.time())}-conv-{conv_layer}-nodes-{layer_size}-dense-{dense_layer}\"\n",
    "            print(NAME)\n",
    "            layer = 0\n",
    "            model = Sequential()\n",
    "\n",
    "            model.add(Conv2D(layer_size, (3, 3), input_shape=X.shape[1:], name=f\"input_layer{layer}\"))\n",
    "            model.add(Activation('relu'))\n",
    "            model.add(MaxPooling2D(pool_size=(2, 2)))\n",
    "\n",
    "            for l in range(conv_layer-1):\n",
    "                layer += 1\n",
    "                model.add(Conv2D(layer_size, (3, 3), name=f\"layer{layer}\"))\n",
    "                model.add(Activation('relu'))\n",
    "                model.add(MaxPooling2D(pool_size=(2, 2)))\n",
    "\n",
    "            model.add(Flatten())\n",
    "\n",
    "            for _ in range(dense_layer):\n",
    "                layer += 1\n",
    "                model.add(Dense(layer_size, name=f\"layer{layer}\"))\n",
    "                model.add(Activation('relu'))\n",
    "            layer += 1\n",
    "            model.add(Dense(1, name=f\"output_layer{layer}\"))\n",
    "            model.add(Activation('sigmoid'))\n",
    "\n",
    "            tensorboard = TensorBoard(log_dir=\"logs/{}\".format(NAME))\n",
    "\n",
    "            model.compile(loss='binary_crossentropy', optimizer='adam', metrics=['accuracy'])\n",
    "            model.fit(X, y, batch_size=32, epochs=10, validation_split=0.1, callbacks=[tensorboard])\n",
    "            model.save(f\"{NAME}.model\")"
   ]
  },
  {
   "cell_type": "code",
   "execution_count": 11,
   "metadata": {},
   "outputs": [],
   "source": [
    "pickle_in = open(\"X.pickle\",\"rb\")\n",
    "X = pickle.load(pickle_in)\n",
    "\n",
    "pickle_in = open(\"y.pickle\",\"rb\")\n",
    "y = pickle.load(pickle_in)\n",
    "\n",
    "X = X/255.0\n",
    "X = np.array(X)\n",
    "y = np.array(y)"
   ]
  },
  {
   "cell_type": "code",
   "execution_count": 12,
   "metadata": {},
   "outputs": [
    {
     "name": "stdout",
     "output_type": "stream",
     "text": [
      "Epoch 1/10\n",
      "696/696 [==============================] - 8s 10ms/step - loss: 0.2271 - accuracy: 0.9076 - val_loss: 0.3593 - val_accuracy: 0.8477\n",
      "Epoch 2/10\n",
      "696/696 [==============================] - 7s 10ms/step - loss: 0.2124 - accuracy: 0.9128 - val_loss: 0.3802 - val_accuracy: 0.8408\n",
      "Epoch 3/10\n",
      "696/696 [==============================] - 7s 10ms/step - loss: 0.1818 - accuracy: 0.9292 - val_loss: 0.4568 - val_accuracy: 0.8400\n",
      "Epoch 4/10\n",
      "696/696 [==============================] - 7s 10ms/step - loss: 0.1638 - accuracy: 0.9343 - val_loss: 0.4184 - val_accuracy: 0.8392\n",
      "Epoch 5/10\n",
      "696/696 [==============================] - 7s 10ms/step - loss: 0.1527 - accuracy: 0.9392 - val_loss: 0.4036 - val_accuracy: 0.8493\n",
      "Epoch 6/10\n",
      "696/696 [==============================] - 7s 10ms/step - loss: 0.1292 - accuracy: 0.9508 - val_loss: 0.4217 - val_accuracy: 0.8428\n",
      "Epoch 7/10\n",
      "696/696 [==============================] - 7s 10ms/step - loss: 0.1115 - accuracy: 0.9568 - val_loss: 0.4146 - val_accuracy: 0.8537\n",
      "Epoch 8/10\n",
      "696/696 [==============================] - 7s 10ms/step - loss: 0.1001 - accuracy: 0.9614 - val_loss: 0.4411 - val_accuracy: 0.8477\n",
      "Epoch 9/10\n",
      "696/696 [==============================] - 7s 10ms/step - loss: 0.0828 - accuracy: 0.9683 - val_loss: 0.4836 - val_accuracy: 0.8469\n",
      "Epoch 10/10\n",
      "696/696 [==============================] - 7s 10ms/step - loss: 0.0740 - accuracy: 0.9732 - val_loss: 0.5190 - val_accuracy: 0.8428\n"
     ]
    },
    {
     "data": {
      "text/plain": [
       "<keras.callbacks.History at 0x278d1fa8790>"
      ]
     },
     "execution_count": 12,
     "metadata": {},
     "output_type": "execute_result"
    }
   ],
   "source": [
    "loaded_model.fit(X, y, batch_size=32, epochs=10, validation_split=0.1)"
   ]
  },
  {
   "cell_type": "code",
   "execution_count": null,
   "metadata": {},
   "outputs": [],
   "source": [
    "nodes = 64\n",
    "\n",
    "model = Sequential([\n",
    "    Conv2D(256, (3, 3), activation='relu', input_shape=X.shape[1:]),\n",
    "    MaxPooling2D(pool_size=(2, 2)),\n",
    "    Conv2D(256, (3, 3), activation='relu'),\n",
    "    MaxPooling2D(pool_size=(2, 2)),\n",
    "    Flatten(),\n",
    "    Dense(64, activation='relu'),\n",
    "    Dense(1, activation='sigmoid')\n",
    "])\n",
    "model.compile(loss='binary_crossentropy', optimizer='adam', metrics=['accuracy'])"
   ]
  },
  {
   "cell_type": "code",
   "execution_count": 15,
   "metadata": {},
   "outputs": [
    {
     "name": "stdout",
     "output_type": "stream",
     "text": [
      "Epoch 1/10\n",
      "502/696 [====================>.........] - ETA: 1s - loss: 0.0413 - accuracy: 0.9855"
     ]
    },
    {
     "ename": "KeyboardInterrupt",
     "evalue": "",
     "output_type": "error",
     "traceback": [
      "\u001b[1;31m---------------------------------------------------------------------------\u001b[0m",
      "\u001b[1;31mKeyboardInterrupt\u001b[0m                         Traceback (most recent call last)",
      "Cell \u001b[1;32mIn[15], line 2\u001b[0m\n\u001b[0;32m      1\u001b[0m \u001b[39mwith\u001b[39;00m tf\u001b[39m.\u001b[39mdevice(\u001b[39m'\u001b[39m\u001b[39m/GPU:0\u001b[39m\u001b[39m'\u001b[39m):\n\u001b[1;32m----> 2\u001b[0m     loaded_model\u001b[39m.\u001b[39;49mfit(X, y, batch_size\u001b[39m=\u001b[39;49m\u001b[39m32\u001b[39;49m, epochs\u001b[39m=\u001b[39;49m\u001b[39m10\u001b[39;49m, validation_split\u001b[39m=\u001b[39;49m\u001b[39m0.1\u001b[39;49m)\n",
      "File \u001b[1;32mc:\\Users\\Marinus\\miniconda3\\envs\\tfdml_plugin\\lib\\site-packages\\keras\\utils\\traceback_utils.py:65\u001b[0m, in \u001b[0;36mfilter_traceback.<locals>.error_handler\u001b[1;34m(*args, **kwargs)\u001b[0m\n\u001b[0;32m     63\u001b[0m filtered_tb \u001b[39m=\u001b[39m \u001b[39mNone\u001b[39;00m\n\u001b[0;32m     64\u001b[0m \u001b[39mtry\u001b[39;00m:\n\u001b[1;32m---> 65\u001b[0m     \u001b[39mreturn\u001b[39;00m fn(\u001b[39m*\u001b[39margs, \u001b[39m*\u001b[39m\u001b[39m*\u001b[39mkwargs)\n\u001b[0;32m     66\u001b[0m \u001b[39mexcept\u001b[39;00m \u001b[39mException\u001b[39;00m \u001b[39mas\u001b[39;00m e:\n\u001b[0;32m     67\u001b[0m     filtered_tb \u001b[39m=\u001b[39m _process_traceback_frames(e\u001b[39m.\u001b[39m__traceback__)\n",
      "File \u001b[1;32mc:\\Users\\Marinus\\miniconda3\\envs\\tfdml_plugin\\lib\\site-packages\\keras\\engine\\training.py:1555\u001b[0m, in \u001b[0;36mModel.fit\u001b[1;34m(self, x, y, batch_size, epochs, verbose, callbacks, validation_split, validation_data, shuffle, class_weight, sample_weight, initial_epoch, steps_per_epoch, validation_steps, validation_batch_size, validation_freq, max_queue_size, workers, use_multiprocessing)\u001b[0m\n\u001b[0;32m   1551\u001b[0m \u001b[39mwith\u001b[39;00m data_handler\u001b[39m.\u001b[39mcatch_stop_iteration():\n\u001b[0;32m   1552\u001b[0m     data_handler\u001b[39m.\u001b[39m_initial_step \u001b[39m=\u001b[39m data_handler\u001b[39m.\u001b[39m_initial_step \u001b[39mor\u001b[39;00m (\n\u001b[0;32m   1553\u001b[0m         \u001b[39mself\u001b[39m\u001b[39m.\u001b[39m_maybe_load_initial_step_from_ckpt()\n\u001b[0;32m   1554\u001b[0m     )\n\u001b[1;32m-> 1555\u001b[0m     \u001b[39mfor\u001b[39;00m step \u001b[39min\u001b[39;00m data_handler\u001b[39m.\u001b[39msteps():\n\u001b[0;32m   1556\u001b[0m         \u001b[39mwith\u001b[39;00m tf\u001b[39m.\u001b[39mprofiler\u001b[39m.\u001b[39mexperimental\u001b[39m.\u001b[39mTrace(\n\u001b[0;32m   1557\u001b[0m             \u001b[39m\"\u001b[39m\u001b[39mtrain\u001b[39m\u001b[39m\"\u001b[39m,\n\u001b[0;32m   1558\u001b[0m             epoch_num\u001b[39m=\u001b[39mepoch,\n\u001b[1;32m   (...)\u001b[0m\n\u001b[0;32m   1561\u001b[0m             _r\u001b[39m=\u001b[39m\u001b[39m1\u001b[39m,\n\u001b[0;32m   1562\u001b[0m         ):\n\u001b[0;32m   1563\u001b[0m             callbacks\u001b[39m.\u001b[39mon_train_batch_begin(step)\n",
      "File \u001b[1;32mc:\\Users\\Marinus\\miniconda3\\envs\\tfdml_plugin\\lib\\site-packages\\keras\\engine\\data_adapter.py:1374\u001b[0m, in \u001b[0;36mDataHandler.steps\u001b[1;34m(self)\u001b[0m\n\u001b[0;32m   1372\u001b[0m \u001b[39mif\u001b[39;00m \u001b[39mself\u001b[39m\u001b[39m.\u001b[39m_insufficient_data:  \u001b[39m# Set by `catch_stop_iteration`.\u001b[39;00m\n\u001b[0;32m   1373\u001b[0m     \u001b[39mbreak\u001b[39;00m\n\u001b[1;32m-> 1374\u001b[0m original_spe \u001b[39m=\u001b[39m \u001b[39mself\u001b[39;49m\u001b[39m.\u001b[39;49m_steps_per_execution\u001b[39m.\u001b[39;49mnumpy()\u001b[39m.\u001b[39mitem()\n\u001b[0;32m   1375\u001b[0m can_run_full_execution \u001b[39m=\u001b[39m (\n\u001b[0;32m   1376\u001b[0m     original_spe \u001b[39m==\u001b[39m \u001b[39m1\u001b[39m\n\u001b[0;32m   1377\u001b[0m     \u001b[39mor\u001b[39;00m \u001b[39mself\u001b[39m\u001b[39m.\u001b[39m_inferred_steps \u001b[39mis\u001b[39;00m \u001b[39mNone\u001b[39;00m\n\u001b[0;32m   1378\u001b[0m     \u001b[39mor\u001b[39;00m \u001b[39mself\u001b[39m\u001b[39m.\u001b[39m_inferred_steps \u001b[39m-\u001b[39m \u001b[39mself\u001b[39m\u001b[39m.\u001b[39m_current_step \u001b[39m>\u001b[39m\u001b[39m=\u001b[39m original_spe\n\u001b[0;32m   1379\u001b[0m )\n\u001b[0;32m   1381\u001b[0m \u001b[39mif\u001b[39;00m can_run_full_execution:\n",
      "File \u001b[1;32mc:\\Users\\Marinus\\miniconda3\\envs\\tfdml_plugin\\lib\\site-packages\\tensorflow\\python\\ops\\resource_variable_ops.py:637\u001b[0m, in \u001b[0;36mBaseResourceVariable.numpy\u001b[1;34m(self)\u001b[0m\n\u001b[0;32m    635\u001b[0m \u001b[39mdef\u001b[39;00m \u001b[39mnumpy\u001b[39m(\u001b[39mself\u001b[39m):\n\u001b[0;32m    636\u001b[0m   \u001b[39mif\u001b[39;00m context\u001b[39m.\u001b[39mexecuting_eagerly():\n\u001b[1;32m--> 637\u001b[0m     \u001b[39mreturn\u001b[39;00m \u001b[39mself\u001b[39;49m\u001b[39m.\u001b[39;49mread_value()\u001b[39m.\u001b[39;49mnumpy()\n\u001b[0;32m    638\u001b[0m   \u001b[39mraise\u001b[39;00m \u001b[39mNotImplementedError\u001b[39;00m(\n\u001b[0;32m    639\u001b[0m       \u001b[39m\"\u001b[39m\u001b[39mnumpy() is only available when eager execution is enabled.\u001b[39m\u001b[39m\"\u001b[39m)\n",
      "File \u001b[1;32mc:\\Users\\Marinus\\miniconda3\\envs\\tfdml_plugin\\lib\\site-packages\\tensorflow\\python\\framework\\ops.py:1157\u001b[0m, in \u001b[0;36m_EagerTensorBase.numpy\u001b[1;34m(self)\u001b[0m\n\u001b[0;32m   1134\u001b[0m \u001b[39m\u001b[39m\u001b[39m\"\"\"Copy of the contents of this Tensor into a NumPy array or scalar.\u001b[39;00m\n\u001b[0;32m   1135\u001b[0m \n\u001b[0;32m   1136\u001b[0m \u001b[39mUnlike NumPy arrays, Tensors are immutable, so this method has to copy\u001b[39;00m\n\u001b[1;32m   (...)\u001b[0m\n\u001b[0;32m   1154\u001b[0m \u001b[39m    NumPy dtype.\u001b[39;00m\n\u001b[0;32m   1155\u001b[0m \u001b[39m\"\"\"\u001b[39;00m\n\u001b[0;32m   1156\u001b[0m \u001b[39m# TODO(slebedev): Consider avoiding a copy for non-CPU or remote tensors.\u001b[39;00m\n\u001b[1;32m-> 1157\u001b[0m maybe_arr \u001b[39m=\u001b[39m \u001b[39mself\u001b[39;49m\u001b[39m.\u001b[39;49m_numpy()  \u001b[39m# pylint: disable=protected-access\u001b[39;00m\n\u001b[0;32m   1158\u001b[0m \u001b[39mreturn\u001b[39;00m maybe_arr\u001b[39m.\u001b[39mcopy() \u001b[39mif\u001b[39;00m \u001b[39misinstance\u001b[39m(maybe_arr, np\u001b[39m.\u001b[39mndarray) \u001b[39melse\u001b[39;00m maybe_arr\n",
      "File \u001b[1;32mc:\\Users\\Marinus\\miniconda3\\envs\\tfdml_plugin\\lib\\site-packages\\tensorflow\\python\\framework\\ops.py:1123\u001b[0m, in \u001b[0;36m_EagerTensorBase._numpy\u001b[1;34m(self)\u001b[0m\n\u001b[0;32m   1121\u001b[0m \u001b[39mdef\u001b[39;00m \u001b[39m_numpy\u001b[39m(\u001b[39mself\u001b[39m):\n\u001b[0;32m   1122\u001b[0m   \u001b[39mtry\u001b[39;00m:\n\u001b[1;32m-> 1123\u001b[0m     \u001b[39mreturn\u001b[39;00m \u001b[39mself\u001b[39;49m\u001b[39m.\u001b[39;49m_numpy_internal()\n\u001b[0;32m   1124\u001b[0m   \u001b[39mexcept\u001b[39;00m core\u001b[39m.\u001b[39m_NotOkStatusException \u001b[39mas\u001b[39;00m e:  \u001b[39m# pylint: disable=protected-access\u001b[39;00m\n\u001b[0;32m   1125\u001b[0m     \u001b[39mraise\u001b[39;00m core\u001b[39m.\u001b[39m_status_to_exception(e) \u001b[39mfrom\u001b[39;00m \u001b[39mNone\u001b[39m\n",
      "\u001b[1;31mKeyboardInterrupt\u001b[0m: "
     ]
    }
   ],
   "source": [
    "with tf.device('/GPU:0'):\n",
    "    loaded_model.fit(X, y, batch_size=32, epochs=10, validation_split=0.1)"
   ]
  }
 ],
 "metadata": {
  "kernelspec": {
   "display_name": "tfdml_plugin",
   "language": "python",
   "name": "python3"
  },
  "language_info": {
   "codemirror_mode": {
    "name": "ipython",
    "version": 3
   },
   "file_extension": ".py",
   "mimetype": "text/x-python",
   "name": "python",
   "nbconvert_exporter": "python",
   "pygments_lexer": "ipython3",
   "version": "3.9.16"
  },
  "orig_nbformat": 4,
  "vscode": {
   "interpreter": {
    "hash": "875e4b4e929c3fdbe7f8e7c918d390b8d65692722ec0ea2460079e617933596c"
   }
  }
 },
 "nbformat": 4,
 "nbformat_minor": 2
}
