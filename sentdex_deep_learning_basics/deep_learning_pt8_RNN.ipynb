{
 "cells": [
  {
   "cell_type": "code",
   "execution_count": null,
   "metadata": {},
   "outputs": [],
   "source": []
  }
 ],
 "metadata": {
  "kernelspec": {
   "display_name": "venv",
   "language": "python",
   "name": "python3"
  },
  "language_info": {
   "name": "python",
   "version": "3.7.9"
  },
  "orig_nbformat": 4,
  "vscode": {
   "interpreter": {
    "hash": "7867b070d61897beb4bd05ae2b35b7ebd8882af9b4188f096647747da91ecbc0"
   }
  }
 },
 "nbformat": 4,
 "nbformat_minor": 2
}
